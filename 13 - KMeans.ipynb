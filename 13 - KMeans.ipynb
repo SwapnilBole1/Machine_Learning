{
 "cells": [
  {
   "cell_type": "code",
   "execution_count": 2,
   "metadata": {},
   "outputs": [],
   "source": [
    "import pandas as pd\n",
    "import numpy as np"
   ]
  },
  {
   "cell_type": "code",
   "execution_count": 3,
   "metadata": {},
   "outputs": [],
   "source": [
    "df=pd.read_csv('Mall_Customers.csv')"
   ]
  },
  {
   "cell_type": "markdown",
   "metadata": {},
   "source": [
    "# PS: Form a clusters on the basis of Age and Annual Income"
   ]
  },
  {
   "cell_type": "code",
   "execution_count": 4,
   "metadata": {
    "scrolled": true
   },
   "outputs": [
    {
     "data": {
      "text/html": [
       "<div>\n",
       "<style scoped>\n",
       "    .dataframe tbody tr th:only-of-type {\n",
       "        vertical-align: middle;\n",
       "    }\n",
       "\n",
       "    .dataframe tbody tr th {\n",
       "        vertical-align: top;\n",
       "    }\n",
       "\n",
       "    .dataframe thead th {\n",
       "        text-align: right;\n",
       "    }\n",
       "</style>\n",
       "<table border=\"1\" class=\"dataframe\">\n",
       "  <thead>\n",
       "    <tr style=\"text-align: right;\">\n",
       "      <th></th>\n",
       "      <th>CustomerID</th>\n",
       "      <th>Genre</th>\n",
       "      <th>Age</th>\n",
       "      <th>Annual Income (k$)</th>\n",
       "      <th>Spending Score (1-100)</th>\n",
       "    </tr>\n",
       "  </thead>\n",
       "  <tbody>\n",
       "    <tr>\n",
       "      <th>0</th>\n",
       "      <td>1</td>\n",
       "      <td>Male</td>\n",
       "      <td>19</td>\n",
       "      <td>15</td>\n",
       "      <td>39</td>\n",
       "    </tr>\n",
       "    <tr>\n",
       "      <th>1</th>\n",
       "      <td>2</td>\n",
       "      <td>Male</td>\n",
       "      <td>21</td>\n",
       "      <td>15</td>\n",
       "      <td>81</td>\n",
       "    </tr>\n",
       "    <tr>\n",
       "      <th>2</th>\n",
       "      <td>3</td>\n",
       "      <td>Female</td>\n",
       "      <td>20</td>\n",
       "      <td>16</td>\n",
       "      <td>6</td>\n",
       "    </tr>\n",
       "    <tr>\n",
       "      <th>3</th>\n",
       "      <td>4</td>\n",
       "      <td>Female</td>\n",
       "      <td>23</td>\n",
       "      <td>16</td>\n",
       "      <td>77</td>\n",
       "    </tr>\n",
       "    <tr>\n",
       "      <th>4</th>\n",
       "      <td>5</td>\n",
       "      <td>Female</td>\n",
       "      <td>31</td>\n",
       "      <td>17</td>\n",
       "      <td>40</td>\n",
       "    </tr>\n",
       "  </tbody>\n",
       "</table>\n",
       "</div>"
      ],
      "text/plain": [
       "   CustomerID   Genre  Age  Annual Income (k$)  Spending Score (1-100)\n",
       "0           1    Male   19                  15                      39\n",
       "1           2    Male   21                  15                      81\n",
       "2           3  Female   20                  16                       6\n",
       "3           4  Female   23                  16                      77\n",
       "4           5  Female   31                  17                      40"
      ]
     },
     "execution_count": 4,
     "metadata": {},
     "output_type": "execute_result"
    }
   ],
   "source": [
    "df.head()"
   ]
  },
  {
   "cell_type": "code",
   "execution_count": 5,
   "metadata": {},
   "outputs": [],
   "source": [
    "X = df.iloc[:,[2,3]].values"
   ]
  },
  {
   "cell_type": "code",
   "execution_count": 6,
   "metadata": {},
   "outputs": [
    {
     "data": {
      "text/plain": [
       "array([[19, 15],\n",
       "       [21, 15],\n",
       "       [20, 16]], dtype=int64)"
      ]
     },
     "execution_count": 6,
     "metadata": {},
     "output_type": "execute_result"
    }
   ],
   "source": [
    "X[:3] #age adnd Income"
   ]
  },
  {
   "cell_type": "code",
   "execution_count": 7,
   "metadata": {},
   "outputs": [
    {
     "data": {
      "text/plain": [
       "<matplotlib.collections.PathCollection at 0x18798360d60>"
      ]
     },
     "execution_count": 7,
     "metadata": {},
     "output_type": "execute_result"
    },
    {
     "data": {
      "image/png": "[encoded data removed]",
      "text/plain": [
       "<Figure size 432x288 with 1 Axes>"
      ]
     },
     "metadata": {
      "needs_background": "light"
     },
     "output_type": "display_data"
    }
   ],
   "source": [
    "import matplotlib.pyplot as plt\n",
    "plt.scatter(df.Age,df['Annual Income (k$)'])"
   ]
  },
  {
   "cell_type": "markdown",
   "metadata": {},
   "source": [
    "# Import algorithm"
   ]
  },
  {
   "cell_type": "code",
   "execution_count": 8,
   "metadata": {},
   "outputs": [],
   "source": [
    "from sklearn.cluster import KMeans"
   ]
  },
  {
   "cell_type": "code",
   "execution_count": 9,
   "metadata": {},
   "outputs": [
    {
     "data": {
      "text/plain": [
       "KMeans()"
      ]
     },
     "execution_count": 9,
     "metadata": {},
     "output_type": "execute_result"
    }
   ],
   "source": [
    "KMeans()"
   ]
  },
  {
   "cell_type": "markdown",
   "metadata": {},
   "source": [
    "# crate an object"
   ]
  },
  {
   "cell_type": "code",
   "execution_count": 10,
   "metadata": {},
   "outputs": [],
   "source": [
    "km = KMeans(n_clusters=3)"
   ]
  },
  {
   "cell_type": "markdown",
   "metadata": {},
   "source": [
    "# Training phase"
   ]
  },
  {
   "cell_type": "code",
   "execution_count": 11,
   "metadata": {},
   "outputs": [
    {
     "data": {
      "text/plain": [
       "KMeans(n_clusters=3)"
      ]
     },
     "execution_count": 11,
     "metadata": {},
     "output_type": "execute_result"
    }
   ],
   "source": [
    "#training of X: as its Unsupervised learning we only have input X\n",
    "km.fit(X)"
   ]
  },
  {
   "cell_type": "code",
   "execution_count": 12,
   "metadata": {
    "scrolled": true
   },
   "outputs": [
    {
     "data": {
      "text/plain": [
       "59486.96143928036"
      ]
     },
     "execution_count": 12,
     "metadata": {},
     "output_type": "execute_result"
    }
   ],
   "source": [
    "km.inertia_ "
   ]
  },
  {
   "cell_type": "code",
   "execution_count": 13,
   "metadata": {},
   "outputs": [
    {
     "data": {
      "text/plain": [
       "array([[55.03448276, 50.34482759],\n",
       "       [34.34782609, 82.82608696],\n",
       "       [28.36      , 31.44      ]])"
      ]
     },
     "execution_count": 13,
     "metadata": {},
     "output_type": "execute_result"
    }
   ],
   "source": [
    "km.cluster_centers_"
   ]
  },
  {
   "cell_type": "code",
   "execution_count": 14,
   "metadata": {
    "scrolled": true
   },
   "outputs": [
    {
     "data": {
      "text/plain": [
       "<matplotlib.collections.PathCollection at 0x1879ae30fd0>"
      ]
     },
     "execution_count": 14,
     "metadata": {},
     "output_type": "execute_result"
    },
    {
     "data": {
      "image/png": "[encoded data removed]",
      "text/plain": [
       "<Figure size 432x288 with 1 Axes>"
      ]
     },
     "metadata": {
      "needs_background": "light"
     },
     "output_type": "display_data"
    }
   ],
   "source": [
    "plt.scatter(km.cluster_centers_[:,0],km.cluster_centers_[:,1],marker='*',color='r')"
   ]
  },
  {
   "cell_type": "markdown",
   "metadata": {},
   "source": [
    "## WCSS????\n",
    "- WCSS means within-cluster Sum of square \n",
    "- WCSS is the sum of squared distance between each point and the centroid in a cluster\n",
    "- as number of cluster increases value of WCSS decreases"
   ]
  },
  {
   "cell_type": "code",
   "execution_count": 15,
   "metadata": {
    "scrolled": true
   },
   "outputs": [
    {
     "name": "stderr",
     "output_type": "stream",
     "text": [
      "C:\\Users\\HP\\anaconda3\\lib\\site-packages\\sklearn\\cluster\\_kmeans.py:1036: UserWarning: KMeans is known to have a memory leak on Windows with MKL, when there are less chunks than available threads. You can avoid it by setting the environment variable OMP_NUM_THREADS=1.\n",
      "  warnings.warn(\n"
     ]
    }
   ],
   "source": [
    "# Elbow method:\n",
    "WCSS=[]\n",
    "for i in range(1,11):\n",
    "    km=KMeans(n_clusters=i)\n",
    "    km.fit(X)\n",
    "    WCSS.append(km.inertia_)\n",
    "    "
   ]
  },
  {
   "cell_type": "code",
   "execution_count": 16,
   "metadata": {},
   "outputs": [
    {
     "data": {
      "text/plain": [
       "[176108.78000000003,\n",
       " 87121.56591478697,\n",
       " 59525.857573798756,\n",
       " 39529.88796736351,\n",
       " 31662.412142758716,\n",
       " 25460.54737191027,\n",
       " 22090.990552770818,\n",
       " 18779.04890708706,\n",
       " 16416.377635046112,\n",
       " 13816.202357457243]"
      ]
     },
     "execution_count": 16,
     "metadata": {},
     "output_type": "execute_result"
    }
   ],
   "source": [
    "WCSS"
   ]
  },
  {
   "cell_type": "code",
   "execution_count": 17,
   "metadata": {},
   "outputs": [],
   "source": [
    "import matplotlib.pyplot as plt\n",
    "%matplotlib inline\n"
   ]
  },
  {
   "cell_type": "code",
   "execution_count": 18,
   "metadata": {},
   "outputs": [
    {
     "data": {
      "text/plain": [
       "[<matplotlib.lines.Line2D at 0x1879b340370>]"
      ]
     },
     "execution_count": 18,
     "metadata": {},
     "output_type": "execute_result"
    },
    {
     "data": {
      "image/png": "[encoded data removed]",
      "text/plain": [
       "<Figure size 432x288 with 1 Axes>"
      ]
     },
     "metadata": {
      "needs_background": "light"
     },
     "output_type": "display_data"
    }
   ],
   "source": [
    "plt.plot(range(1,11),WCSS,marker='*')"
   ]
  },
  {
   "cell_type": "code",
   "execution_count": 19,
   "metadata": {},
   "outputs": [],
   "source": [
    "#from above graph will select cluster = 4\n",
    "km=KMeans(n_clusters=4)"
   ]
  },
  {
   "cell_type": "code",
   "execution_count": 20,
   "metadata": {},
   "outputs": [
    {
     "data": {
      "text/plain": [
       "KMeans(n_clusters=4)"
      ]
     },
     "execution_count": 20,
     "metadata": {},
     "output_type": "execute_result"
    }
   ],
   "source": [
    "km"
   ]
  },
  {
   "cell_type": "code",
   "execution_count": 21,
   "metadata": {},
   "outputs": [],
   "source": [
    "#testing phase: use fit_predict(input)\n",
    "Y_predict=km.fit_predict(X)"
   ]
  },
  {
   "cell_type": "code",
   "execution_count": 22,
   "metadata": {},
   "outputs": [
    {
     "data": {
      "text/plain": [
       "array([2, 2, 2, 2, 2, 2, 2, 2, 0, 2, 0, 2, 2, 2, 2, 2, 2, 2, 2, 2, 2, 2,\n",
       "       2, 2, 2, 2, 2, 2, 2, 2, 0, 2, 0, 2, 2, 2, 2, 2, 2, 2, 0, 2, 0, 2,\n",
       "       0, 2, 0, 2, 2, 2, 0, 2, 2, 0, 0, 0, 0, 0, 2, 0, 0, 2, 0, 0, 0, 2,\n",
       "       0, 0, 2, 2, 0, 0, 0, 0, 0, 1, 0, 0, 1, 0, 0, 0, 0, 0, 1, 0, 0, 1,\n",
       "       1, 0, 0, 1, 0, 1, 1, 1, 0, 1, 0, 1, 1, 0, 0, 1, 0, 1, 0, 0, 0, 0,\n",
       "       0, 1, 1, 1, 1, 1, 0, 0, 0, 0, 1, 1, 1, 1, 1, 1, 1, 1, 0, 1, 1, 1,\n",
       "       1, 1, 1, 1, 1, 1, 1, 1, 0, 1, 1, 1, 1, 1, 1, 1, 1, 1, 1, 1, 1, 1,\n",
       "       1, 1, 1, 1, 1, 1, 1, 1, 1, 1, 1, 1, 1, 1, 1, 1, 1, 1, 1, 1, 3, 1,\n",
       "       3, 1, 3, 3, 3, 3, 3, 3, 3, 3, 3, 3, 3, 3, 3, 3, 3, 3, 3, 3, 3, 3,\n",
       "       3, 3])"
      ]
     },
     "execution_count": 22,
     "metadata": {},
     "output_type": "execute_result"
    }
   ],
   "source": [
    "Y_predict\n",
    "# here we have 0 to 3 clusters total 4"
   ]
  },
  {
   "cell_type": "code",
   "execution_count": 23,
   "metadata": {},
   "outputs": [
    {
     "data": {
      "text/plain": [
       "array([[ 19,  15],\n",
       "       [ 21,  15],\n",
       "       [ 20,  16],\n",
       "       [ 23,  16],\n",
       "       [ 31,  17],\n",
       "       [ 22,  17],\n",
       "       [ 35,  18],\n",
       "       [ 23,  18],\n",
       "       [ 64,  19],\n",
       "       [ 30,  19],\n",
       "       [ 67,  19],\n",
       "       [ 35,  19],\n",
       "       [ 58,  20],\n",
       "       [ 24,  20],\n",
       "       [ 37,  20],\n",
       "       [ 22,  20],\n",
       "       [ 35,  21],\n",
       "       [ 20,  21],\n",
       "       [ 52,  23],\n",
       "       [ 35,  23],\n",
       "       [ 35,  24],\n",
       "       [ 25,  24],\n",
       "       [ 46,  25],\n",
       "       [ 31,  25],\n",
       "       [ 54,  28],\n",
       "       [ 29,  28],\n",
       "       [ 45,  28],\n",
       "       [ 35,  28],\n",
       "       [ 40,  29],\n",
       "       [ 23,  29],\n",
       "       [ 60,  30],\n",
       "       [ 21,  30],\n",
       "       [ 53,  33],\n",
       "       [ 18,  33],\n",
       "       [ 49,  33],\n",
       "       [ 21,  33],\n",
       "       [ 42,  34],\n",
       "       [ 30,  34],\n",
       "       [ 36,  37],\n",
       "       [ 20,  37],\n",
       "       [ 65,  38],\n",
       "       [ 24,  38],\n",
       "       [ 48,  39],\n",
       "       [ 31,  39],\n",
       "       [ 49,  39],\n",
       "       [ 24,  39],\n",
       "       [ 50,  40],\n",
       "       [ 27,  40],\n",
       "       [ 29,  40],\n",
       "       [ 31,  40],\n",
       "       [ 49,  42],\n",
       "       [ 33,  42],\n",
       "       [ 31,  43],\n",
       "       [ 59,  43],\n",
       "       [ 50,  43],\n",
       "       [ 47,  43],\n",
       "       [ 51,  44],\n",
       "       [ 69,  44],\n",
       "       [ 27,  46],\n",
       "       [ 53,  46],\n",
       "       [ 70,  46],\n",
       "       [ 19,  46],\n",
       "       [ 67,  47],\n",
       "       [ 54,  47],\n",
       "       [ 63,  48],\n",
       "       [ 18,  48],\n",
       "       [ 43,  48],\n",
       "       [ 68,  48],\n",
       "       [ 19,  48],\n",
       "       [ 32,  48],\n",
       "       [ 70,  49],\n",
       "       [ 47,  49],\n",
       "       [ 60,  50],\n",
       "       [ 60,  50],\n",
       "       [ 59,  54],\n",
       "       [ 26,  54],\n",
       "       [ 45,  54],\n",
       "       [ 40,  54],\n",
       "       [ 23,  54],\n",
       "       [ 49,  54],\n",
       "       [ 57,  54],\n",
       "       [ 38,  54],\n",
       "       [ 67,  54],\n",
       "       [ 46,  54],\n",
       "       [ 21,  54],\n",
       "       [ 48,  54],\n",
       "       [ 55,  57],\n",
       "       [ 22,  57],\n",
       "       [ 34,  58],\n",
       "       [ 50,  58],\n",
       "       [ 68,  59],\n",
       "       [ 18,  59],\n",
       "       [ 48,  60],\n",
       "       [ 40,  60],\n",
       "       [ 32,  60],\n",
       "       [ 24,  60],\n",
       "       [ 47,  60],\n",
       "       [ 27,  60],\n",
       "       [ 48,  61],\n",
       "       [ 20,  61],\n",
       "       [ 23,  62],\n",
       "       [ 49,  62],\n",
       "       [ 67,  62],\n",
       "       [ 26,  62],\n",
       "       [ 49,  62],\n",
       "       [ 21,  62],\n",
       "       [ 66,  63],\n",
       "       [ 54,  63],\n",
       "       [ 68,  63],\n",
       "       [ 66,  63],\n",
       "       [ 65,  63],\n",
       "       [ 19,  63],\n",
       "       [ 38,  64],\n",
       "       [ 19,  64],\n",
       "       [ 18,  65],\n",
       "       [ 19,  65],\n",
       "       [ 63,  65],\n",
       "       [ 49,  65],\n",
       "       [ 51,  67],\n",
       "       [ 50,  67],\n",
       "       [ 27,  67],\n",
       "       [ 38,  67],\n",
       "       [ 40,  69],\n",
       "       [ 39,  69],\n",
       "       [ 23,  70],\n",
       "       [ 31,  70],\n",
       "       [ 43,  71],\n",
       "       [ 40,  71],\n",
       "       [ 59,  71],\n",
       "       [ 38,  71],\n",
       "       [ 47,  71],\n",
       "       [ 39,  71],\n",
       "       [ 25,  72],\n",
       "       [ 31,  72],\n",
       "       [ 20,  73],\n",
       "       [ 29,  73],\n",
       "       [ 44,  73],\n",
       "       [ 32,  73],\n",
       "       [ 19,  74],\n",
       "       [ 35,  74],\n",
       "       [ 57,  75],\n",
       "       [ 32,  75],\n",
       "       [ 28,  76],\n",
       "       [ 32,  76],\n",
       "       [ 25,  77],\n",
       "       [ 28,  77],\n",
       "       [ 48,  77],\n",
       "       [ 32,  77],\n",
       "       [ 34,  78],\n",
       "       [ 34,  78],\n",
       "       [ 43,  78],\n",
       "       [ 39,  78],\n",
       "       [ 44,  78],\n",
       "       [ 38,  78],\n",
       "       [ 47,  78],\n",
       "       [ 27,  78],\n",
       "       [ 37,  78],\n",
       "       [ 30,  78],\n",
       "       [ 34,  78],\n",
       "       [ 30,  78],\n",
       "       [ 56,  79],\n",
       "       [ 29,  79],\n",
       "       [ 19,  81],\n",
       "       [ 31,  81],\n",
       "       [ 50,  85],\n",
       "       [ 36,  85],\n",
       "       [ 42,  86],\n",
       "       [ 33,  86],\n",
       "       [ 36,  87],\n",
       "       [ 32,  87],\n",
       "       [ 40,  87],\n",
       "       [ 28,  87],\n",
       "       [ 36,  87],\n",
       "       [ 36,  87],\n",
       "       [ 52,  88],\n",
       "       [ 30,  88],\n",
       "       [ 58,  88],\n",
       "       [ 27,  88],\n",
       "       [ 59,  93],\n",
       "       [ 35,  93],\n",
       "       [ 37,  97],\n",
       "       [ 32,  97],\n",
       "       [ 46,  98],\n",
       "       [ 29,  98],\n",
       "       [ 41,  99],\n",
       "       [ 30,  99],\n",
       "       [ 54, 101],\n",
       "       [ 28, 101],\n",
       "       [ 41, 103],\n",
       "       [ 36, 103],\n",
       "       [ 34, 103],\n",
       "       [ 32, 103],\n",
       "       [ 33, 113],\n",
       "       [ 38, 113],\n",
       "       [ 47, 120],\n",
       "       [ 35, 120],\n",
       "       [ 45, 126],\n",
       "       [ 32, 126],\n",
       "       [ 32, 137],\n",
       "       [ 30, 137]], dtype=int64)"
      ]
     },
     "execution_count": 23,
     "metadata": {},
     "output_type": "execute_result"
    }
   ],
   "source": [
    "X"
   ]
  },
  {
   "cell_type": "code",
   "execution_count": 27,
   "metadata": {},
   "outputs": [
    {
     "data": {
      "text/plain": [
       "<matplotlib.legend.Legend at 0x1879b40bf40>"
      ]
     },
     "execution_count": 27,
     "metadata": {},
     "output_type": "execute_result"
    },
    {
     "data": {
      "image/png": "[encoded data removed]",
      "text/plain": [
       "<Figure size 432x288 with 1 Axes>"
      ]
     },
     "metadata": {
      "needs_background": "light"
     },
     "output_type": "display_data"
    }
   ],
   "source": [
    "import matplotlib.pyplot as plt\n",
    "%matplotlib inline\n",
    "plt.scatter(X[Y_predict==0,0],X[Y_predict==0,1],label='Cluster 0', c= 'black')\n",
    "plt.scatter(X[Y_predict==1,0],X[Y_predict==1,1],label ='Cluster 1')\n",
    "plt.scatter(X[Y_predict==2,0],X[Y_predict==2,1],label='Cluster 2')\n",
    "plt.scatter(X[Y_predict==3,0],X[Y_predict==3,1],label='Cluster 3')\n",
    "\n",
    "plt.scatter(km.cluster_centers_[:,0],km.cluster_centers_[:,1],c='red',s=100)\n",
    "plt.legend()"
   ]
  },
  {
   "cell_type": "code",
   "execution_count": 46,
   "metadata": {
    "scrolled": true
   },
   "outputs": [
    {
     "data": {
      "text/plain": [
       "array([[ 55.66071429,  51.01785714],\n",
       "       [ 31.95890411,  72.95890411],\n",
       "       [ 29.44680851,  29.21276596],\n",
       "       [ 39.        , 106.5       ]])"
      ]
     },
     "execution_count": 46,
     "metadata": {},
     "output_type": "execute_result"
    }
   ],
   "source": [
    "km.cluster_centers_[:]"
   ]
  },
  {
   "cell_type": "code",
   "execution_count": 50,
   "metadata": {
    "scrolled": true
   },
   "outputs": [
    {
     "data": {
      "text/plain": [
       "array([64, 67, 54, 60, 53, 49, 65, 48, 49, 50, 49, 59, 50, 47, 51, 69, 53,\n",
       "       70, 67, 54, 63, 43, 68, 70, 47, 60, 60, 59, 45, 40, 49, 57, 38, 67,\n",
       "       46, 48, 55, 50, 68, 48, 47, 48, 49, 67, 49, 66, 54, 68, 66, 65, 63,\n",
       "       49, 51, 50, 59, 57], dtype=int64)"
      ]
     },
     "execution_count": 50,
     "metadata": {},
     "output_type": "execute_result"
    }
   ],
   "source": [
    "X[Y_predict==0,0]"
   ]
  },
  {
   "cell_type": "code",
   "execution_count": 54,
   "metadata": {},
   "outputs": [
    {
     "data": {
      "text/plain": [
       "(array([False, False, False, False, False, False, False, False,  True,\n",
       "        False,  True, False, False, False, False, False, False, False,\n",
       "        False, False, False, False, False, False,  True, False, False,\n",
       "        False, False, False,  True, False,  True, False,  True, False,\n",
       "        False, False, False, False,  True, False,  True, False,  True,\n",
       "        False,  True, False, False, False,  True, False, False,  True,\n",
       "         True,  True,  True,  True, False,  True,  True, False,  True,\n",
       "         True,  True, False,  True,  True, False, False,  True,  True,\n",
       "         True,  True,  True, False,  True,  True, False,  True,  True,\n",
       "         True,  True,  True, False,  True,  True, False, False,  True,\n",
       "         True, False,  True, False, False, False,  True, False,  True,\n",
       "        False, False,  True,  True, False,  True, False,  True,  True,\n",
       "         True,  True,  True, False, False, False, False, False,  True,\n",
       "         True,  True,  True, False, False, False, False, False, False,\n",
       "        False, False,  True, False, False, False, False, False, False,\n",
       "        False, False, False, False, False,  True, False, False, False,\n",
       "        False, False, False, False, False, False, False, False, False,\n",
       "        False, False, False, False, False, False, False, False, False,\n",
       "        False, False, False, False, False, False, False, False, False,\n",
       "        False, False, False, False, False, False, False, False, False,\n",
       "        False, False, False, False, False, False, False, False, False,\n",
       "        False, False, False, False, False, False, False, False, False,\n",
       "        False, False]),\n",
       " 0)"
      ]
     },
     "execution_count": 54,
     "metadata": {},
     "output_type": "execute_result"
    }
   ],
   "source": [
    "X[Y_predict == 0,0]"
   ]
  },
  {
   "cell_type": "code",
   "execution_count": 51,
   "metadata": {},
   "outputs": [
    {
     "data": {
      "text/plain": [
       "array([[ 19,  15],\n",
       "       [ 21,  15],\n",
       "       [ 20,  16],\n",
       "       [ 23,  16],\n",
       "       [ 31,  17],\n",
       "       [ 22,  17],\n",
       "       [ 35,  18],\n",
       "       [ 23,  18],\n",
       "       [ 64,  19],\n",
       "       [ 30,  19],\n",
       "       [ 67,  19],\n",
       "       [ 35,  19],\n",
       "       [ 58,  20],\n",
       "       [ 24,  20],\n",
       "       [ 37,  20],\n",
       "       [ 22,  20],\n",
       "       [ 35,  21],\n",
       "       [ 20,  21],\n",
       "       [ 52,  23],\n",
       "       [ 35,  23],\n",
       "       [ 35,  24],\n",
       "       [ 25,  24],\n",
       "       [ 46,  25],\n",
       "       [ 31,  25],\n",
       "       [ 54,  28],\n",
       "       [ 29,  28],\n",
       "       [ 45,  28],\n",
       "       [ 35,  28],\n",
       "       [ 40,  29],\n",
       "       [ 23,  29],\n",
       "       [ 60,  30],\n",
       "       [ 21,  30],\n",
       "       [ 53,  33],\n",
       "       [ 18,  33],\n",
       "       [ 49,  33],\n",
       "       [ 21,  33],\n",
       "       [ 42,  34],\n",
       "       [ 30,  34],\n",
       "       [ 36,  37],\n",
       "       [ 20,  37],\n",
       "       [ 65,  38],\n",
       "       [ 24,  38],\n",
       "       [ 48,  39],\n",
       "       [ 31,  39],\n",
       "       [ 49,  39],\n",
       "       [ 24,  39],\n",
       "       [ 50,  40],\n",
       "       [ 27,  40],\n",
       "       [ 29,  40],\n",
       "       [ 31,  40],\n",
       "       [ 49,  42],\n",
       "       [ 33,  42],\n",
       "       [ 31,  43],\n",
       "       [ 59,  43],\n",
       "       [ 50,  43],\n",
       "       [ 47,  43],\n",
       "       [ 51,  44],\n",
       "       [ 69,  44],\n",
       "       [ 27,  46],\n",
       "       [ 53,  46],\n",
       "       [ 70,  46],\n",
       "       [ 19,  46],\n",
       "       [ 67,  47],\n",
       "       [ 54,  47],\n",
       "       [ 63,  48],\n",
       "       [ 18,  48],\n",
       "       [ 43,  48],\n",
       "       [ 68,  48],\n",
       "       [ 19,  48],\n",
       "       [ 32,  48],\n",
       "       [ 70,  49],\n",
       "       [ 47,  49],\n",
       "       [ 60,  50],\n",
       "       [ 60,  50],\n",
       "       [ 59,  54],\n",
       "       [ 26,  54],\n",
       "       [ 45,  54],\n",
       "       [ 40,  54],\n",
       "       [ 23,  54],\n",
       "       [ 49,  54],\n",
       "       [ 57,  54],\n",
       "       [ 38,  54],\n",
       "       [ 67,  54],\n",
       "       [ 46,  54],\n",
       "       [ 21,  54],\n",
       "       [ 48,  54],\n",
       "       [ 55,  57],\n",
       "       [ 22,  57],\n",
       "       [ 34,  58],\n",
       "       [ 50,  58],\n",
       "       [ 68,  59],\n",
       "       [ 18,  59],\n",
       "       [ 48,  60],\n",
       "       [ 40,  60],\n",
       "       [ 32,  60],\n",
       "       [ 24,  60],\n",
       "       [ 47,  60],\n",
       "       [ 27,  60],\n",
       "       [ 48,  61],\n",
       "       [ 20,  61],\n",
       "       [ 23,  62],\n",
       "       [ 49,  62],\n",
       "       [ 67,  62],\n",
       "       [ 26,  62],\n",
       "       [ 49,  62],\n",
       "       [ 21,  62],\n",
       "       [ 66,  63],\n",
       "       [ 54,  63],\n",
       "       [ 68,  63],\n",
       "       [ 66,  63],\n",
       "       [ 65,  63],\n",
       "       [ 19,  63],\n",
       "       [ 38,  64],\n",
       "       [ 19,  64],\n",
       "       [ 18,  65],\n",
       "       [ 19,  65],\n",
       "       [ 63,  65],\n",
       "       [ 49,  65],\n",
       "       [ 51,  67],\n",
       "       [ 50,  67],\n",
       "       [ 27,  67],\n",
       "       [ 38,  67],\n",
       "       [ 40,  69],\n",
       "       [ 39,  69],\n",
       "       [ 23,  70],\n",
       "       [ 31,  70],\n",
       "       [ 43,  71],\n",
       "       [ 40,  71],\n",
       "       [ 59,  71],\n",
       "       [ 38,  71],\n",
       "       [ 47,  71],\n",
       "       [ 39,  71],\n",
       "       [ 25,  72],\n",
       "       [ 31,  72],\n",
       "       [ 20,  73],\n",
       "       [ 29,  73],\n",
       "       [ 44,  73],\n",
       "       [ 32,  73],\n",
       "       [ 19,  74],\n",
       "       [ 35,  74],\n",
       "       [ 57,  75],\n",
       "       [ 32,  75],\n",
       "       [ 28,  76],\n",
       "       [ 32,  76],\n",
       "       [ 25,  77],\n",
       "       [ 28,  77],\n",
       "       [ 48,  77],\n",
       "       [ 32,  77],\n",
       "       [ 34,  78],\n",
       "       [ 34,  78],\n",
       "       [ 43,  78],\n",
       "       [ 39,  78],\n",
       "       [ 44,  78],\n",
       "       [ 38,  78],\n",
       "       [ 47,  78],\n",
       "       [ 27,  78],\n",
       "       [ 37,  78],\n",
       "       [ 30,  78],\n",
       "       [ 34,  78],\n",
       "       [ 30,  78],\n",
       "       [ 56,  79],\n",
       "       [ 29,  79],\n",
       "       [ 19,  81],\n",
       "       [ 31,  81],\n",
       "       [ 50,  85],\n",
       "       [ 36,  85],\n",
       "       [ 42,  86],\n",
       "       [ 33,  86],\n",
       "       [ 36,  87],\n",
       "       [ 32,  87],\n",
       "       [ 40,  87],\n",
       "       [ 28,  87],\n",
       "       [ 36,  87],\n",
       "       [ 36,  87],\n",
       "       [ 52,  88],\n",
       "       [ 30,  88],\n",
       "       [ 58,  88],\n",
       "       [ 27,  88],\n",
       "       [ 59,  93],\n",
       "       [ 35,  93],\n",
       "       [ 37,  97],\n",
       "       [ 32,  97],\n",
       "       [ 46,  98],\n",
       "       [ 29,  98],\n",
       "       [ 41,  99],\n",
       "       [ 30,  99],\n",
       "       [ 54, 101],\n",
       "       [ 28, 101],\n",
       "       [ 41, 103],\n",
       "       [ 36, 103],\n",
       "       [ 34, 103],\n",
       "       [ 32, 103],\n",
       "       [ 33, 113],\n",
       "       [ 38, 113],\n",
       "       [ 47, 120],\n",
       "       [ 35, 120],\n",
       "       [ 45, 126],\n",
       "       [ 32, 126],\n",
       "       [ 32, 137],\n",
       "       [ 30, 137]], dtype=int64)"
      ]
     },
     "execution_count": 51,
     "metadata": {},
     "output_type": "execute_result"
    }
   ],
   "source": [
    "X"
   ]
  },
  {
   "cell_type": "code",
   "execution_count": 56,
   "metadata": {},
   "outputs": [
    {
     "data": {
      "text/plain": [
       "-39502.77850064539"
      ]
     },
     "execution_count": 56,
     "metadata": {},
     "output_type": "execute_result"
    }
   ],
   "source": [
    "km.score(X,Y_predict)"
   ]
  },
  {
   "cell_type": "markdown",
   "metadata": {},
   "source": [
    "## How to measure accuracy of KMeans clustering algorithm???????"
   ]
  },
  {
   "cell_type": "markdown",
   "metadata": {},
   "source": [
    "# Which are different cost functions of KMeans???"
   ]
  },
  {
   "cell_type": "code",
   "execution_count": 59,
   "metadata": {},
   "outputs": [
    {
     "data": {
      "text/plain": [
       "{'whiskers': [<matplotlib.lines.Line2D at 0x18a881d9cd0>,\n",
       "  <matplotlib.lines.Line2D at 0x18a881d95b0>],\n",
       " 'caps': [<matplotlib.lines.Line2D at 0x18a88191c70>,\n",
       "  <matplotlib.lines.Line2D at 0x18a88191ac0>],\n",
       " 'boxes': [<matplotlib.lines.Line2D at 0x18a881d99a0>],\n",
       " 'medians': [<matplotlib.lines.Line2D at 0x18a88191460>],\n",
       " 'fliers': [<matplotlib.lines.Line2D at 0x18a8818dfa0>],\n",
       " 'means': []}"
      ]
     },
     "execution_count": 59,
     "metadata": {},
     "output_type": "execute_result"
    },
    {
     "data": {
      "image/png": "[encoded data removed]",
      "text/plain": [
       "<Figure size 432x288 with 1 Axes>"
      ]
     },
     "metadata": {
      "needs_background": "light"
     },
     "output_type": "display_data"
    }
   ],
   "source": [
    "plt.boxplot([10,20,30,40,50,-99,-34,-44,-30,-12,-30,-50,-20])"
   ]
  },
  {
   "cell_type": "code",
   "execution_count": null,
   "metadata": {},
   "outputs": [],
   "source": []
  }
 ],
 "metadata": {
  "kernelspec": {
   "display_name": "Python 3 (ipykernel)",
   "language": "python",
   "name": "python3"
  },
  "language_info": {
   "codemirror_mode": {
    "name": "ipython",
    "version": 3
   },
   "file_extension": ".py",
   "mimetype": "text/x-python",
   "name": "python",
   "nbconvert_exporter": "python",
   "pygments_lexer": "ipython3",
   "version": "3.9.7"
  }
 },
 "nbformat": 4,
 "nbformat_minor": 2
}
