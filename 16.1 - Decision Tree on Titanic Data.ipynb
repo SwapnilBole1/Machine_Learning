{
 "cells": [
  {
   "cell_type": "markdown",
   "metadata": {},
   "source": [
    "### Apply Decision Tree algorithm on titanic data\n",
    "In this file using following columns build a model to predict if person would survive or not,\n",
    "\n",
    "#Pclass\n",
    "#Sex\n",
    "#Age\n",
    "#Fare"
   ]
  },
  {
   "cell_type": "code",
   "execution_count": 1,
   "metadata": {},
   "outputs": [],
   "source": [
    "import pandas as pd"
   ]
  },
  {
   "cell_type": "code",
   "execution_count": 2,
   "metadata": {},
   "outputs": [
    {
     "data": {
      "text/html": [
       "<div>\n",
       "<style scoped>\n",
       "    .dataframe tbody tr th:only-of-type {\n",
       "        vertical-align: middle;\n",
       "    }\n",
       "\n",
       "    .dataframe tbody tr th {\n",
       "        vertical-align: top;\n",
       "    }\n",
       "\n",
       "    .dataframe thead th {\n",
       "        text-align: right;\n",
       "    }\n",
       "</style>\n",
       "<table border=\"1\" class=\"dataframe\">\n",
       "  <thead>\n",
       "    <tr style=\"text-align: right;\">\n",
       "      <th></th>\n",
       "      <th>PassengerId</th>\n",
       "      <th>Survived</th>\n",
       "      <th>Pclass</th>\n",
       "      <th>Name</th>\n",
       "      <th>Sex</th>\n",
       "      <th>Age</th>\n",
       "      <th>SibSp</th>\n",
       "      <th>Parch</th>\n",
       "      <th>Ticket</th>\n",
       "      <th>fair</th>\n",
       "      <th>Cabin</th>\n",
       "      <th>Embarked</th>\n",
       "    </tr>\n",
       "  </thead>\n",
       "  <tbody>\n",
       "    <tr>\n",
       "      <th>0</th>\n",
       "      <td>1</td>\n",
       "      <td>0</td>\n",
       "      <td>3</td>\n",
       "      <td>Braund, Mr. Owen Harris</td>\n",
       "      <td>male</td>\n",
       "      <td>22.0</td>\n",
       "      <td>1</td>\n",
       "      <td>0</td>\n",
       "      <td>A/5 21171</td>\n",
       "      <td>7.2500</td>\n",
       "      <td>NaN</td>\n",
       "      <td>S</td>\n",
       "    </tr>\n",
       "    <tr>\n",
       "      <th>1</th>\n",
       "      <td>2</td>\n",
       "      <td>1</td>\n",
       "      <td>1</td>\n",
       "      <td>Cumings, Mrs. John Bradley (Florence Briggs Th...</td>\n",
       "      <td>female</td>\n",
       "      <td>38.0</td>\n",
       "      <td>1</td>\n",
       "      <td>0</td>\n",
       "      <td>PC 17599</td>\n",
       "      <td>71.2833</td>\n",
       "      <td>C85</td>\n",
       "      <td>C</td>\n",
       "    </tr>\n",
       "    <tr>\n",
       "      <th>2</th>\n",
       "      <td>3</td>\n",
       "      <td>1</td>\n",
       "      <td>3</td>\n",
       "      <td>Heikkinen, Miss. Laina</td>\n",
       "      <td>female</td>\n",
       "      <td>26.0</td>\n",
       "      <td>0</td>\n",
       "      <td>0</td>\n",
       "      <td>STON/O2. 3101282</td>\n",
       "      <td>7.9250</td>\n",
       "      <td>NaN</td>\n",
       "      <td>S</td>\n",
       "    </tr>\n",
       "    <tr>\n",
       "      <th>3</th>\n",
       "      <td>4</td>\n",
       "      <td>1</td>\n",
       "      <td>1</td>\n",
       "      <td>Futrelle, Mrs. Jacques Heath (Lily May Peel)</td>\n",
       "      <td>female</td>\n",
       "      <td>35.0</td>\n",
       "      <td>1</td>\n",
       "      <td>0</td>\n",
       "      <td>113803</td>\n",
       "      <td>53.1000</td>\n",
       "      <td>C123</td>\n",
       "      <td>S</td>\n",
       "    </tr>\n",
       "    <tr>\n",
       "      <th>4</th>\n",
       "      <td>5</td>\n",
       "      <td>0</td>\n",
       "      <td>3</td>\n",
       "      <td>Allen, Mr. William Henry</td>\n",
       "      <td>male</td>\n",
       "      <td>35.0</td>\n",
       "      <td>0</td>\n",
       "      <td>0</td>\n",
       "      <td>373450</td>\n",
       "      <td>8.0500</td>\n",
       "      <td>NaN</td>\n",
       "      <td>S</td>\n",
       "    </tr>\n",
       "  </tbody>\n",
       "</table>\n",
       "</div>"
      ],
      "text/plain": [
       "   PassengerId  Survived  Pclass  \\\n",
       "0            1         0       3   \n",
       "1            2         1       1   \n",
       "2            3         1       3   \n",
       "3            4         1       1   \n",
       "4            5         0       3   \n",
       "\n",
       "                                                Name     Sex   Age  SibSp  \\\n",
       "0                            Braund, Mr. Owen Harris    male  22.0      1   \n",
       "1  Cumings, Mrs. John Bradley (Florence Briggs Th...  female  38.0      1   \n",
       "2                             Heikkinen, Miss. Laina  female  26.0      0   \n",
       "3       Futrelle, Mrs. Jacques Heath (Lily May Peel)  female  35.0      1   \n",
       "4                           Allen, Mr. William Henry    male  35.0      0   \n",
       "\n",
       "   Parch            Ticket     fair Cabin Embarked  \n",
       "0      0         A/5 21171   7.2500   NaN        S  \n",
       "1      0          PC 17599  71.2833   C85        C  \n",
       "2      0  STON/O2. 3101282   7.9250   NaN        S  \n",
       "3      0            113803  53.1000  C123        S  \n",
       "4      0            373450   8.0500   NaN        S  "
      ]
     },
     "execution_count": 2,
     "metadata": {},
     "output_type": "execute_result"
    }
   ],
   "source": [
    "df = pd.read_csv(\"titanic_data.csv\")\n",
    "df.head()"
   ]
  },
  {
   "cell_type": "code",
   "execution_count": 3,
   "metadata": {},
   "outputs": [],
   "source": [
    "df.drop(['PassengerId','Name','SibSp','Parch','Ticket','Cabin','Embarked'],axis='columns',inplace=True)"
   ]
  },
  {
   "cell_type": "code",
   "execution_count": 4,
   "metadata": {},
   "outputs": [
    {
     "data": {
      "text/html": [
       "<div>\n",
       "<style scoped>\n",
       "    .dataframe tbody tr th:only-of-type {\n",
       "        vertical-align: middle;\n",
       "    }\n",
       "\n",
       "    .dataframe tbody tr th {\n",
       "        vertical-align: top;\n",
       "    }\n",
       "\n",
       "    .dataframe thead th {\n",
       "        text-align: right;\n",
       "    }\n",
       "</style>\n",
       "<table border=\"1\" class=\"dataframe\">\n",
       "  <thead>\n",
       "    <tr style=\"text-align: right;\">\n",
       "      <th></th>\n",
       "      <th>Survived</th>\n",
       "      <th>Pclass</th>\n",
       "      <th>Sex</th>\n",
       "      <th>Age</th>\n",
       "      <th>fair</th>\n",
       "    </tr>\n",
       "  </thead>\n",
       "  <tbody>\n",
       "    <tr>\n",
       "      <th>0</th>\n",
       "      <td>0</td>\n",
       "      <td>3</td>\n",
       "      <td>male</td>\n",
       "      <td>22.0</td>\n",
       "      <td>7.2500</td>\n",
       "    </tr>\n",
       "    <tr>\n",
       "      <th>1</th>\n",
       "      <td>1</td>\n",
       "      <td>1</td>\n",
       "      <td>female</td>\n",
       "      <td>38.0</td>\n",
       "      <td>71.2833</td>\n",
       "    </tr>\n",
       "    <tr>\n",
       "      <th>2</th>\n",
       "      <td>1</td>\n",
       "      <td>3</td>\n",
       "      <td>female</td>\n",
       "      <td>26.0</td>\n",
       "      <td>7.9250</td>\n",
       "    </tr>\n",
       "    <tr>\n",
       "      <th>3</th>\n",
       "      <td>1</td>\n",
       "      <td>1</td>\n",
       "      <td>female</td>\n",
       "      <td>35.0</td>\n",
       "      <td>53.1000</td>\n",
       "    </tr>\n",
       "    <tr>\n",
       "      <th>4</th>\n",
       "      <td>0</td>\n",
       "      <td>3</td>\n",
       "      <td>male</td>\n",
       "      <td>35.0</td>\n",
       "      <td>8.0500</td>\n",
       "    </tr>\n",
       "  </tbody>\n",
       "</table>\n",
       "</div>"
      ],
      "text/plain": [
       "   Survived  Pclass     Sex   Age     fair\n",
       "0         0       3    male  22.0   7.2500\n",
       "1         1       1  female  38.0  71.2833\n",
       "2         1       3  female  26.0   7.9250\n",
       "3         1       1  female  35.0  53.1000\n",
       "4         0       3    male  35.0   8.0500"
      ]
     },
     "execution_count": 4,
     "metadata": {},
     "output_type": "execute_result"
    }
   ],
   "source": [
    "df.head()"
   ]
  },
  {
   "cell_type": "code",
   "execution_count": 5,
   "metadata": {},
   "outputs": [],
   "source": [
    "inputs = df.drop(['Survived'],axis='columns')\n",
    "target = df.Survived"
   ]
  },
  {
   "cell_type": "code",
   "execution_count": 6,
   "metadata": {},
   "outputs": [
    {
     "data": {
      "text/html": [
       "<div>\n",
       "<style scoped>\n",
       "    .dataframe tbody tr th:only-of-type {\n",
       "        vertical-align: middle;\n",
       "    }\n",
       "\n",
       "    .dataframe tbody tr th {\n",
       "        vertical-align: top;\n",
       "    }\n",
       "\n",
       "    .dataframe thead th {\n",
       "        text-align: right;\n",
       "    }\n",
       "</style>\n",
       "<table border=\"1\" class=\"dataframe\">\n",
       "  <thead>\n",
       "    <tr style=\"text-align: right;\">\n",
       "      <th></th>\n",
       "      <th>Pclass</th>\n",
       "      <th>Sex</th>\n",
       "      <th>Age</th>\n",
       "      <th>fair</th>\n",
       "    </tr>\n",
       "  </thead>\n",
       "  <tbody>\n",
       "    <tr>\n",
       "      <th>0</th>\n",
       "      <td>3</td>\n",
       "      <td>male</td>\n",
       "      <td>22.0</td>\n",
       "      <td>7.2500</td>\n",
       "    </tr>\n",
       "    <tr>\n",
       "      <th>1</th>\n",
       "      <td>1</td>\n",
       "      <td>female</td>\n",
       "      <td>38.0</td>\n",
       "      <td>71.2833</td>\n",
       "    </tr>\n",
       "    <tr>\n",
       "      <th>2</th>\n",
       "      <td>3</td>\n",
       "      <td>female</td>\n",
       "      <td>26.0</td>\n",
       "      <td>7.9250</td>\n",
       "    </tr>\n",
       "    <tr>\n",
       "      <th>3</th>\n",
       "      <td>1</td>\n",
       "      <td>female</td>\n",
       "      <td>35.0</td>\n",
       "      <td>53.1000</td>\n",
       "    </tr>\n",
       "    <tr>\n",
       "      <th>4</th>\n",
       "      <td>3</td>\n",
       "      <td>male</td>\n",
       "      <td>35.0</td>\n",
       "      <td>8.0500</td>\n",
       "    </tr>\n",
       "  </tbody>\n",
       "</table>\n",
       "</div>"
      ],
      "text/plain": [
       "   Pclass     Sex   Age     fair\n",
       "0       3    male  22.0   7.2500\n",
       "1       1  female  38.0  71.2833\n",
       "2       3  female  26.0   7.9250\n",
       "3       1  female  35.0  53.1000\n",
       "4       3    male  35.0   8.0500"
      ]
     },
     "execution_count": 6,
     "metadata": {},
     "output_type": "execute_result"
    }
   ],
   "source": [
    "inputs.head()"
   ]
  },
  {
   "cell_type": "markdown",
   "metadata": {},
   "source": [
    "## In above input features, Sex column has categorical data, ML algorithm understands only numeric values hence we need to convert in numbers"
   ]
  },
  {
   "cell_type": "code",
   "execution_count": 7,
   "metadata": {},
   "outputs": [],
   "source": [
    "from sklearn.preprocessing import LabelEncoder\n",
    "lb =LabelEncoder()"
   ]
  },
  {
   "cell_type": "code",
   "execution_count": 8,
   "metadata": {},
   "outputs": [],
   "source": [
    "df['Sex'] = lb.fit_transform(df['Sex'])\n",
    "inputs= df.iloc[:,1:]"
   ]
  },
  {
   "cell_type": "code",
   "execution_count": null,
   "metadata": {},
   "outputs": [],
   "source": [
    "#OR another method is\n",
    "#inputs.Sex = inputs.Sex.map({'male': 1, 'female': 2})"
   ]
  },
  {
   "cell_type": "code",
   "execution_count": 10,
   "metadata": {
    "scrolled": true
   },
   "outputs": [
    {
     "data": {
      "text/html": [
       "<div>\n",
       "<style scoped>\n",
       "    .dataframe tbody tr th:only-of-type {\n",
       "        vertical-align: middle;\n",
       "    }\n",
       "\n",
       "    .dataframe tbody tr th {\n",
       "        vertical-align: top;\n",
       "    }\n",
       "\n",
       "    .dataframe thead th {\n",
       "        text-align: right;\n",
       "    }\n",
       "</style>\n",
       "<table border=\"1\" class=\"dataframe\">\n",
       "  <thead>\n",
       "    <tr style=\"text-align: right;\">\n",
       "      <th></th>\n",
       "      <th>Pclass</th>\n",
       "      <th>Sex</th>\n",
       "      <th>Age</th>\n",
       "      <th>fair</th>\n",
       "    </tr>\n",
       "  </thead>\n",
       "  <tbody>\n",
       "    <tr>\n",
       "      <th>0</th>\n",
       "      <td>3</td>\n",
       "      <td>1</td>\n",
       "      <td>22.0</td>\n",
       "      <td>7.2500</td>\n",
       "    </tr>\n",
       "    <tr>\n",
       "      <th>1</th>\n",
       "      <td>1</td>\n",
       "      <td>0</td>\n",
       "      <td>38.0</td>\n",
       "      <td>71.2833</td>\n",
       "    </tr>\n",
       "    <tr>\n",
       "      <th>2</th>\n",
       "      <td>3</td>\n",
       "      <td>0</td>\n",
       "      <td>26.0</td>\n",
       "      <td>7.9250</td>\n",
       "    </tr>\n",
       "    <tr>\n",
       "      <th>3</th>\n",
       "      <td>1</td>\n",
       "      <td>0</td>\n",
       "      <td>35.0</td>\n",
       "      <td>53.1000</td>\n",
       "    </tr>\n",
       "  </tbody>\n",
       "</table>\n",
       "</div>"
      ],
      "text/plain": [
       "   Pclass  Sex   Age     fair\n",
       "0       3    1  22.0   7.2500\n",
       "1       1    0  38.0  71.2833\n",
       "2       3    0  26.0   7.9250\n",
       "3       1    0  35.0  53.1000"
      ]
     },
     "execution_count": 10,
     "metadata": {},
     "output_type": "execute_result"
    }
   ],
   "source": [
    "inputs[:4]"
   ]
  },
  {
   "cell_type": "code",
   "execution_count": 11,
   "metadata": {},
   "outputs": [
    {
     "name": "stdout",
     "output_type": "stream",
     "text": [
      "<class 'pandas.core.frame.DataFrame'>\n",
      "RangeIndex: 891 entries, 0 to 890\n",
      "Data columns (total 4 columns):\n",
      " #   Column  Non-Null Count  Dtype  \n",
      "---  ------  --------------  -----  \n",
      " 0   Pclass  891 non-null    int64  \n",
      " 1   Sex     891 non-null    int32  \n",
      " 2   Age     714 non-null    float64\n",
      " 3   fair    891 non-null    float64\n",
      "dtypes: float64(2), int32(1), int64(1)\n",
      "memory usage: 24.5 KB\n"
     ]
    }
   ],
   "source": [
    "inputs.info()"
   ]
  },
  {
   "cell_type": "code",
   "execution_count": 12,
   "metadata": {},
   "outputs": [
    {
     "data": {
      "text/plain": [
       "0    22.0\n",
       "1    38.0\n",
       "2    26.0\n",
       "3    35.0\n",
       "4    35.0\n",
       "5     NaN\n",
       "6    54.0\n",
       "7     2.0\n",
       "8    27.0\n",
       "9    14.0\n",
       "Name: Age, dtype: float64"
      ]
     },
     "execution_count": 12,
     "metadata": {},
     "output_type": "execute_result"
    }
   ],
   "source": [
    "inputs.Age[:10]  #it includes NaN values "
   ]
  },
  {
   "cell_type": "code",
   "execution_count": 13,
   "metadata": {},
   "outputs": [],
   "source": [
    "inputs.Age = inputs.Age.fillna(inputs.Age.mean())"
   ]
  },
  {
   "cell_type": "code",
   "execution_count": 14,
   "metadata": {},
   "outputs": [
    {
     "data": {
      "text/plain": [
       "0    22.000000\n",
       "1    38.000000\n",
       "2    26.000000\n",
       "3    35.000000\n",
       "4    35.000000\n",
       "5    29.699118\n",
       "6    54.000000\n",
       "7     2.000000\n",
       "8    27.000000\n",
       "9    14.000000\n",
       "Name: Age, dtype: float64"
      ]
     },
     "execution_count": 14,
     "metadata": {},
     "output_type": "execute_result"
    }
   ],
   "source": [
    "inputs.Age.head(10)"
   ]
  },
  {
   "cell_type": "code",
   "execution_count": 21,
   "metadata": {},
   "outputs": [],
   "source": [
    "from sklearn.model_selection import train_test_split\n",
    "X_train, X_test, y_train, y_test = train_test_split(inputs,target,test_size=0.2)"
   ]
  },
  {
   "cell_type": "code",
   "execution_count": 22,
   "metadata": {},
   "outputs": [],
   "source": [
    "#from sklearn import tree\n",
    "#model = tree.DecisionTreeClassifier()\n",
    "from sklearn.tree import DecisionTreeClassifier\n",
    "model = DecisionTreeClassifier()"
   ]
  },
  {
   "cell_type": "code",
   "execution_count": 23,
   "metadata": {},
   "outputs": [
    {
     "data": {
      "text/plain": [
       "DecisionTreeClassifier()"
      ]
     },
     "execution_count": 23,
     "metadata": {},
     "output_type": "execute_result"
    }
   ],
   "source": [
    "model.fit(X_train,y_train)"
   ]
  },
  {
   "cell_type": "code",
   "execution_count": 24,
   "metadata": {},
   "outputs": [
    {
     "data": {
      "text/plain": [
       "77.6536312849162"
      ]
     },
     "execution_count": 24,
     "metadata": {},
     "output_type": "execute_result"
    }
   ],
   "source": [
    "model.score(X_test,y_test)*100"
   ]
  },
  {
   "cell_type": "code",
   "execution_count": 25,
   "metadata": {},
   "outputs": [
    {
     "data": {
      "text/plain": [
       "98.17415730337079"
      ]
     },
     "execution_count": 25,
     "metadata": {},
     "output_type": "execute_result"
    }
   ],
   "source": [
    "model.score(X_train,y_train)*100"
   ]
  },
  {
   "cell_type": "code",
   "execution_count": 26,
   "metadata": {},
   "outputs": [],
   "source": [
    "from sklearn import tree"
   ]
  },
  {
   "cell_type": "code",
   "execution_count": 27,
   "metadata": {},
   "outputs": [
    {
     "data": {
      "text/plain": [
       "[Text(108.62501016496283, 212.26285714285714, 'X[1] <= 0.5\\ngini = 0.469\\nsamples = 712\\nvalue = [444, 268]'),\n",
       " Text(51.4957249070632, 201.90857142857143, 'X[0] <= 2.5\\ngini = 0.365\\nsamples = 241\\nvalue = [58, 183]'),\n",
       " Text(18.66914498141264, 191.5542857142857, 'X[3] <= 26.125\\ngini = 0.086\\nsamples = 134\\nvalue = [6, 128]'),\n",
       " Text(12.446096654275093, 181.2, 'X[2] <= 56.0\\ngini = 0.198\\nsamples = 45\\nvalue = [5, 40]'),\n",
       " Text(9.956877323420075, 170.84571428571428, 'X[2] <= 37.0\\ngini = 0.165\\nsamples = 44\\nvalue = [4, 40]'),\n",
       " Text(4.978438661710038, 160.49142857142857, 'X[3] <= 20.25\\ngini = 0.108\\nsamples = 35\\nvalue = [2, 33]'),\n",
       " Text(2.489219330855019, 150.13714285714286, 'gini = 0.0\\nsamples = 19\\nvalue = [0, 19]'),\n",
       " Text(7.467657992565057, 150.13714285714286, 'X[2] <= 25.5\\ngini = 0.219\\nsamples = 16\\nvalue = [2, 14]'),\n",
       " Text(4.978438661710038, 139.78285714285715, 'gini = 0.0\\nsamples = 7\\nvalue = [0, 7]'),\n",
       " Text(9.956877323420075, 139.78285714285715, 'X[2] <= 27.5\\ngini = 0.346\\nsamples = 9\\nvalue = [2, 7]'),\n",
       " Text(7.467657992565057, 129.42857142857144, 'gini = 0.0\\nsamples = 2\\nvalue = [2, 0]'),\n",
       " Text(12.446096654275093, 129.42857142857144, 'gini = 0.0\\nsamples = 7\\nvalue = [0, 7]'),\n",
       " Text(14.935315985130114, 160.49142857142857, 'X[2] <= 39.0\\ngini = 0.346\\nsamples = 9\\nvalue = [2, 7]'),\n",
       " Text(12.446096654275093, 150.13714285714286, 'gini = 0.0\\nsamples = 1\\nvalue = [1, 0]'),\n",
       " Text(17.424535315985132, 150.13714285714286, 'X[3] <= 25.965\\ngini = 0.219\\nsamples = 8\\nvalue = [1, 7]'),\n",
       " Text(14.935315985130114, 139.78285714285715, 'gini = 0.0\\nsamples = 6\\nvalue = [0, 6]'),\n",
       " Text(19.91375464684015, 139.78285714285715, 'X[2] <= 47.0\\ngini = 0.5\\nsamples = 2\\nvalue = [1, 1]'),\n",
       " Text(17.424535315985132, 129.42857142857144, 'gini = 0.0\\nsamples = 1\\nvalue = [1, 0]'),\n",
       " Text(22.40297397769517, 129.42857142857144, 'gini = 0.0\\nsamples = 1\\nvalue = [0, 1]'),\n",
       " Text(14.935315985130114, 170.84571428571428, 'gini = 0.0\\nsamples = 1\\nvalue = [1, 0]'),\n",
       " Text(24.892193308550187, 181.2, 'X[3] <= 149.035\\ngini = 0.022\\nsamples = 89\\nvalue = [1, 88]'),\n",
       " Text(22.40297397769517, 170.84571428571428, 'gini = 0.0\\nsamples = 72\\nvalue = [0, 72]'),\n",
       " Text(27.381412639405205, 170.84571428571428, 'X[3] <= 152.506\\ngini = 0.111\\nsamples = 17\\nvalue = [1, 16]'),\n",
       " Text(24.892193308550187, 160.49142857142857, 'X[2] <= 23.5\\ngini = 0.5\\nsamples = 2\\nvalue = [1, 1]'),\n",
       " Text(22.40297397769517, 150.13714285714286, 'gini = 0.0\\nsamples = 1\\nvalue = [0, 1]'),\n",
       " Text(27.381412639405205, 150.13714285714286, 'gini = 0.0\\nsamples = 1\\nvalue = [1, 0]'),\n",
       " Text(29.870631970260227, 160.49142857142857, 'gini = 0.0\\nsamples = 15\\nvalue = [0, 15]'),\n",
       " Text(84.32230483271375, 191.5542857142857, 'X[3] <= 23.7\\ngini = 0.5\\nsamples = 107\\nvalue = [52, 55]'),\n",
       " Text(61.60817843866172, 181.2, 'X[3] <= 7.888\\ngini = 0.482\\nsamples = 89\\nvalue = [36, 53]'),\n",
       " Text(39.8275092936803, 170.84571428571428, 'X[2] <= 30.1\\ngini = 0.35\\nsamples = 31\\nvalue = [7, 24]'),\n",
       " Text(37.33828996282528, 160.49142857142857, 'X[3] <= 6.987\\ngini = 0.285\\nsamples = 29\\nvalue = [5, 24]'),\n",
       " Text(34.849070631970264, 150.13714285714286, 'gini = 0.0\\nsamples = 1\\nvalue = [1, 0]'),\n",
       " Text(39.8275092936803, 150.13714285714286, 'X[2] <= 21.5\\ngini = 0.245\\nsamples = 28\\nvalue = [4, 24]'),\n",
       " Text(29.870631970260227, 139.78285714285715, 'X[2] <= 17.0\\ngini = 0.444\\nsamples = 6\\nvalue = [2, 4]'),\n",
       " Text(27.381412639405205, 129.42857142857144, 'gini = 0.0\\nsamples = 3\\nvalue = [0, 3]'),\n",
       " Text(32.35985130111524, 129.42857142857144, 'X[3] <= 7.623\\ngini = 0.444\\nsamples = 3\\nvalue = [2, 1]'),\n",
       " Text(29.870631970260227, 119.07428571428571, 'gini = 0.0\\nsamples = 1\\nvalue = [0, 1]'),\n",
       " Text(34.849070631970264, 119.07428571428571, 'gini = 0.0\\nsamples = 2\\nvalue = [2, 0]'),\n",
       " Text(49.784386617100374, 139.78285714285715, 'X[3] <= 7.642\\ngini = 0.165\\nsamples = 22\\nvalue = [2, 20]'),\n",
       " Text(42.31672862453532, 129.42857142857144, 'X[3] <= 7.4\\ngini = 0.32\\nsamples = 5\\nvalue = [1, 4]'),\n",
       " Text(39.8275092936803, 119.07428571428571, 'gini = 0.0\\nsamples = 3\\nvalue = [0, 3]'),\n",
       " Text(44.80594795539034, 119.07428571428571, 'X[2] <= 26.35\\ngini = 0.5\\nsamples = 2\\nvalue = [1, 1]'),\n",
       " Text(42.31672862453532, 108.72, 'gini = 0.0\\nsamples = 1\\nvalue = [0, 1]'),\n",
       " Text(47.29516728624536, 108.72, 'gini = 0.0\\nsamples = 1\\nvalue = [1, 0]'),\n",
       " Text(57.25204460966543, 129.42857142857144, 'X[3] <= 7.763\\ngini = 0.111\\nsamples = 17\\nvalue = [1, 16]'),\n",
       " Text(54.76282527881041, 119.07428571428571, 'X[2] <= 25.85\\ngini = 0.165\\nsamples = 11\\nvalue = [1, 10]'),\n",
       " Text(52.273605947955396, 108.72, 'gini = 0.0\\nsamples = 2\\nvalue = [0, 2]'),\n",
       " Text(57.25204460966543, 108.72, 'X[3] <= 7.744\\ngini = 0.198\\nsamples = 9\\nvalue = [1, 8]'),\n",
       " Text(54.76282527881041, 98.36571428571429, 'gini = 0.0\\nsamples = 2\\nvalue = [0, 2]'),\n",
       " Text(59.741263940520454, 98.36571428571429, 'gini = 0.245\\nsamples = 7\\nvalue = [1, 6]'),\n",
       " Text(59.741263940520454, 119.07428571428571, 'gini = 0.0\\nsamples = 6\\nvalue = [0, 6]'),\n",
       " Text(42.31672862453532, 160.49142857142857, 'gini = 0.0\\nsamples = 2\\nvalue = [2, 0]'),\n",
       " Text(83.38884758364313, 170.84571428571428, 'X[3] <= 15.373\\ngini = 0.5\\nsamples = 58\\nvalue = [29, 29]'),\n",
       " Text(72.18736059479555, 160.49142857142857, 'X[2] <= 16.0\\ngini = 0.467\\nsamples = 35\\nvalue = [22, 13]'),\n",
       " Text(64.71970260223048, 150.13714285714286, 'X[3] <= 13.371\\ngini = 0.408\\nsamples = 7\\nvalue = [2, 5]'),\n",
       " Text(62.23048327137547, 139.78285714285715, 'gini = 0.0\\nsamples = 4\\nvalue = [0, 4]'),\n",
       " Text(67.2089219330855, 139.78285714285715, 'X[2] <= 14.75\\ngini = 0.444\\nsamples = 3\\nvalue = [2, 1]'),\n",
       " Text(64.71970260223048, 129.42857142857144, 'gini = 0.0\\nsamples = 2\\nvalue = [2, 0]'),\n",
       " Text(69.69814126394053, 129.42857142857144, 'gini = 0.0\\nsamples = 1\\nvalue = [0, 1]'),\n",
       " Text(79.6550185873606, 150.13714285714286, 'X[2] <= 55.0\\ngini = 0.408\\nsamples = 28\\nvalue = [20, 8]'),\n",
       " Text(77.16579925650558, 139.78285714285715, 'X[2] <= 34.0\\ngini = 0.384\\nsamples = 27\\nvalue = [20, 7]'),\n",
       " Text(74.67657992565056, 129.42857142857144, 'X[2] <= 26.0\\ngini = 0.423\\nsamples = 23\\nvalue = [16, 7]'),\n",
       " Text(69.69814126394053, 119.07428571428571, 'X[2] <= 19.0\\ngini = 0.198\\nsamples = 9\\nvalue = [8, 1]'),\n",
       " Text(67.2089219330855, 108.72, 'X[3] <= 11.902\\ngini = 0.444\\nsamples = 3\\nvalue = [2, 1]'),\n",
       " Text(64.71970260223048, 98.36571428571429, 'gini = 0.0\\nsamples = 1\\nvalue = [0, 1]'),\n",
       " Text(69.69814126394053, 98.36571428571429, 'gini = 0.0\\nsamples = 2\\nvalue = [2, 0]'),\n",
       " Text(72.18736059479555, 108.72, 'gini = 0.0\\nsamples = 6\\nvalue = [6, 0]'),\n",
       " Text(79.6550185873606, 119.07428571428571, 'X[2] <= 27.5\\ngini = 0.49\\nsamples = 14\\nvalue = [8, 6]'),\n",
       " Text(77.16579925650558, 108.72, 'gini = 0.0\\nsamples = 3\\nvalue = [0, 3]'),\n",
       " Text(82.14423791821562, 108.72, 'X[2] <= 29.85\\ngini = 0.397\\nsamples = 11\\nvalue = [8, 3]'),\n",
       " Text(77.16579925650558, 98.36571428571429, 'X[3] <= 14.852\\ngini = 0.219\\nsamples = 8\\nvalue = [7, 1]'),\n",
       " Text(74.67657992565056, 88.01142857142858, 'gini = 0.0\\nsamples = 6\\nvalue = [6, 0]'),\n",
       " Text(79.6550185873606, 88.01142857142858, 'X[2] <= 29.35\\ngini = 0.5\\nsamples = 2\\nvalue = [1, 1]'),\n",
       " Text(77.16579925650558, 77.65714285714284, 'gini = 0.0\\nsamples = 1\\nvalue = [0, 1]'),\n",
       " Text(82.14423791821562, 77.65714285714284, 'gini = 0.0\\nsamples = 1\\nvalue = [1, 0]'),\n",
       " Text(87.12267657992565, 98.36571428571429, 'X[3] <= 8.673\\ngini = 0.444\\nsamples = 3\\nvalue = [1, 2]'),\n",
       " Text(84.63345724907064, 88.01142857142858, 'gini = 0.0\\nsamples = 1\\nvalue = [1, 0]'),\n",
       " Text(89.61189591078067, 88.01142857142858, 'gini = 0.0\\nsamples = 2\\nvalue = [0, 2]'),\n",
       " Text(79.6550185873606, 129.42857142857144, 'gini = 0.0\\nsamples = 4\\nvalue = [4, 0]'),\n",
       " Text(82.14423791821562, 139.78285714285715, 'gini = 0.0\\nsamples = 1\\nvalue = [0, 1]'),\n",
       " Text(94.59033457249072, 160.49142857142857, 'X[3] <= 17.6\\ngini = 0.423\\nsamples = 23\\nvalue = [7, 16]'),\n",
       " Text(89.61189591078067, 150.13714285714286, 'X[2] <= 27.85\\ngini = 0.18\\nsamples = 10\\nvalue = [1, 9]'),\n",
       " Text(87.12267657992565, 139.78285714285715, 'X[2] <= 25.0\\ngini = 0.444\\nsamples = 3\\nvalue = [1, 2]'),\n",
       " Text(84.63345724907064, 129.42857142857144, 'gini = 0.0\\nsamples = 2\\nvalue = [0, 2]'),\n",
       " Text(89.61189591078067, 129.42857142857144, 'gini = 0.0\\nsamples = 1\\nvalue = [1, 0]'),\n",
       " Text(92.1011152416357, 139.78285714285715, 'gini = 0.0\\nsamples = 7\\nvalue = [0, 7]'),\n",
       " Text(99.56877323420075, 150.13714285714286, 'X[3] <= 18.629\\ngini = 0.497\\nsamples = 13\\nvalue = [6, 7]'),\n",
       " Text(97.07955390334573, 139.78285714285715, 'gini = 0.0\\nsamples = 3\\nvalue = [3, 0]'),\n",
       " Text(102.05799256505577, 139.78285714285715, 'X[2] <= 38.0\\ngini = 0.42\\nsamples = 10\\nvalue = [3, 7]'),\n",
       " Text(99.56877323420075, 129.42857142857144, 'X[3] <= 20.8\\ngini = 0.346\\nsamples = 9\\nvalue = [2, 7]'),\n",
       " Text(97.07955390334573, 119.07428571428571, 'gini = 0.0\\nsamples = 5\\nvalue = [0, 5]'),\n",
       " Text(102.05799256505577, 119.07428571428571, 'X[3] <= 21.55\\ngini = 0.5\\nsamples = 4\\nvalue = [2, 2]'),\n",
       " Text(99.56877323420075, 108.72, 'gini = 0.0\\nsamples = 2\\nvalue = [2, 0]'),\n",
       " Text(104.54721189591079, 108.72, 'gini = 0.0\\nsamples = 2\\nvalue = [0, 2]'),\n",
       " Text(104.54721189591079, 129.42857142857144, 'gini = 0.0\\nsamples = 1\\nvalue = [1, 0]'),\n",
       " Text(107.03643122676581, 181.2, 'X[2] <= 5.5\\ngini = 0.198\\nsamples = 18\\nvalue = [16, 2]'),\n",
       " Text(102.05799256505577, 170.84571428571428, 'X[2] <= 3.5\\ngini = 0.5\\nsamples = 2\\nvalue = [1, 1]'),\n",
       " Text(99.56877323420075, 160.49142857142857, 'gini = 0.0\\nsamples = 1\\nvalue = [1, 0]'),\n",
       " Text(104.54721189591079, 160.49142857142857, 'gini = 0.0\\nsamples = 1\\nvalue = [0, 1]'),\n",
       " Text(112.01486988847584, 170.84571428571428, 'X[2] <= 34.0\\ngini = 0.117\\nsamples = 16\\nvalue = [15, 1]'),\n",
       " Text(109.52565055762082, 160.49142857142857, 'gini = 0.0\\nsamples = 11\\nvalue = [11, 0]'),\n",
       " Text(114.50408921933087, 160.49142857142857, 'X[2] <= 38.5\\ngini = 0.32\\nsamples = 5\\nvalue = [4, 1]'),\n",
       " Text(112.01486988847584, 150.13714285714286, 'gini = 0.0\\nsamples = 1\\nvalue = [0, 1]'),\n",
       " Text(116.99330855018589, 150.13714285714286, 'gini = 0.0\\nsamples = 4\\nvalue = [4, 0]'),\n",
       " Text(165.75429542286247, 201.90857142857143, 'X[2] <= 13.0\\ngini = 0.296\\nsamples = 471\\nvalue = [386, 85]'),\n",
       " Text(121.97174721189592, 191.5542857142857, 'X[0] <= 2.5\\ngini = 0.487\\nsamples = 31\\nvalue = [13, 18]'),\n",
       " Text(119.48252788104091, 181.2, 'gini = 0.0\\nsamples = 10\\nvalue = [0, 10]'),\n",
       " Text(124.46096654275094, 181.2, 'X[3] <= 20.825\\ngini = 0.472\\nsamples = 21\\nvalue = [13, 8]'),\n",
       " Text(121.97174721189592, 170.84571428571428, 'X[2] <= 10.0\\ngini = 0.198\\nsamples = 9\\nvalue = [1, 8]'),\n",
       " Text(119.48252788104091, 160.49142857142857, 'gini = 0.0\\nsamples = 7\\nvalue = [0, 7]'),\n",
       " Text(124.46096654275094, 160.49142857142857, 'X[3] <= 15.015\\ngini = 0.5\\nsamples = 2\\nvalue = [1, 1]'),\n",
       " Text(121.97174721189592, 150.13714285714286, 'gini = 0.0\\nsamples = 1\\nvalue = [0, 1]'),\n",
       " Text(126.95018587360596, 150.13714285714286, 'gini = 0.0\\nsamples = 1\\nvalue = [1, 0]'),\n",
       " Text(126.95018587360596, 170.84571428571428, 'gini = 0.0\\nsamples = 12\\nvalue = [12, 0]'),\n",
       " Text(209.53684363382902, 191.5542857142857, 'X[0] <= 1.5\\ngini = 0.258\\nsamples = 440\\nvalue = [373, 67]'),\n",
       " Text(166.77769516728625, 181.2, 'X[2] <= 43.0\\ngini = 0.461\\nsamples = 97\\nvalue = [62, 35]'),\n",
       " Text(139.39628252788106, 170.84571428571428, 'X[3] <= 26.144\\ngini = 0.499\\nsamples = 57\\nvalue = [30, 27]'),\n",
       " Text(136.90706319702602, 160.49142857142857, 'gini = 0.0\\nsamples = 6\\nvalue = [6, 0]'),\n",
       " Text(141.88550185873606, 160.49142857142857, 'X[3] <= 37.812\\ngini = 0.498\\nsamples = 51\\nvalue = [24, 27]'),\n",
       " Text(131.928624535316, 150.13714285714286, 'X[2] <= 31.0\\ngini = 0.408\\nsamples = 21\\nvalue = [6, 15]'),\n",
       " Text(126.95018587360596, 139.78285714285715, 'X[2] <= 28.5\\ngini = 0.473\\nsamples = 13\\nvalue = [5, 8]'),\n",
       " Text(124.46096654275094, 129.42857142857144, 'gini = 0.0\\nsamples = 3\\nvalue = [0, 3]'),\n",
       " Text(129.43940520446097, 129.42857142857144, 'X[3] <= 35.25\\ngini = 0.5\\nsamples = 10\\nvalue = [5, 5]'),\n",
       " Text(126.95018587360596, 119.07428571428571, 'X[3] <= 30.598\\ngini = 0.494\\nsamples = 9\\nvalue = [5, 4]'),\n",
       " Text(124.46096654275094, 108.72, 'X[2] <= 29.35\\ngini = 0.49\\nsamples = 7\\nvalue = [3, 4]'),\n",
       " Text(121.97174721189592, 98.36571428571429, 'gini = 0.0\\nsamples = 1\\nvalue = [1, 0]'),\n",
       " Text(126.95018587360596, 98.36571428571429, 'X[3] <= 28.725\\ngini = 0.444\\nsamples = 6\\nvalue = [2, 4]'),\n",
       " Text(124.46096654275094, 88.01142857142858, 'X[2] <= 29.85\\ngini = 0.444\\nsamples = 3\\nvalue = [2, 1]'),\n",
       " Text(121.97174721189592, 77.65714285714284, 'gini = 0.5\\nsamples = 2\\nvalue = [1, 1]'),\n",
       " Text(126.95018587360596, 77.65714285714284, 'gini = 0.0\\nsamples = 1\\nvalue = [1, 0]'),\n",
       " Text(129.43940520446097, 88.01142857142858, 'gini = 0.0\\nsamples = 3\\nvalue = [0, 3]'),\n",
       " Text(129.43940520446097, 108.72, 'gini = 0.0\\nsamples = 2\\nvalue = [2, 0]'),\n",
       " Text(131.928624535316, 119.07428571428571, 'gini = 0.0\\nsamples = 1\\nvalue = [0, 1]'),\n",
       " Text(136.90706319702602, 139.78285714285715, 'X[2] <= 38.0\\ngini = 0.219\\nsamples = 8\\nvalue = [1, 7]'),\n",
       " Text(134.417843866171, 129.42857142857144, 'gini = 0.0\\nsamples = 6\\nvalue = [0, 6]'),\n",
       " Text(139.39628252788106, 129.42857142857144, 'X[3] <= 29.36\\ngini = 0.5\\nsamples = 2\\nvalue = [1, 1]'),\n",
       " Text(136.90706319702602, 119.07428571428571, 'gini = 0.0\\nsamples = 1\\nvalue = [1, 0]'),\n",
       " Text(141.88550185873606, 119.07428571428571, 'gini = 0.0\\nsamples = 1\\nvalue = [0, 1]'),\n",
       " Text(151.84237918215615, 150.13714285714286, 'X[3] <= 52.277\\ngini = 0.48\\nsamples = 30\\nvalue = [18, 12]'),\n",
       " Text(149.35315985130111, 139.78285714285715, 'gini = 0.0\\nsamples = 5\\nvalue = [5, 0]'),\n",
       " Text(154.33159851301116, 139.78285714285715, 'X[2] <= 30.35\\ngini = 0.499\\nsamples = 25\\nvalue = [13, 12]'),\n",
       " Text(149.35315985130111, 129.42857142857144, 'X[3] <= 123.258\\ngini = 0.444\\nsamples = 15\\nvalue = [10, 5]'),\n",
       " Text(146.8639405204461, 119.07428571428571, 'X[2] <= 27.5\\ngini = 0.5\\nsamples = 10\\nvalue = [5, 5]'),\n",
       " Text(144.3747211895911, 108.72, 'X[2] <= 24.5\\ngini = 0.469\\nsamples = 8\\nvalue = [3, 5]'),\n",
       " Text(141.88550185873606, 98.36571428571429, 'X[2] <= 18.0\\ngini = 0.48\\nsamples = 5\\nvalue = [3, 2]'),\n",
       " Text(139.39628252788106, 88.01142857142858, 'gini = 0.0\\nsamples = 1\\nvalue = [0, 1]'),\n",
       " Text(144.3747211895911, 88.01142857142858, 'X[3] <= 70.323\\ngini = 0.375\\nsamples = 4\\nvalue = [3, 1]'),\n",
       " Text(141.88550185873606, 77.65714285714284, 'X[2] <= 21.0\\ngini = 0.5\\nsamples = 2\\nvalue = [1, 1]'),\n",
       " Text(139.39628252788106, 67.30285714285714, 'gini = 0.0\\nsamples = 1\\nvalue = [1, 0]'),\n",
       " Text(144.3747211895911, 67.30285714285714, 'gini = 0.0\\nsamples = 1\\nvalue = [0, 1]'),\n",
       " Text(146.8639405204461, 77.65714285714284, 'gini = 0.0\\nsamples = 2\\nvalue = [2, 0]'),\n",
       " Text(146.8639405204461, 98.36571428571429, 'gini = 0.0\\nsamples = 3\\nvalue = [0, 3]'),\n",
       " Text(149.35315985130111, 108.72, 'gini = 0.0\\nsamples = 2\\nvalue = [2, 0]'),\n",
       " Text(151.84237918215615, 119.07428571428571, 'gini = 0.0\\nsamples = 5\\nvalue = [5, 0]'),\n",
       " Text(159.3100371747212, 129.42857142857144, 'X[3] <= 52.827\\ngini = 0.42\\nsamples = 10\\nvalue = [3, 7]'),\n",
       " Text(156.8208178438662, 119.07428571428571, 'gini = 0.0\\nsamples = 2\\nvalue = [0, 2]'),\n",
       " Text(161.7992565055762, 119.07428571428571, 'X[3] <= 55.05\\ngini = 0.469\\nsamples = 8\\nvalue = [3, 5]'),\n",
       " Text(159.3100371747212, 108.72, 'gini = 0.0\\nsamples = 1\\nvalue = [1, 0]'),\n",
       " Text(164.28847583643125, 108.72, 'X[3] <= 332.896\\ngini = 0.408\\nsamples = 7\\nvalue = [2, 5]'),\n",
       " Text(161.7992565055762, 98.36571428571429, 'X[3] <= 136.731\\ngini = 0.48\\nsamples = 5\\nvalue = [2, 3]'),\n",
       " Text(159.3100371747212, 88.01142857142858, 'X[3] <= 84.425\\ngini = 0.375\\nsamples = 4\\nvalue = [1, 3]'),\n",
       " Text(156.8208178438662, 77.65714285714284, 'X[2] <= 33.5\\ngini = 0.5\\nsamples = 2\\nvalue = [1, 1]'),\n",
       " Text(154.33159851301116, 67.30285714285714, 'gini = 0.0\\nsamples = 1\\nvalue = [0, 1]'),\n",
       " Text(159.3100371747212, 67.30285714285714, 'gini = 0.0\\nsamples = 1\\nvalue = [1, 0]'),\n",
       " Text(161.7992565055762, 77.65714285714284, 'gini = 0.0\\nsamples = 2\\nvalue = [0, 2]'),\n",
       " Text(164.28847583643125, 88.01142857142858, 'gini = 0.0\\nsamples = 1\\nvalue = [1, 0]'),\n",
       " Text(166.77769516728625, 98.36571428571429, 'gini = 0.0\\nsamples = 2\\nvalue = [0, 2]'),\n",
       " Text(194.15910780669145, 170.84571428571428, 'X[2] <= 75.5\\ngini = 0.32\\nsamples = 40\\nvalue = [32, 8]'),\n",
       " Text(191.66988847583644, 160.49142857142857, 'X[2] <= 60.5\\ngini = 0.295\\nsamples = 39\\nvalue = [32, 7]'),\n",
       " Text(189.18066914498144, 150.13714285714286, 'X[3] <= 123.462\\ngini = 0.358\\nsamples = 30\\nvalue = [23, 7]'),\n",
       " Text(186.6914498141264, 139.78285714285715, 'X[3] <= 27.525\\ngini = 0.328\\nsamples = 29\\nvalue = [23, 6]'),\n",
       " Text(179.22379182156135, 129.42857142857144, 'X[2] <= 53.5\\ngini = 0.49\\nsamples = 7\\nvalue = [4, 3]'),\n",
       " Text(176.73457249070634, 119.07428571428571, 'X[2] <= 47.5\\ngini = 0.48\\nsamples = 5\\nvalue = [2, 3]'),\n",
       " Text(174.2453531598513, 108.72, 'X[3] <= 26.069\\ngini = 0.444\\nsamples = 3\\nvalue = [2, 1]'),\n",
       " Text(171.7561338289963, 98.36571428571429, 'gini = 0.0\\nsamples = 1\\nvalue = [1, 0]'),\n",
       " Text(176.73457249070634, 98.36571428571429, 'gini = 0.5\\nsamples = 2\\nvalue = [1, 1]'),\n",
       " Text(179.22379182156135, 108.72, 'gini = 0.0\\nsamples = 2\\nvalue = [0, 2]'),\n",
       " Text(181.71301115241639, 119.07428571428571, 'gini = 0.0\\nsamples = 2\\nvalue = [2, 0]'),\n",
       " Text(194.15910780669145, 129.42857142857144, 'X[2] <= 59.0\\ngini = 0.236\\nsamples = 22\\nvalue = [19, 3]'),\n",
       " Text(191.66988847583644, 119.07428571428571, 'X[2] <= 55.5\\ngini = 0.172\\nsamples = 21\\nvalue = [19, 2]'),\n",
       " Text(184.2022304832714, 108.72, 'X[3] <= 86.29\\ngini = 0.111\\nsamples = 17\\nvalue = [16, 1]'),\n",
       " Text(181.71301115241639, 98.36571428571429, 'gini = 0.0\\nsamples = 13\\nvalue = [13, 0]'),\n",
       " Text(186.6914498141264, 98.36571428571429, 'X[3] <= 89.552\\ngini = 0.375\\nsamples = 4\\nvalue = [3, 1]'),\n",
       " Text(184.2022304832714, 88.01142857142858, 'gini = 0.0\\nsamples = 1\\nvalue = [0, 1]'),\n",
       " Text(189.18066914498144, 88.01142857142858, 'gini = 0.0\\nsamples = 3\\nvalue = [3, 0]'),\n",
       " Text(199.1375464684015, 108.72, 'X[2] <= 57.0\\ngini = 0.375\\nsamples = 4\\nvalue = [3, 1]'),\n",
       " Text(196.6483271375465, 98.36571428571429, 'X[3] <= 33.098\\ngini = 0.5\\nsamples = 2\\nvalue = [1, 1]'),\n",
       " Text(194.15910780669145, 88.01142857142858, 'gini = 0.0\\nsamples = 1\\nvalue = [1, 0]'),\n",
       " Text(199.1375464684015, 88.01142857142858, 'gini = 0.0\\nsamples = 1\\nvalue = [0, 1]'),\n",
       " Text(201.62676579925653, 98.36571428571429, 'gini = 0.0\\nsamples = 2\\nvalue = [2, 0]'),\n",
       " Text(196.6483271375465, 119.07428571428571, 'gini = 0.0\\nsamples = 1\\nvalue = [0, 1]'),\n",
       " Text(191.66988847583644, 139.78285714285715, 'gini = 0.0\\nsamples = 1\\nvalue = [0, 1]'),\n",
       " Text(194.15910780669145, 150.13714285714286, 'gini = 0.0\\nsamples = 9\\nvalue = [9, 0]'),\n",
       " Text(196.6483271375465, 160.49142857142857, 'gini = 0.0\\nsamples = 1\\nvalue = [0, 1]'),\n",
       " Text(252.29599210037176, 181.2, 'X[3] <= 7.91\\ngini = 0.169\\nsamples = 343\\nvalue = [311, 32]'),\n",
       " Text(225.89665427509294, 170.84571428571428, 'X[2] <= 29.35\\ngini = 0.107\\nsamples = 141\\nvalue = [133, 8]'),\n",
       " Text(215.31747211895913, 160.49142857142857, 'X[2] <= 26.5\\ngini = 0.183\\nsamples = 59\\nvalue = [53, 6]'),\n",
       " Text(206.60520446096655, 150.13714285714286, 'X[3] <= 7.227\\ngini = 0.117\\nsamples = 48\\nvalue = [45, 3]'),\n",
       " Text(201.62676579925653, 139.78285714285715, 'X[3] <= 7.133\\ngini = 0.32\\nsamples = 10\\nvalue = [8, 2]'),\n",
       " Text(199.1375464684015, 129.42857142857144, 'gini = 0.0\\nsamples = 7\\nvalue = [7, 0]'),\n",
       " Text(204.11598513011154, 129.42857142857144, 'X[2] <= 24.5\\ngini = 0.444\\nsamples = 3\\nvalue = [1, 2]'),\n",
       " Text(201.62676579925653, 119.07428571428571, 'gini = 0.0\\nsamples = 2\\nvalue = [0, 2]'),\n",
       " Text(206.60520446096655, 119.07428571428571, 'gini = 0.0\\nsamples = 1\\nvalue = [1, 0]'),\n",
       " Text(211.5836431226766, 139.78285714285715, 'X[3] <= 7.785\\ngini = 0.051\\nsamples = 38\\nvalue = [37, 1]'),\n",
       " Text(209.09442379182158, 129.42857142857144, 'gini = 0.0\\nsamples = 20\\nvalue = [20, 0]'),\n",
       " Text(214.07286245353163, 129.42857142857144, 'X[3] <= 7.798\\ngini = 0.105\\nsamples = 18\\nvalue = [17, 1]'),\n",
       " Text(211.5836431226766, 119.07428571428571, 'X[2] <= 19.5\\ngini = 0.444\\nsamples = 3\\nvalue = [2, 1]'),\n",
       " Text(209.09442379182158, 108.72, 'gini = 0.0\\nsamples = 1\\nvalue = [1, 0]'),\n",
       " Text(214.07286245353163, 108.72, 'X[2] <= 22.5\\ngini = 0.5\\nsamples = 2\\nvalue = [1, 1]'),\n",
       " Text(211.5836431226766, 98.36571428571429, 'gini = 0.0\\nsamples = 1\\nvalue = [0, 1]'),\n",
       " Text(216.56208178438663, 98.36571428571429, 'gini = 0.0\\nsamples = 1\\nvalue = [1, 0]'),\n",
       " Text(216.56208178438663, 119.07428571428571, 'gini = 0.0\\nsamples = 15\\nvalue = [15, 0]'),\n",
       " Text(224.0297397769517, 150.13714285714286, 'X[3] <= 7.825\\ngini = 0.397\\nsamples = 11\\nvalue = [8, 3]'),\n",
       " Text(221.54052044609668, 139.78285714285715, 'X[2] <= 27.5\\ngini = 0.5\\nsamples = 6\\nvalue = [3, 3]'),\n",
       " Text(219.05130111524164, 129.42857142857144, 'gini = 0.0\\nsamples = 2\\nvalue = [0, 2]'),\n",
       " Text(224.0297397769517, 129.42857142857144, 'X[3] <= 7.49\\ngini = 0.375\\nsamples = 4\\nvalue = [3, 1]'),\n",
       " Text(221.54052044609668, 119.07428571428571, 'gini = 0.0\\nsamples = 2\\nvalue = [2, 0]'),\n",
       " Text(226.51895910780672, 119.07428571428571, 'X[3] <= 7.773\\ngini = 0.5\\nsamples = 2\\nvalue = [1, 1]'),\n",
       " Text(224.0297397769517, 108.72, 'gini = 0.0\\nsamples = 1\\nvalue = [0, 1]'),\n",
       " Text(229.00817843866173, 108.72, 'gini = 0.0\\nsamples = 1\\nvalue = [1, 0]'),\n",
       " Text(226.51895910780672, 139.78285714285715, 'gini = 0.0\\nsamples = 5\\nvalue = [5, 0]'),\n",
       " Text(236.47583643122678, 160.49142857142857, 'X[3] <= 7.744\\ngini = 0.048\\nsamples = 82\\nvalue = [80, 2]'),\n",
       " Text(233.98661710037177, 150.13714285714286, 'gini = 0.0\\nsamples = 41\\nvalue = [41, 0]'),\n",
       " Text(238.96505576208182, 150.13714285714286, 'X[3] <= 7.815\\ngini = 0.093\\nsamples = 41\\nvalue = [39, 2]'),\n",
       " Text(236.47583643122678, 139.78285714285715, 'X[2] <= 30.35\\ngini = 0.188\\nsamples = 19\\nvalue = [17, 2]'),\n",
       " Text(233.98661710037177, 129.42857142857144, 'X[3] <= 7.763\\ngini = 0.32\\nsamples = 10\\nvalue = [8, 2]'),\n",
       " Text(231.49739776951674, 119.07428571428571, 'gini = 0.219\\nsamples = 8\\nvalue = [7, 1]'),\n",
       " Text(236.47583643122678, 119.07428571428571, 'gini = 0.5\\nsamples = 2\\nvalue = [1, 1]'),\n",
       " Text(238.96505576208182, 129.42857142857144, 'gini = 0.0\\nsamples = 9\\nvalue = [9, 0]'),\n",
       " Text(241.45427509293683, 139.78285714285715, 'gini = 0.0\\nsamples = 22\\nvalue = [22, 0]'),\n",
       " Text(278.6953299256506, 170.84571428571428, 'X[3] <= 7.988\\ngini = 0.209\\nsamples = 202\\nvalue = [178, 24]'),\n",
       " Text(251.41115241635688, 160.49142857142857, 'X[2] <= 41.5\\ngini = 0.444\\nsamples = 12\\nvalue = [8, 4]'),\n",
       " Text(248.92193308550188, 150.13714285714286, 'X[2] <= 20.5\\ngini = 0.397\\nsamples = 11\\nvalue = [8, 3]'),\n",
       " Text(246.43271375464687, 139.78285714285715, 'gini = 0.5\\nsamples = 2\\nvalue = [1, 1]'),\n",
       " Text(251.41115241635688, 139.78285714285715, 'X[2] <= 30.0\\ngini = 0.346\\nsamples = 9\\nvalue = [7, 2]'),\n",
       " Text(248.92193308550188, 129.42857142857144, 'gini = 0.0\\nsamples = 3\\nvalue = [3, 0]'),\n",
       " Text(253.90037174721192, 129.42857142857144, 'X[2] <= 38.0\\ngini = 0.444\\nsamples = 6\\nvalue = [4, 2]'),\n",
       " Text(251.41115241635688, 119.07428571428571, 'X[2] <= 34.5\\ngini = 0.375\\nsamples = 4\\nvalue = [3, 1]'),\n",
       " Text(248.92193308550188, 108.72, 'gini = 0.444\\nsamples = 3\\nvalue = [2, 1]'),\n",
       " Text(253.90037174721192, 108.72, 'gini = 0.0\\nsamples = 1\\nvalue = [1, 0]'),\n",
       " Text(256.3895910780669, 119.07428571428571, 'gini = 0.5\\nsamples = 2\\nvalue = [1, 1]'),\n",
       " Text(253.90037174721192, 150.13714285714286, 'gini = 0.0\\nsamples = 1\\nvalue = [0, 1]'),\n",
       " Text(305.97950743494425, 160.49142857142857, 'X[3] <= 51.698\\ngini = 0.188\\nsamples = 190\\nvalue = [170, 20]'),\n",
       " Text(291.7831784386617, 150.13714285714286, 'X[3] <= 15.796\\ngini = 0.174\\nsamples = 177\\nvalue = [160, 17]'),\n",
       " Text(280.8150557620818, 139.78285714285715, 'X[3] <= 15.646\\ngini = 0.219\\nsamples = 128\\nvalue = [112, 16]'),\n",
       " Text(278.3258364312268, 129.42857142857144, 'X[2] <= 19.5\\ngini = 0.208\\nsamples = 127\\nvalue = [112, 15]'),\n",
       " Text(263.857249070632, 119.07428571428571, 'X[3] <= 8.104\\ngini = 0.32\\nsamples = 20\\nvalue = [16, 4]'),\n",
       " Text(258.87881040892194, 108.72, 'X[2] <= 17.0\\ngini = 0.48\\nsamples = 5\\nvalue = [2, 3]'),\n",
       " Text(256.3895910780669, 98.36571428571429, 'gini = 0.5\\nsamples = 2\\nvalue = [1, 1]'),\n",
       " Text(261.368029739777, 98.36571428571429, 'X[2] <= 18.5\\ngini = 0.444\\nsamples = 3\\nvalue = [1, 2]'),\n",
       " Text(258.87881040892194, 88.01142857142858, 'gini = 0.0\\nsamples = 1\\nvalue = [0, 1]'),\n",
       " Text(263.857249070632, 88.01142857142858, 'gini = 0.5\\nsamples = 2\\nvalue = [1, 1]'),\n",
       " Text(268.835687732342, 108.72, 'X[2] <= 18.5\\ngini = 0.124\\nsamples = 15\\nvalue = [14, 1]'),\n",
       " Text(266.346468401487, 98.36571428571429, 'gini = 0.0\\nsamples = 9\\nvalue = [9, 0]'),\n",
       " Text(271.32490706319703, 98.36571428571429, 'X[0] <= 2.5\\ngini = 0.278\\nsamples = 6\\nvalue = [5, 1]'),\n",
       " Text(268.835687732342, 88.01142857142858, 'X[3] <= 11.75\\ngini = 0.444\\nsamples = 3\\nvalue = [2, 1]'),\n",
       " Text(266.346468401487, 77.65714285714284, 'gini = 0.5\\nsamples = 2\\nvalue = [1, 1]'),\n",
       " Text(271.32490706319703, 77.65714285714284, 'gini = 0.0\\nsamples = 1\\nvalue = [1, 0]'),\n",
       " Text(273.81412639405204, 88.01142857142858, 'gini = 0.0\\nsamples = 3\\nvalue = [3, 0]'),\n",
       " Text(292.7944237918216, 119.07428571428571, 'X[2] <= 26.5\\ngini = 0.184\\nsamples = 107\\nvalue = [96, 11]'),\n",
       " Text(290.3052044609666, 108.72, 'gini = 0.0\\nsamples = 25\\nvalue = [25, 0]'),\n",
       " Text(295.2836431226766, 108.72, 'X[3] <= 8.533\\ngini = 0.232\\nsamples = 82\\nvalue = [71, 11]'),\n",
       " Text(281.2817843866171, 98.36571428571429, 'X[2] <= 44.5\\ngini = 0.083\\nsamples = 23\\nvalue = [22, 1]'),\n",
       " Text(278.7925650557621, 88.01142857142858, 'gini = 0.0\\nsamples = 20\\nvalue = [20, 0]'),\n",
       " Text(283.7710037174721, 88.01142857142858, 'X[2] <= 47.5\\ngini = 0.444\\nsamples = 3\\nvalue = [2, 1]'),\n",
       " Text(281.2817843866171, 77.65714285714284, 'gini = 0.0\\nsamples = 1\\nvalue = [0, 1]'),\n",
       " Text(286.26022304832713, 77.65714285714284, 'gini = 0.0\\nsamples = 2\\nvalue = [2, 0]'),\n",
       " Text(309.2855018587361, 98.36571428571429, 'X[2] <= 32.0\\ngini = 0.282\\nsamples = 59\\nvalue = [49, 10]'),\n",
       " Text(293.7278810408922, 88.01142857142858, 'X[3] <= 8.688\\ngini = 0.375\\nsamples = 28\\nvalue = [21, 7]'),\n",
       " Text(291.2386617100372, 77.65714285714284, 'gini = 0.0\\nsamples = 1\\nvalue = [0, 1]'),\n",
       " Text(296.2171003717472, 77.65714285714284, 'X[2] <= 28.5\\ngini = 0.346\\nsamples = 27\\nvalue = [21, 6]'),\n",
       " Text(293.7278810408922, 67.30285714285714, 'gini = 0.0\\nsamples = 7\\nvalue = [7, 0]'),\n",
       " Text(298.70631970260223, 67.30285714285714, 'X[3] <= 14.16\\ngini = 0.42\\nsamples = 20\\nvalue = [14, 6]'),\n",
       " Text(292.4832713754647, 56.94857142857143, 'X[3] <= 9.492\\ngini = 0.486\\nsamples = 12\\nvalue = [7, 5]'),\n",
       " Text(289.9940520446097, 46.59428571428572, 'gini = 0.0\\nsamples = 2\\nvalue = [2, 0]'),\n",
       " Text(294.9724907063197, 46.59428571428572, 'X[2] <= 29.85\\ngini = 0.5\\nsamples = 10\\nvalue = [5, 5]'),\n",
       " Text(289.9940520446097, 36.24000000000001, 'X[0] <= 2.5\\ngini = 0.375\\nsamples = 4\\nvalue = [1, 3]'),\n",
       " Text(287.5048327137547, 25.8857142857143, 'gini = 0.0\\nsamples = 2\\nvalue = [0, 2]'),\n",
       " Text(292.4832713754647, 25.8857142857143, 'X[2] <= 29.35\\ngini = 0.5\\nsamples = 2\\nvalue = [1, 1]'),\n",
       " Text(289.9940520446097, 15.531428571428563, 'gini = 0.0\\nsamples = 1\\nvalue = [0, 1]'),\n",
       " Text(294.9724907063197, 15.531428571428563, 'gini = 0.0\\nsamples = 1\\nvalue = [1, 0]'),\n",
       " Text(299.9509293680298, 36.24000000000001, 'X[3] <= 10.0\\ngini = 0.444\\nsamples = 6\\nvalue = [4, 2]'),\n",
       " Text(297.4617100371747, 25.8857142857143, 'gini = 0.0\\nsamples = 1\\nvalue = [0, 1]'),\n",
       " Text(302.4401486988848, 25.8857142857143, 'X[2] <= 30.5\\ngini = 0.32\\nsamples = 5\\nvalue = [4, 1]'),\n",
       " Text(299.9509293680298, 15.531428571428563, 'gini = 0.0\\nsamples = 3\\nvalue = [3, 0]'),\n",
       " Text(304.9293680297398, 15.531428571428563, 'X[3] <= 11.75\\ngini = 0.5\\nsamples = 2\\nvalue = [1, 1]'),\n",
       " Text(302.4401486988848, 5.177142857142854, 'gini = 0.0\\nsamples = 1\\nvalue = [1, 0]'),\n",
       " Text(307.4185873605948, 5.177142857142854, 'gini = 0.0\\nsamples = 1\\nvalue = [0, 1]'),\n",
       " Text(304.9293680297398, 56.94857142857143, 'X[3] <= 15.173\\ngini = 0.219\\nsamples = 8\\nvalue = [7, 1]'),\n",
       " Text(302.4401486988848, 46.59428571428572, 'gini = 0.0\\nsamples = 5\\nvalue = [5, 0]'),\n",
       " Text(307.4185873605948, 46.59428571428572, 'X[3] <= 15.373\\ngini = 0.444\\nsamples = 3\\nvalue = [2, 1]'),\n",
       " Text(304.9293680297398, 36.24000000000001, 'gini = 0.0\\nsamples = 1\\nvalue = [0, 1]'),\n",
       " Text(309.9078066914498, 36.24000000000001, 'gini = 0.0\\nsamples = 2\\nvalue = [2, 0]'),\n",
       " Text(324.8431226765799, 88.01142857142858, 'X[2] <= 60.5\\ngini = 0.175\\nsamples = 31\\nvalue = [28, 3]'),\n",
       " Text(319.8646840148699, 77.65714285714284, 'X[3] <= 12.938\\ngini = 0.133\\nsamples = 28\\nvalue = [26, 2]'),\n",
       " Text(317.3754646840149, 67.30285714285714, 'gini = 0.0\\nsamples = 10\\nvalue = [10, 0]'),\n",
       " Text(322.3539033457249, 67.30285714285714, 'X[3] <= 13.25\\ngini = 0.198\\nsamples = 18\\nvalue = [16, 2]'),\n",
       " Text(319.8646840148699, 56.94857142857143, 'X[2] <= 45.0\\ngini = 0.32\\nsamples = 10\\nvalue = [8, 2]'),\n",
       " Text(317.3754646840149, 46.59428571428572, 'X[2] <= 40.5\\ngini = 0.408\\nsamples = 7\\nvalue = [5, 2]'),\n",
       " Text(314.8862453531599, 36.24000000000001, 'X[2] <= 35.0\\ngini = 0.32\\nsamples = 5\\nvalue = [4, 1]'),\n",
       " Text(312.3970260223049, 25.8857142857143, 'gini = 0.444\\nsamples = 3\\nvalue = [2, 1]'),\n",
       " Text(317.3754646840149, 25.8857142857143, 'gini = 0.0\\nsamples = 2\\nvalue = [2, 0]'),\n",
       " Text(319.8646840148699, 36.24000000000001, 'gini = 0.5\\nsamples = 2\\nvalue = [1, 1]'),\n",
       " Text(322.3539033457249, 46.59428571428572, 'gini = 0.0\\nsamples = 3\\nvalue = [3, 0]'),\n",
       " Text(324.8431226765799, 56.94857142857143, 'gini = 0.0\\nsamples = 8\\nvalue = [8, 0]'),\n",
       " Text(329.82156133829, 77.65714285714284, 'X[2] <= 64.0\\ngini = 0.444\\nsamples = 3\\nvalue = [2, 1]'),\n",
       " Text(327.332342007435, 67.30285714285714, 'gini = 0.0\\nsamples = 1\\nvalue = [0, 1]'),\n",
       " Text(332.310780669145, 67.30285714285714, 'gini = 0.0\\nsamples = 2\\nvalue = [2, 0]'),\n",
       " Text(283.30427509293685, 129.42857142857144, 'gini = 0.0\\nsamples = 1\\nvalue = [0, 1]'),\n",
       " Text(302.7513011152417, 139.78285714285715, 'X[2] <= 31.5\\ngini = 0.04\\nsamples = 49\\nvalue = [48, 1]'),\n",
       " Text(300.2620817843866, 129.42857142857144, 'gini = 0.0\\nsamples = 27\\nvalue = [27, 0]'),\n",
       " Text(305.2405204460967, 129.42857142857144, 'X[2] <= 32.25\\ngini = 0.087\\nsamples = 22\\nvalue = [21, 1]'),\n",
       " Text(302.7513011152417, 119.07428571428571, 'X[0] <= 2.5\\ngini = 0.5\\nsamples = 2\\nvalue = [1, 1]'),\n",
       " Text(300.2620817843866, 108.72, 'gini = 0.0\\nsamples = 1\\nvalue = [0, 1]'),\n",
       " Text(305.2405204460967, 108.72, 'gini = 0.0\\nsamples = 1\\nvalue = [1, 0]'),\n",
       " Text(307.7297397769517, 119.07428571428571, 'gini = 0.0\\nsamples = 20\\nvalue = [20, 0]'),\n",
       " Text(320.1758364312268, 150.13714285714286, 'X[3] <= 63.023\\ngini = 0.355\\nsamples = 13\\nvalue = [10, 3]'),\n",
       " Text(317.6866171003718, 139.78285714285715, 'X[2] <= 30.85\\ngini = 0.48\\nsamples = 5\\nvalue = [2, 3]'),\n",
       " Text(315.1973977695167, 129.42857142857144, 'X[2] <= 27.0\\ngini = 0.444\\nsamples = 3\\nvalue = [2, 1]'),\n",
       " Text(312.7081784386617, 119.07428571428571, 'gini = 0.0\\nsamples = 1\\nvalue = [0, 1]'),\n",
       " Text(317.6866171003718, 119.07428571428571, 'gini = 0.0\\nsamples = 2\\nvalue = [2, 0]'),\n",
       " Text(320.1758364312268, 129.42857142857144, 'gini = 0.0\\nsamples = 2\\nvalue = [0, 2]'),\n",
       " Text(322.6650557620818, 139.78285714285715, 'gini = 0.0\\nsamples = 8\\nvalue = [8, 0]')]"
      ]
     },
     "execution_count": 27,
     "metadata": {},
     "output_type": "execute_result"
    },
    {
     "data": {
      "image/png": "[encoded data removed]",
      "text/plain": [
       "<Figure size 432x288 with 1 Axes>"
      ]
     },
     "metadata": {
      "needs_background": "light"
     },
     "output_type": "display_data"
    }
   ],
   "source": [
    "tree.plot_tree(model)"
   ]
  },
  {
   "cell_type": "code",
   "execution_count": 31,
   "metadata": {},
   "outputs": [
    {
     "data": {
      "image/png": "[encoded data removed]",
      "text/plain": [
       "<Figure size 1800x1440 with 1 Axes>"
      ]
     },
     "metadata": {
      "needs_background": "light"
     },
     "output_type": "display_data"
    }
   ],
   "source": [
    "import matplotlib.pyplot as plt\n",
    "fig = plt.figure(figsize=(25,20))\n",
    "_ = tree.plot_tree(model, max_depth=4,\n",
    "                   filled=True)\n",
    "plt.savefig('dt.png',dpi=400)"
   ]
  },
  {
   "cell_type": "code",
   "execution_count": 36,
   "metadata": {},
   "outputs": [
    {
     "name": "stdout",
     "output_type": "stream",
     "text": [
      "Requirement already satisfied: graphviz in c:\\programdata\\anaconda3\\lib\\site-packages (0.19.1)\n"
     ]
    },
    {
     "name": "stderr",
     "output_type": "stream",
     "text": [
      "WARNING: Ignoring invalid distribution -ikit-learn (c:\\programdata\\anaconda3\\lib\\site-packages)\n",
      "WARNING: Ignoring invalid distribution -ikit-learn (c:\\programdata\\anaconda3\\lib\\site-packages)\n",
      "WARNING: Ignoring invalid distribution - (c:\\programdata\\anaconda3\\lib\\site-packages)\n",
      "WARNING: Ignoring invalid distribution -cikit-learn (c:\\programdata\\anaconda3\\lib\\site-packages)\n",
      "WARNING: Ignoring invalid distribution -ikit-learn (c:\\programdata\\anaconda3\\lib\\site-packages)\n",
      "WARNING: Ignoring invalid distribution -ikit-learn (c:\\programdata\\anaconda3\\lib\\site-packages)\n",
      "WARNING: Ignoring invalid distribution - (c:\\programdata\\anaconda3\\lib\\site-packages)\n",
      "WARNING: Ignoring invalid distribution -cikit-learn (c:\\programdata\\anaconda3\\lib\\site-packages)\n",
      "WARNING: Ignoring invalid distribution -ikit-learn (c:\\programdata\\anaconda3\\lib\\site-packages)\n",
      "WARNING: Ignoring invalid distribution -ikit-learn (c:\\programdata\\anaconda3\\lib\\site-packages)\n",
      "WARNING: Ignoring invalid distribution - (c:\\programdata\\anaconda3\\lib\\site-packages)\n",
      "WARNING: Ignoring invalid distribution -cikit-learn (c:\\programdata\\anaconda3\\lib\\site-packages)\n",
      "WARNING: Ignoring invalid distribution -ikit-learn (c:\\programdata\\anaconda3\\lib\\site-packages)\n",
      "WARNING: Ignoring invalid distribution -ikit-learn (c:\\programdata\\anaconda3\\lib\\site-packages)\n",
      "WARNING: Ignoring invalid distribution - (c:\\programdata\\anaconda3\\lib\\site-packages)\n",
      "WARNING: Ignoring invalid distribution -cikit-learn (c:\\programdata\\anaconda3\\lib\\site-packages)\n",
      "WARNING: Ignoring invalid distribution -ikit-learn (c:\\programdata\\anaconda3\\lib\\site-packages)\n",
      "WARNING: Ignoring invalid distribution -ikit-learn (c:\\programdata\\anaconda3\\lib\\site-packages)\n",
      "WARNING: Ignoring invalid distribution - (c:\\programdata\\anaconda3\\lib\\site-packages)\n",
      "WARNING: Ignoring invalid distribution -cikit-learn (c:\\programdata\\anaconda3\\lib\\site-packages)\n",
      "WARNING: Ignoring invalid distribution -ikit-learn (c:\\programdata\\anaconda3\\lib\\site-packages)\n",
      "WARNING: Ignoring invalid distribution -ikit-learn (c:\\programdata\\anaconda3\\lib\\site-packages)\n",
      "WARNING: Ignoring invalid distribution - (c:\\programdata\\anaconda3\\lib\\site-packages)\n",
      "WARNING: Ignoring invalid distribution -cikit-learn (c:\\programdata\\anaconda3\\lib\\site-packages)\n"
     ]
    }
   ],
   "source": [
    "!pip install graphviz"
   ]
  },
  {
   "cell_type": "code",
   "execution_count": 37,
   "metadata": {
    "scrolled": true
   },
   "outputs": [
    {
     "name": "stdout",
     "output_type": "stream",
     "text": [
      "Requirement already satisfied: dtreeviz in c:\\programdata\\anaconda3\\lib\\site-packages (1.3.5)\n",
      "Requirement already satisfied: pandas in c:\\programdata\\anaconda3\\lib\\site-packages (from dtreeviz) (1.3.4)\n",
      "Requirement already satisfied: pytest in c:\\programdata\\anaconda3\\lib\\site-packages (from dtreeviz) (6.2.4)\n",
      "Requirement already satisfied: scikit-learn in c:\\programdata\\anaconda3\\lib\\site-packages (from dtreeviz) (0.24.2)\n",
      "Requirement already satisfied: graphviz>=0.9 in c:\\programdata\\anaconda3\\lib\\site-packages (from dtreeviz) (0.19.1)\n",
      "Requirement already satisfied: colour in c:\\programdata\\anaconda3\\lib\\site-packages (from dtreeviz) (0.1.5)\n",
      "Requirement already satisfied: matplotlib in c:\\programdata\\anaconda3\\lib\\site-packages (from dtreeviz) (3.4.3)\n",
      "Requirement already satisfied: numpy in c:\\programdata\\anaconda3\\lib\\site-packages (from dtreeviz) (1.20.3)\n",
      "Requirement already satisfied: pyparsing>=2.2.1 in c:\\programdata\\anaconda3\\lib\\site-packages (from matplotlib->dtreeviz) (3.0.4)\n",
      "Requirement already satisfied: pillow>=6.2.0 in c:\\programdata\\anaconda3\\lib\\site-packages (from matplotlib->dtreeviz) (8.4.0)\n",
      "Requirement already satisfied: python-dateutil>=2.7 in c:\\programdata\\anaconda3\\lib\\site-packages (from matplotlib->dtreeviz) (2.8.2)\n",
      "Requirement already satisfied: kiwisolver>=1.0.1 in c:\\programdata\\anaconda3\\lib\\site-packages (from matplotlib->dtreeviz) (1.3.1)\n",
      "Requirement already satisfied: cycler>=0.10 in c:\\programdata\\anaconda3\\lib\\site-packages (from matplotlib->dtreeviz) (0.10.0)\n",
      "Requirement already satisfied: six in c:\\programdata\\anaconda3\\lib\\site-packages (from cycler>=0.10->matplotlib->dtreeviz) (1.16.0)\n",
      "Requirement already satisfied: pytz>=2017.3 in c:\\programdata\\anaconda3\\lib\\site-packages (from pandas->dtreeviz) (2021.3)\n",
      "Requirement already satisfied: attrs>=19.2.0 in c:\\programdata\\anaconda3\\lib\\site-packages (from pytest->dtreeviz) (21.2.0)\n",
      "Requirement already satisfied: iniconfig in c:\\programdata\\anaconda3\\lib\\site-packages (from pytest->dtreeviz) (1.1.1)\n",
      "Requirement already satisfied: packaging in c:\\programdata\\anaconda3\\lib\\site-packages (from pytest->dtreeviz) (21.0)\n",
      "Requirement already satisfied: pluggy<1.0.0a1,>=0.12 in c:\\programdata\\anaconda3\\lib\\site-packages (from pytest->dtreeviz) (0.13.1)\n",
      "Requirement already satisfied: py>=1.8.2 in c:\\programdata\\anaconda3\\lib\\site-packages (from pytest->dtreeviz) (1.10.0)\n",
      "Requirement already satisfied: toml in c:\\programdata\\anaconda3\\lib\\site-packages (from pytest->dtreeviz) (0.10.2)"
     ]
    },
    {
     "name": "stderr",
     "output_type": "stream",
     "text": [
      "WARNING: Ignoring invalid distribution -ikit-learn (c:\\programdata\\anaconda3\\lib\\site-packages)\n",
      "WARNING: Ignoring invalid distribution -ikit-learn (c:\\programdata\\anaconda3\\lib\\site-packages)\n",
      "WARNING: Ignoring invalid distribution - (c:\\programdata\\anaconda3\\lib\\site-packages)\n",
      "WARNING: Ignoring invalid distribution -cikit-learn (c:\\programdata\\anaconda3\\lib\\site-packages)\n",
      "WARNING: Ignoring invalid distribution -ikit-learn (c:\\programdata\\anaconda3\\lib\\site-packages)\n",
      "WARNING: Ignoring invalid distribution -ikit-learn (c:\\programdata\\anaconda3\\lib\\site-packages)\n",
      "WARNING: Ignoring invalid distribution - (c:\\programdata\\anaconda3\\lib\\site-packages)\n",
      "WARNING: Ignoring invalid distribution -cikit-learn (c:\\programdata\\anaconda3\\lib\\site-packages)\n",
      "WARNING: Ignoring invalid distribution -ikit-learn (c:\\programdata\\anaconda3\\lib\\site-packages)\n",
      "WARNING: Ignoring invalid distribution -ikit-learn (c:\\programdata\\anaconda3\\lib\\site-packages)\n",
      "WARNING: Ignoring invalid distribution - (c:\\programdata\\anaconda3\\lib\\site-packages)\n",
      "WARNING: Ignoring invalid distribution -cikit-learn (c:\\programdata\\anaconda3\\lib\\site-packages)\n",
      "WARNING: Ignoring invalid distribution -ikit-learn (c:\\programdata\\anaconda3\\lib\\site-packages)\n",
      "WARNING: Ignoring invalid distribution -ikit-learn (c:\\programdata\\anaconda3\\lib\\site-packages)\n",
      "WARNING: Ignoring invalid distribution - (c:\\programdata\\anaconda3\\lib\\site-packages)\n",
      "WARNING: Ignoring invalid distribution -cikit-learn (c:\\programdata\\anaconda3\\lib\\site-packages)\n",
      "WARNING: Ignoring invalid distribution -ikit-learn (c:\\programdata\\anaconda3\\lib\\site-packages)\n",
      "WARNING: Ignoring invalid distribution -ikit-learn (c:\\programdata\\anaconda3\\lib\\site-packages)\n",
      "WARNING: Ignoring invalid distribution - (c:\\programdata\\anaconda3\\lib\\site-packages)\n",
      "WARNING: Ignoring invalid distribution -cikit-learn (c:\\programdata\\anaconda3\\lib\\site-packages)\n",
      "WARNING: Ignoring invalid distribution -ikit-learn (c:\\programdata\\anaconda3\\lib\\site-packages)\n",
      "WARNING: Ignoring invalid distribution -ikit-learn (c:\\programdata\\anaconda3\\lib\\site-packages)\n",
      "WARNING: Ignoring invalid distribution - (c:\\programdata\\anaconda3\\lib\\site-packages)\n",
      "WARNING: Ignoring invalid distribution -cikit-learn (c:\\programdata\\anaconda3\\lib\\site-packages)\n"
     ]
    },
    {
     "name": "stdout",
     "output_type": "stream",
     "text": [
      "\n",
      "Requirement already satisfied: atomicwrites>=1.0 in c:\\programdata\\anaconda3\\lib\\site-packages (from pytest->dtreeviz) (1.4.0)\n",
      "Requirement already satisfied: colorama in c:\\programdata\\anaconda3\\lib\\site-packages (from pytest->dtreeviz) (0.4.4)\n",
      "Requirement already satisfied: scipy>=0.19.1 in c:\\programdata\\anaconda3\\lib\\site-packages (from scikit-learn->dtreeviz) (1.7.1)\n",
      "Requirement already satisfied: threadpoolctl>=2.0.0 in c:\\programdata\\anaconda3\\lib\\site-packages (from scikit-learn->dtreeviz) (2.2.0)\n",
      "Requirement already satisfied: joblib>=0.11 in c:\\programdata\\anaconda3\\lib\\site-packages (from scikit-learn->dtreeviz) (1.1.0)\n"
     ]
    }
   ],
   "source": [
    "!pip install dtreeviz"
   ]
  },
  {
   "cell_type": "code",
   "execution_count": 38,
   "metadata": {},
   "outputs": [
    {
     "ename": "ExecutableNotFound",
     "evalue": "failed to execute 'dot', make sure the Graphviz executables are on your systems' PATH",
     "output_type": "error",
     "traceback": [
      "\u001b[1;31m---------------------------------------------------------------------------\u001b[0m",
      "\u001b[1;31mFileNotFoundError\u001b[0m                         Traceback (most recent call last)",
      "\u001b[1;32mC:\\ProgramData\\Anaconda3\\lib\\site-packages\\graphviz\\backend\\execute.py\u001b[0m in \u001b[0;36mrun_check\u001b[1;34m(cmd, input_lines, encoding, capture_output, quiet, **kwargs)\u001b[0m\n\u001b[0;32m     84\u001b[0m         \u001b[1;32melse\u001b[0m\u001b[1;33m:\u001b[0m\u001b[1;33m\u001b[0m\u001b[1;33m\u001b[0m\u001b[0m\n\u001b[1;32m---> 85\u001b[1;33m             \u001b[0mproc\u001b[0m \u001b[1;33m=\u001b[0m \u001b[0msubprocess\u001b[0m\u001b[1;33m.\u001b[0m\u001b[0mrun\u001b[0m\u001b[1;33m(\u001b[0m\u001b[0mcmd\u001b[0m\u001b[1;33m,\u001b[0m \u001b[1;33m**\u001b[0m\u001b[0mkwargs\u001b[0m\u001b[1;33m)\u001b[0m\u001b[1;33m\u001b[0m\u001b[1;33m\u001b[0m\u001b[0m\n\u001b[0m\u001b[0;32m     86\u001b[0m     \u001b[1;32mexcept\u001b[0m \u001b[0mOSError\u001b[0m \u001b[1;32mas\u001b[0m \u001b[0me\u001b[0m\u001b[1;33m:\u001b[0m\u001b[1;33m\u001b[0m\u001b[1;33m\u001b[0m\u001b[0m\n",
      "\u001b[1;32mC:\\ProgramData\\Anaconda3\\lib\\subprocess.py\u001b[0m in \u001b[0;36mrun\u001b[1;34m(input, capture_output, timeout, check, *popenargs, **kwargs)\u001b[0m\n\u001b[0;32m    504\u001b[0m \u001b[1;33m\u001b[0m\u001b[0m\n\u001b[1;32m--> 505\u001b[1;33m     \u001b[1;32mwith\u001b[0m \u001b[0mPopen\u001b[0m\u001b[1;33m(\u001b[0m\u001b[1;33m*\u001b[0m\u001b[0mpopenargs\u001b[0m\u001b[1;33m,\u001b[0m \u001b[1;33m**\u001b[0m\u001b[0mkwargs\u001b[0m\u001b[1;33m)\u001b[0m \u001b[1;32mas\u001b[0m \u001b[0mprocess\u001b[0m\u001b[1;33m:\u001b[0m\u001b[1;33m\u001b[0m\u001b[1;33m\u001b[0m\u001b[0m\n\u001b[0m\u001b[0;32m    506\u001b[0m         \u001b[1;32mtry\u001b[0m\u001b[1;33m:\u001b[0m\u001b[1;33m\u001b[0m\u001b[1;33m\u001b[0m\u001b[0m\n",
      "\u001b[1;32mC:\\ProgramData\\Anaconda3\\lib\\subprocess.py\u001b[0m in \u001b[0;36m__init__\u001b[1;34m(self, args, bufsize, executable, stdin, stdout, stderr, preexec_fn, close_fds, shell, cwd, env, universal_newlines, startupinfo, creationflags, restore_signals, start_new_session, pass_fds, user, group, extra_groups, encoding, errors, text, umask)\u001b[0m\n\u001b[0;32m    950\u001b[0m \u001b[1;33m\u001b[0m\u001b[0m\n\u001b[1;32m--> 951\u001b[1;33m             self._execute_child(args, executable, preexec_fn, close_fds,\n\u001b[0m\u001b[0;32m    952\u001b[0m                                 \u001b[0mpass_fds\u001b[0m\u001b[1;33m,\u001b[0m \u001b[0mcwd\u001b[0m\u001b[1;33m,\u001b[0m \u001b[0menv\u001b[0m\u001b[1;33m,\u001b[0m\u001b[1;33m\u001b[0m\u001b[1;33m\u001b[0m\u001b[0m\n",
      "\u001b[1;32mC:\\ProgramData\\Anaconda3\\lib\\subprocess.py\u001b[0m in \u001b[0;36m_execute_child\u001b[1;34m(self, args, executable, preexec_fn, close_fds, pass_fds, cwd, env, startupinfo, creationflags, shell, p2cread, p2cwrite, c2pread, c2pwrite, errread, errwrite, unused_restore_signals, unused_gid, unused_gids, unused_uid, unused_umask, unused_start_new_session)\u001b[0m\n\u001b[0;32m   1419\u001b[0m             \u001b[1;32mtry\u001b[0m\u001b[1;33m:\u001b[0m\u001b[1;33m\u001b[0m\u001b[1;33m\u001b[0m\u001b[0m\n\u001b[1;32m-> 1420\u001b[1;33m                 hp, ht, pid, tid = _winapi.CreateProcess(executable, args,\n\u001b[0m\u001b[0;32m   1421\u001b[0m                                          \u001b[1;31m# no special security\u001b[0m\u001b[1;33m\u001b[0m\u001b[1;33m\u001b[0m\u001b[0m\n",
      "\u001b[1;31mFileNotFoundError\u001b[0m: [WinError 2] The system cannot find the file specified",
      "\nThe above exception was the direct cause of the following exception:\n",
      "\u001b[1;31mExecutableNotFound\u001b[0m                        Traceback (most recent call last)",
      "\u001b[1;32mC:\\ProgramData\\Anaconda3\\lib\\site-packages\\IPython\\core\\formatters.py\u001b[0m in \u001b[0;36m__call__\u001b[1;34m(self, obj)\u001b[0m\n\u001b[0;32m    343\u001b[0m             \u001b[0mmethod\u001b[0m \u001b[1;33m=\u001b[0m \u001b[0mget_real_method\u001b[0m\u001b[1;33m(\u001b[0m\u001b[0mobj\u001b[0m\u001b[1;33m,\u001b[0m \u001b[0mself\u001b[0m\u001b[1;33m.\u001b[0m\u001b[0mprint_method\u001b[0m\u001b[1;33m)\u001b[0m\u001b[1;33m\u001b[0m\u001b[1;33m\u001b[0m\u001b[0m\n\u001b[0;32m    344\u001b[0m             \u001b[1;32mif\u001b[0m \u001b[0mmethod\u001b[0m \u001b[1;32mis\u001b[0m \u001b[1;32mnot\u001b[0m \u001b[1;32mNone\u001b[0m\u001b[1;33m:\u001b[0m\u001b[1;33m\u001b[0m\u001b[1;33m\u001b[0m\u001b[0m\n\u001b[1;32m--> 345\u001b[1;33m                 \u001b[1;32mreturn\u001b[0m \u001b[0mmethod\u001b[0m\u001b[1;33m(\u001b[0m\u001b[1;33m)\u001b[0m\u001b[1;33m\u001b[0m\u001b[1;33m\u001b[0m\u001b[0m\n\u001b[0m\u001b[0;32m    346\u001b[0m             \u001b[1;32mreturn\u001b[0m \u001b[1;32mNone\u001b[0m\u001b[1;33m\u001b[0m\u001b[1;33m\u001b[0m\u001b[0m\n\u001b[0;32m    347\u001b[0m         \u001b[1;32melse\u001b[0m\u001b[1;33m:\u001b[0m\u001b[1;33m\u001b[0m\u001b[1;33m\u001b[0m\u001b[0m\n",
      "\u001b[1;32mC:\\ProgramData\\Anaconda3\\lib\\site-packages\\dtreeviz\\trees.py\u001b[0m in \u001b[0;36m_repr_svg_\u001b[1;34m(self)\u001b[0m\n\u001b[0;32m     35\u001b[0m \u001b[1;33m\u001b[0m\u001b[0m\n\u001b[0;32m     36\u001b[0m     \u001b[1;32mdef\u001b[0m \u001b[0m_repr_svg_\u001b[0m\u001b[1;33m(\u001b[0m\u001b[0mself\u001b[0m\u001b[1;33m)\u001b[0m\u001b[1;33m:\u001b[0m\u001b[1;33m\u001b[0m\u001b[1;33m\u001b[0m\u001b[0m\n\u001b[1;32m---> 37\u001b[1;33m         \u001b[1;32mreturn\u001b[0m \u001b[0mself\u001b[0m\u001b[1;33m.\u001b[0m\u001b[0msvg\u001b[0m\u001b[1;33m(\u001b[0m\u001b[1;33m)\u001b[0m\u001b[1;33m\u001b[0m\u001b[1;33m\u001b[0m\u001b[0m\n\u001b[0m\u001b[0;32m     38\u001b[0m \u001b[1;33m\u001b[0m\u001b[0m\n\u001b[0;32m     39\u001b[0m     \u001b[1;32mdef\u001b[0m \u001b[0msvg\u001b[0m\u001b[1;33m(\u001b[0m\u001b[0mself\u001b[0m\u001b[1;33m)\u001b[0m\u001b[1;33m:\u001b[0m\u001b[1;33m\u001b[0m\u001b[1;33m\u001b[0m\u001b[0m\n",
      "\u001b[1;32mC:\\ProgramData\\Anaconda3\\lib\\site-packages\\dtreeviz\\trees.py\u001b[0m in \u001b[0;36msvg\u001b[1;34m(self)\u001b[0m\n\u001b[0;32m     39\u001b[0m     \u001b[1;32mdef\u001b[0m \u001b[0msvg\u001b[0m\u001b[1;33m(\u001b[0m\u001b[0mself\u001b[0m\u001b[1;33m)\u001b[0m\u001b[1;33m:\u001b[0m\u001b[1;33m\u001b[0m\u001b[1;33m\u001b[0m\u001b[0m\n\u001b[0;32m     40\u001b[0m         \u001b[1;34m\"\"\"Render tree as svg and return svg text.\"\"\"\u001b[0m\u001b[1;33m\u001b[0m\u001b[1;33m\u001b[0m\u001b[0m\n\u001b[1;32m---> 41\u001b[1;33m         \u001b[0msvgfilename\u001b[0m \u001b[1;33m=\u001b[0m \u001b[0mself\u001b[0m\u001b[1;33m.\u001b[0m\u001b[0msave_svg\u001b[0m\u001b[1;33m(\u001b[0m\u001b[1;33m)\u001b[0m\u001b[1;33m\u001b[0m\u001b[1;33m\u001b[0m\u001b[0m\n\u001b[0m\u001b[0;32m     42\u001b[0m         \u001b[1;32mwith\u001b[0m \u001b[0mopen\u001b[0m\u001b[1;33m(\u001b[0m\u001b[0msvgfilename\u001b[0m\u001b[1;33m,\u001b[0m \u001b[0mencoding\u001b[0m\u001b[1;33m=\u001b[0m\u001b[1;34m'UTF-8'\u001b[0m\u001b[1;33m)\u001b[0m \u001b[1;32mas\u001b[0m \u001b[0mf\u001b[0m\u001b[1;33m:\u001b[0m\u001b[1;33m\u001b[0m\u001b[1;33m\u001b[0m\u001b[0m\n\u001b[0;32m     43\u001b[0m             \u001b[0msvg\u001b[0m \u001b[1;33m=\u001b[0m \u001b[0mf\u001b[0m\u001b[1;33m.\u001b[0m\u001b[0mread\u001b[0m\u001b[1;33m(\u001b[0m\u001b[1;33m)\u001b[0m\u001b[1;33m\u001b[0m\u001b[1;33m\u001b[0m\u001b[0m\n",
      "\u001b[1;32mC:\\ProgramData\\Anaconda3\\lib\\site-packages\\dtreeviz\\trees.py\u001b[0m in \u001b[0;36msave_svg\u001b[1;34m(self)\u001b[0m\n\u001b[0;32m     52\u001b[0m         \u001b[0mtmp\u001b[0m \u001b[1;33m=\u001b[0m \u001b[0mtempfile\u001b[0m\u001b[1;33m.\u001b[0m\u001b[0mgettempdir\u001b[0m\u001b[1;33m(\u001b[0m\u001b[1;33m)\u001b[0m\u001b[1;33m\u001b[0m\u001b[1;33m\u001b[0m\u001b[0m\n\u001b[0;32m     53\u001b[0m         \u001b[0msvgfilename\u001b[0m \u001b[1;33m=\u001b[0m \u001b[0mos\u001b[0m\u001b[1;33m.\u001b[0m\u001b[0mpath\u001b[0m\u001b[1;33m.\u001b[0m\u001b[0mjoin\u001b[0m\u001b[1;33m(\u001b[0m\u001b[0mtmp\u001b[0m\u001b[1;33m,\u001b[0m \u001b[1;34mf\"DTreeViz_{os.getpid()}.svg\"\u001b[0m\u001b[1;33m)\u001b[0m\u001b[1;33m\u001b[0m\u001b[1;33m\u001b[0m\u001b[0m\n\u001b[1;32m---> 54\u001b[1;33m         \u001b[0mself\u001b[0m\u001b[1;33m.\u001b[0m\u001b[0msave\u001b[0m\u001b[1;33m(\u001b[0m\u001b[0msvgfilename\u001b[0m\u001b[1;33m)\u001b[0m\u001b[1;33m\u001b[0m\u001b[1;33m\u001b[0m\u001b[0m\n\u001b[0m\u001b[0;32m     55\u001b[0m         \u001b[1;32mreturn\u001b[0m \u001b[0msvgfilename\u001b[0m\u001b[1;33m\u001b[0m\u001b[1;33m\u001b[0m\u001b[0m\n\u001b[0;32m     56\u001b[0m \u001b[1;33m\u001b[0m\u001b[0m\n",
      "\u001b[1;32mC:\\ProgramData\\Anaconda3\\lib\\site-packages\\dtreeviz\\trees.py\u001b[0m in \u001b[0;36msave\u001b[1;34m(self, filename)\u001b[0m\n\u001b[0;32m     80\u001b[0m             \u001b[0mgraphviz\u001b[0m\u001b[1;33m.\u001b[0m\u001b[0mbackend\u001b[0m\u001b[1;33m.\u001b[0m\u001b[0mrun\u001b[0m\u001b[1;33m(\u001b[0m\u001b[0mcmd\u001b[0m\u001b[1;33m,\u001b[0m \u001b[0mcapture_output\u001b[0m\u001b[1;33m=\u001b[0m\u001b[1;32mTrue\u001b[0m\u001b[1;33m,\u001b[0m \u001b[0mcheck\u001b[0m\u001b[1;33m=\u001b[0m\u001b[1;32mTrue\u001b[0m\u001b[1;33m,\u001b[0m \u001b[0mquiet\u001b[0m\u001b[1;33m=\u001b[0m\u001b[1;32mFalse\u001b[0m\u001b[1;33m)\u001b[0m\u001b[1;33m\u001b[0m\u001b[1;33m\u001b[0m\u001b[0m\n\u001b[0;32m     81\u001b[0m         \u001b[1;32melse\u001b[0m\u001b[1;33m:\u001b[0m\u001b[1;33m\u001b[0m\u001b[1;33m\u001b[0m\u001b[0m\n\u001b[1;32m---> 82\u001b[1;33m             \u001b[0mgraphviz\u001b[0m\u001b[1;33m.\u001b[0m\u001b[0mbackend\u001b[0m\u001b[1;33m.\u001b[0m\u001b[0mexecute\u001b[0m\u001b[1;33m.\u001b[0m\u001b[0mrun_check\u001b[0m\u001b[1;33m(\u001b[0m\u001b[0mcmd\u001b[0m\u001b[1;33m,\u001b[0m \u001b[0mcapture_output\u001b[0m\u001b[1;33m=\u001b[0m\u001b[1;32mTrue\u001b[0m\u001b[1;33m,\u001b[0m \u001b[0mcheck\u001b[0m\u001b[1;33m=\u001b[0m\u001b[1;32mTrue\u001b[0m\u001b[1;33m,\u001b[0m \u001b[0mquiet\u001b[0m\u001b[1;33m=\u001b[0m\u001b[1;32mFalse\u001b[0m\u001b[1;33m)\u001b[0m\u001b[1;33m\u001b[0m\u001b[1;33m\u001b[0m\u001b[0m\n\u001b[0m\u001b[0;32m     83\u001b[0m \u001b[1;33m\u001b[0m\u001b[0m\n\u001b[0;32m     84\u001b[0m         \u001b[1;32mif\u001b[0m \u001b[0mfilename\u001b[0m\u001b[1;33m.\u001b[0m\u001b[0mendswith\u001b[0m\u001b[1;33m(\u001b[0m\u001b[1;34m\".svg\"\u001b[0m\u001b[1;33m)\u001b[0m\u001b[1;33m:\u001b[0m\u001b[1;33m\u001b[0m\u001b[1;33m\u001b[0m\u001b[0m\n",
      "\u001b[1;32mC:\\ProgramData\\Anaconda3\\lib\\site-packages\\graphviz\\backend\\execute.py\u001b[0m in \u001b[0;36mrun_check\u001b[1;34m(cmd, input_lines, encoding, capture_output, quiet, **kwargs)\u001b[0m\n\u001b[0;32m     86\u001b[0m     \u001b[1;32mexcept\u001b[0m \u001b[0mOSError\u001b[0m \u001b[1;32mas\u001b[0m \u001b[0me\u001b[0m\u001b[1;33m:\u001b[0m\u001b[1;33m\u001b[0m\u001b[1;33m\u001b[0m\u001b[0m\n\u001b[0;32m     87\u001b[0m         \u001b[1;32mif\u001b[0m \u001b[0me\u001b[0m\u001b[1;33m.\u001b[0m\u001b[0merrno\u001b[0m \u001b[1;33m==\u001b[0m \u001b[0merrno\u001b[0m\u001b[1;33m.\u001b[0m\u001b[0mENOENT\u001b[0m\u001b[1;33m:\u001b[0m\u001b[1;33m\u001b[0m\u001b[1;33m\u001b[0m\u001b[0m\n\u001b[1;32m---> 88\u001b[1;33m             \u001b[1;32mraise\u001b[0m \u001b[0mExecutableNotFound\u001b[0m\u001b[1;33m(\u001b[0m\u001b[0mcmd\u001b[0m\u001b[1;33m)\u001b[0m \u001b[1;32mfrom\u001b[0m \u001b[0me\u001b[0m\u001b[1;33m\u001b[0m\u001b[1;33m\u001b[0m\u001b[0m\n\u001b[0m\u001b[0;32m     89\u001b[0m         \u001b[1;32mraise\u001b[0m\u001b[1;33m\u001b[0m\u001b[1;33m\u001b[0m\u001b[0m\n\u001b[0;32m     90\u001b[0m \u001b[1;33m\u001b[0m\u001b[0m\n",
      "\u001b[1;31mExecutableNotFound\u001b[0m: failed to execute 'dot', make sure the Graphviz executables are on your systems' PATH"
     ]
    },
    {
     "data": {
      "text/plain": [
       "<dtreeviz.trees.DTreeViz at 0x26b9d1c57c0>"
      ]
     },
     "execution_count": 38,
     "metadata": {},
     "output_type": "execute_result"
    }
   ],
   "source": [
    "from dtreeviz.trees import dtreeviz # remember to load the package\n",
    "\n",
    "viz = dtreeviz(model, inputs, target,\n",
    "                )\n",
    "\n",
    "viz"
   ]
  },
  {
   "cell_type": "code",
   "execution_count": null,
   "metadata": {},
   "outputs": [],
   "source": []
  }
 ],
 "metadata": {
  "kernelspec": {
   "display_name": "Python 3 (ipykernel)",
   "language": "python",
   "name": "python3"
  },
  "language_info": {
   "codemirror_mode": {
    "name": "ipython",
    "version": 3
   },
   "file_extension": ".py",
   "mimetype": "text/x-python",
   "name": "python",
   "nbconvert_exporter": "python",
   "pygments_lexer": "ipython3",
   "version": "3.9.7"
  }
 },
 "nbformat": 4,
 "nbformat_minor": 2
}
