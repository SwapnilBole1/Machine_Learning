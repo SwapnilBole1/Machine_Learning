{
 "cells": [
  {
   "cell_type": "code",
   "execution_count": 1,
   "id": "29c839ea",
   "metadata": {},
   "outputs": [],
   "source": [
    "#Use sklearn dataset for ML\n",
    "from sklearn.datasets import load_digits"
   ]
  },
  {
   "cell_type": "code",
   "execution_count": 2,
   "id": "433a81f2",
   "metadata": {},
   "outputs": [
    {
     "data": {
      "text/plain": [
       "<function sklearn.datasets._base.load_digits(*, n_class=10, return_X_y=False, as_frame=False)>"
      ]
     },
     "execution_count": 2,
     "metadata": {},
     "output_type": "execute_result"
    }
   ],
   "source": [
    "load_digits"
   ]
  },
  {
   "cell_type": "code",
   "execution_count": 3,
   "id": "1a9293bd",
   "metadata": {},
   "outputs": [
    {
     "data": {
      "text/plain": [
       "{'data': array([[ 0.,  0.,  5., ...,  0.,  0.,  0.],\n",
       "        [ 0.,  0.,  0., ..., 10.,  0.,  0.],\n",
       "        [ 0.,  0.,  0., ..., 16.,  9.,  0.],\n",
       "        ...,\n",
       "        [ 0.,  0.,  1., ...,  6.,  0.,  0.],\n",
       "        [ 0.,  0.,  2., ..., 12.,  0.,  0.],\n",
       "        [ 0.,  0., 10., ..., 12.,  1.,  0.]]),\n",
       " 'target': array([0, 1, 2, ..., 8, 9, 8]),\n",
       " 'frame': None,\n",
       " 'feature_names': ['pixel_0_0',\n",
       "  'pixel_0_1',\n",
       "  'pixel_0_2',\n",
       "  'pixel_0_3',\n",
       "  'pixel_0_4',\n",
       "  'pixel_0_5',\n",
       "  'pixel_0_6',\n",
       "  'pixel_0_7',\n",
       "  'pixel_1_0',\n",
       "  'pixel_1_1',\n",
       "  'pixel_1_2',\n",
       "  'pixel_1_3',\n",
       "  'pixel_1_4',\n",
       "  'pixel_1_5',\n",
       "  'pixel_1_6',\n",
       "  'pixel_1_7',\n",
       "  'pixel_2_0',\n",
       "  'pixel_2_1',\n",
       "  'pixel_2_2',\n",
       "  'pixel_2_3',\n",
       "  'pixel_2_4',\n",
       "  'pixel_2_5',\n",
       "  'pixel_2_6',\n",
       "  'pixel_2_7',\n",
       "  'pixel_3_0',\n",
       "  'pixel_3_1',\n",
       "  'pixel_3_2',\n",
       "  'pixel_3_3',\n",
       "  'pixel_3_4',\n",
       "  'pixel_3_5',\n",
       "  'pixel_3_6',\n",
       "  'pixel_3_7',\n",
       "  'pixel_4_0',\n",
       "  'pixel_4_1',\n",
       "  'pixel_4_2',\n",
       "  'pixel_4_3',\n",
       "  'pixel_4_4',\n",
       "  'pixel_4_5',\n",
       "  'pixel_4_6',\n",
       "  'pixel_4_7',\n",
       "  'pixel_5_0',\n",
       "  'pixel_5_1',\n",
       "  'pixel_5_2',\n",
       "  'pixel_5_3',\n",
       "  'pixel_5_4',\n",
       "  'pixel_5_5',\n",
       "  'pixel_5_6',\n",
       "  'pixel_5_7',\n",
       "  'pixel_6_0',\n",
       "  'pixel_6_1',\n",
       "  'pixel_6_2',\n",
       "  'pixel_6_3',\n",
       "  'pixel_6_4',\n",
       "  'pixel_6_5',\n",
       "  'pixel_6_6',\n",
       "  'pixel_6_7',\n",
       "  'pixel_7_0',\n",
       "  'pixel_7_1',\n",
       "  'pixel_7_2',\n",
       "  'pixel_7_3',\n",
       "  'pixel_7_4',\n",
       "  'pixel_7_5',\n",
       "  'pixel_7_6',\n",
       "  'pixel_7_7'],\n",
       " 'target_names': array([0, 1, 2, 3, 4, 5, 6, 7, 8, 9]),\n",
       " 'images': array([[[ 0.,  0.,  5., ...,  1.,  0.,  0.],\n",
       "         [ 0.,  0., 13., ..., 15.,  5.,  0.],\n",
       "         [ 0.,  3., 15., ..., 11.,  8.,  0.],\n",
       "         ...,\n",
       "         [ 0.,  4., 11., ..., 12.,  7.,  0.],\n",
       "         [ 0.,  2., 14., ..., 12.,  0.,  0.],\n",
       "         [ 0.,  0.,  6., ...,  0.,  0.,  0.]],\n",
       " \n",
       "        [[ 0.,  0.,  0., ...,  5.,  0.,  0.],\n",
       "         [ 0.,  0.,  0., ...,  9.,  0.,  0.],\n",
       "         [ 0.,  0.,  3., ...,  6.,  0.,  0.],\n",
       "         ...,\n",
       "         [ 0.,  0.,  1., ...,  6.,  0.,  0.],\n",
       "         [ 0.,  0.,  1., ...,  6.,  0.,  0.],\n",
       "         [ 0.,  0.,  0., ..., 10.,  0.,  0.]],\n",
       " \n",
       "        [[ 0.,  0.,  0., ..., 12.,  0.,  0.],\n",
       "         [ 0.,  0.,  3., ..., 14.,  0.,  0.],\n",
       "         [ 0.,  0.,  8., ..., 16.,  0.,  0.],\n",
       "         ...,\n",
       "         [ 0.,  9., 16., ...,  0.,  0.,  0.],\n",
       "         [ 0.,  3., 13., ..., 11.,  5.,  0.],\n",
       "         [ 0.,  0.,  0., ..., 16.,  9.,  0.]],\n",
       " \n",
       "        ...,\n",
       " \n",
       "        [[ 0.,  0.,  1., ...,  1.,  0.,  0.],\n",
       "         [ 0.,  0., 13., ...,  2.,  1.,  0.],\n",
       "         [ 0.,  0., 16., ..., 16.,  5.,  0.],\n",
       "         ...,\n",
       "         [ 0.,  0., 16., ..., 15.,  0.,  0.],\n",
       "         [ 0.,  0., 15., ..., 16.,  0.,  0.],\n",
       "         [ 0.,  0.,  2., ...,  6.,  0.,  0.]],\n",
       " \n",
       "        [[ 0.,  0.,  2., ...,  0.,  0.,  0.],\n",
       "         [ 0.,  0., 14., ..., 15.,  1.,  0.],\n",
       "         [ 0.,  4., 16., ..., 16.,  7.,  0.],\n",
       "         ...,\n",
       "         [ 0.,  0.,  0., ..., 16.,  2.,  0.],\n",
       "         [ 0.,  0.,  4., ..., 16.,  2.,  0.],\n",
       "         [ 0.,  0.,  5., ..., 12.,  0.,  0.]],\n",
       " \n",
       "        [[ 0.,  0., 10., ...,  1.,  0.,  0.],\n",
       "         [ 0.,  2., 16., ...,  1.,  0.,  0.],\n",
       "         [ 0.,  0., 15., ..., 15.,  0.,  0.],\n",
       "         ...,\n",
       "         [ 0.,  4., 16., ..., 16.,  6.,  0.],\n",
       "         [ 0.,  8., 16., ..., 16.,  8.,  0.],\n",
       "         [ 0.,  1.,  8., ..., 12.,  1.,  0.]]]),\n",
       " 'DESCR': \".. _digits_dataset:\\n\\nOptical recognition of handwritten digits dataset\\n--------------------------------------------------\\n\\n**Data Set Characteristics:**\\n\\n    :Number of Instances: 1797\\n    :Number of Attributes: 64\\n    :Attribute Information: 8x8 image of integer pixels in the range 0..16.\\n    :Missing Attribute Values: None\\n    :Creator: E. Alpaydin (alpaydin '@' boun.edu.tr)\\n    :Date: July; 1998\\n\\nThis is a copy of the test set of the UCI ML hand-written digits datasets\\nhttps://archive.ics.uci.edu/ml/datasets/Optical+Recognition+of+Handwritten+Digits\\n\\nThe data set contains images of hand-written digits: 10 classes where\\neach class refers to a digit.\\n\\nPreprocessing programs made available by NIST were used to extract\\nnormalized bitmaps of handwritten digits from a preprinted form. From a\\ntotal of 43 people, 30 contributed to the training set and different 13\\nto the test set. 32x32 bitmaps are divided into nonoverlapping blocks of\\n4x4 and the number of on pixels are counted in each block. This generates\\nan input matrix of 8x8 where each element is an integer in the range\\n0..16. This reduces dimensionality and gives invariance to small\\ndistortions.\\n\\nFor info on NIST preprocessing routines, see M. D. Garris, J. L. Blue, G.\\nT. Candela, D. L. Dimmick, J. Geist, P. J. Grother, S. A. Janet, and C.\\nL. Wilson, NIST Form-Based Handprint Recognition System, NISTIR 5469,\\n1994.\\n\\n.. topic:: References\\n\\n  - C. Kaynak (1995) Methods of Combining Multiple Classifiers and Their\\n    Applications to Handwritten Digit Recognition, MSc Thesis, Institute of\\n    Graduate Studies in Science and Engineering, Bogazici University.\\n  - E. Alpaydin, C. Kaynak (1998) Cascading Classifiers, Kybernetika.\\n  - Ken Tang and Ponnuthurai N. Suganthan and Xi Yao and A. Kai Qin.\\n    Linear dimensionalityreduction using relevance weighted LDA. School of\\n    Electrical and Electronic Engineering Nanyang Technological University.\\n    2005.\\n  - Claudio Gentile. A New Approximate Maximal Margin Classification\\n    Algorithm. NIPS. 2000.\\n\"}"
      ]
     },
     "execution_count": 3,
     "metadata": {},
     "output_type": "execute_result"
    }
   ],
   "source": [
    "#lets call the function\n",
    "load_digits()"
   ]
  },
  {
   "cell_type": "code",
   "execution_count": 4,
   "id": "268e1587",
   "metadata": {},
   "outputs": [
    {
     "data": {
      "text/plain": [
       "sklearn.utils.Bunch"
      ]
     },
     "execution_count": 4,
     "metadata": {},
     "output_type": "execute_result"
    }
   ],
   "source": [
    "#check type of dataset\n",
    "type(load_digits())"
   ]
  },
  {
   "cell_type": "code",
   "execution_count": 5,
   "id": "38ce53c5",
   "metadata": {},
   "outputs": [
    {
     "data": {
      "text/plain": [
       "dict_keys(['data', 'target', 'frame', 'feature_names', 'target_names', 'images', 'DESCR'])"
      ]
     },
     "execution_count": 5,
     "metadata": {},
     "output_type": "execute_result"
    }
   ],
   "source": [
    "d = load_digits()\n",
    "d.keys()"
   ]
  },
  {
   "cell_type": "code",
   "execution_count": 6,
   "id": "304cf6cc",
   "metadata": {},
   "outputs": [
    {
     "data": {
      "text/plain": [
       "['DESCR', 'data', 'feature_names', 'frame', 'images', 'target', 'target_names']"
      ]
     },
     "execution_count": 6,
     "metadata": {},
     "output_type": "execute_result"
    }
   ],
   "source": [
    "#second option to choose keys\n",
    "dir(d)"
   ]
  },
  {
   "cell_type": "code",
   "execution_count": 9,
   "id": "d947252c",
   "metadata": {},
   "outputs": [
    {
     "data": {
      "text/plain": [
       "array([0, 1, 2, ..., 8, 9, 8])"
      ]
     },
     "execution_count": 9,
     "metadata": {},
     "output_type": "execute_result"
    }
   ],
   "source": [
    "#if i want to check value associated with perticular key then\n",
    "d['target']"
   ]
  },
  {
   "cell_type": "code",
   "execution_count": 10,
   "id": "6f4254e7",
   "metadata": {},
   "outputs": [
    {
     "data": {
      "text/plain": [
       "1797"
      ]
     },
     "execution_count": 10,
     "metadata": {},
     "output_type": "execute_result"
    }
   ],
   "source": [
    "d['target'].size #total records"
   ]
  },
  {
   "cell_type": "code",
   "execution_count": 13,
   "id": "954b39bb",
   "metadata": {},
   "outputs": [
    {
     "data": {
      "text/plain": [
       "array([0, 1, 2, 3, 4, 5, 6, 7, 8, 9])"
      ]
     },
     "execution_count": 13,
     "metadata": {},
     "output_type": "execute_result"
    }
   ],
   "source": [
    "import numpy as np\n",
    "np.unique(d['target'])"
   ]
  },
  {
   "cell_type": "code",
   "execution_count": 14,
   "id": "cde5c207",
   "metadata": {},
   "outputs": [
    {
     "name": "stdout",
     "output_type": "stream",
     "text": [
      ".. _digits_dataset:\n",
      "\n",
      "Optical recognition of handwritten digits dataset\n",
      "--------------------------------------------------\n",
      "\n",
      "**Data Set Characteristics:**\n",
      "\n",
      "    :Number of Instances: 1797\n",
      "    :Number of Attributes: 64\n",
      "    :Attribute Information: 8x8 image of integer pixels in the range 0..16.\n",
      "    :Missing Attribute Values: None\n",
      "    :Creator: E. Alpaydin (alpaydin '@' boun.edu.tr)\n",
      "    :Date: July; 1998\n",
      "\n",
      "This is a copy of the test set of the UCI ML hand-written digits datasets\n",
      "https://archive.ics.uci.edu/ml/datasets/Optical+Recognition+of+Handwritten+Digits\n",
      "\n",
      "The data set contains images of hand-written digits: 10 classes where\n",
      "each class refers to a digit.\n",
      "\n",
      "Preprocessing programs made available by NIST were used to extract\n",
      "normalized bitmaps of handwritten digits from a preprinted form. From a\n",
      "total of 43 people, 30 contributed to the training set and different 13\n",
      "to the test set. 32x32 bitmaps are divided into nonoverlapping blocks of\n",
      "4x4 and the number of on pixels are counted in each block. This generates\n",
      "an input matrix of 8x8 where each element is an integer in the range\n",
      "0..16. This reduces dimensionality and gives invariance to small\n",
      "distortions.\n",
      "\n",
      "For info on NIST preprocessing routines, see M. D. Garris, J. L. Blue, G.\n",
      "T. Candela, D. L. Dimmick, J. Geist, P. J. Grother, S. A. Janet, and C.\n",
      "L. Wilson, NIST Form-Based Handprint Recognition System, NISTIR 5469,\n",
      "1994.\n",
      "\n",
      ".. topic:: References\n",
      "\n",
      "  - C. Kaynak (1995) Methods of Combining Multiple Classifiers and Their\n",
      "    Applications to Handwritten Digit Recognition, MSc Thesis, Institute of\n",
      "    Graduate Studies in Science and Engineering, Bogazici University.\n",
      "  - E. Alpaydin, C. Kaynak (1998) Cascading Classifiers, Kybernetika.\n",
      "  - Ken Tang and Ponnuthurai N. Suganthan and Xi Yao and A. Kai Qin.\n",
      "    Linear dimensionalityreduction using relevance weighted LDA. School of\n",
      "    Electrical and Electronic Engineering Nanyang Technological University.\n",
      "    2005.\n",
      "  - Claudio Gentile. A New Approximate Maximal Margin Classification\n",
      "    Algorithm. NIPS. 2000.\n",
      "\n"
     ]
    }
   ],
   "source": [
    "#lets check description of dataset\n",
    "print(d['DESCR'])"
   ]
  },
  {
   "cell_type": "code",
   "execution_count": 16,
   "id": "057b41d0",
   "metadata": {},
   "outputs": [
    {
     "data": {
      "text/plain": [
       "dict_keys(['data', 'target', 'frame', 'feature_names', 'target_names', 'images', 'DESCR'])"
      ]
     },
     "execution_count": 16,
     "metadata": {},
     "output_type": "execute_result"
    }
   ],
   "source": [
    "d.keys()"
   ]
  },
  {
   "cell_type": "code",
   "execution_count": 17,
   "id": "0b37510a",
   "metadata": {},
   "outputs": [
    {
     "data": {
      "text/plain": [
       "array([[[ 0.,  0.,  5., ...,  1.,  0.,  0.],\n",
       "        [ 0.,  0., 13., ..., 15.,  5.,  0.],\n",
       "        [ 0.,  3., 15., ..., 11.,  8.,  0.],\n",
       "        ...,\n",
       "        [ 0.,  4., 11., ..., 12.,  7.,  0.],\n",
       "        [ 0.,  2., 14., ..., 12.,  0.,  0.],\n",
       "        [ 0.,  0.,  6., ...,  0.,  0.,  0.]],\n",
       "\n",
       "       [[ 0.,  0.,  0., ...,  5.,  0.,  0.],\n",
       "        [ 0.,  0.,  0., ...,  9.,  0.,  0.],\n",
       "        [ 0.,  0.,  3., ...,  6.,  0.,  0.],\n",
       "        ...,\n",
       "        [ 0.,  0.,  1., ...,  6.,  0.,  0.],\n",
       "        [ 0.,  0.,  1., ...,  6.,  0.,  0.],\n",
       "        [ 0.,  0.,  0., ..., 10.,  0.,  0.]],\n",
       "\n",
       "       [[ 0.,  0.,  0., ..., 12.,  0.,  0.],\n",
       "        [ 0.,  0.,  3., ..., 14.,  0.,  0.],\n",
       "        [ 0.,  0.,  8., ..., 16.,  0.,  0.],\n",
       "        ...,\n",
       "        [ 0.,  9., 16., ...,  0.,  0.,  0.],\n",
       "        [ 0.,  3., 13., ..., 11.,  5.,  0.],\n",
       "        [ 0.,  0.,  0., ..., 16.,  9.,  0.]],\n",
       "\n",
       "       ...,\n",
       "\n",
       "       [[ 0.,  0.,  1., ...,  1.,  0.,  0.],\n",
       "        [ 0.,  0., 13., ...,  2.,  1.,  0.],\n",
       "        [ 0.,  0., 16., ..., 16.,  5.,  0.],\n",
       "        ...,\n",
       "        [ 0.,  0., 16., ..., 15.,  0.,  0.],\n",
       "        [ 0.,  0., 15., ..., 16.,  0.,  0.],\n",
       "        [ 0.,  0.,  2., ...,  6.,  0.,  0.]],\n",
       "\n",
       "       [[ 0.,  0.,  2., ...,  0.,  0.,  0.],\n",
       "        [ 0.,  0., 14., ..., 15.,  1.,  0.],\n",
       "        [ 0.,  4., 16., ..., 16.,  7.,  0.],\n",
       "        ...,\n",
       "        [ 0.,  0.,  0., ..., 16.,  2.,  0.],\n",
       "        [ 0.,  0.,  4., ..., 16.,  2.,  0.],\n",
       "        [ 0.,  0.,  5., ..., 12.,  0.,  0.]],\n",
       "\n",
       "       [[ 0.,  0., 10., ...,  1.,  0.,  0.],\n",
       "        [ 0.,  2., 16., ...,  1.,  0.,  0.],\n",
       "        [ 0.,  0., 15., ..., 15.,  0.,  0.],\n",
       "        ...,\n",
       "        [ 0.,  4., 16., ..., 16.,  6.,  0.],\n",
       "        [ 0.,  8., 16., ..., 16.,  8.,  0.],\n",
       "        [ 0.,  1.,  8., ..., 12.,  1.,  0.]]])"
      ]
     },
     "execution_count": 17,
     "metadata": {},
     "output_type": "execute_result"
    }
   ],
   "source": [
    "d.images #image record in terms of numbers"
   ]
  },
  {
   "cell_type": "code",
   "execution_count": 18,
   "id": "0cc8082d",
   "metadata": {},
   "outputs": [],
   "source": [
    "import matplotlib.pyplot as plt"
   ]
  },
  {
   "cell_type": "code",
   "execution_count": 21,
   "id": "bc4c1cd7",
   "metadata": {},
   "outputs": [
    {
     "data": {
      "text/plain": [
       "array([[ 0.,  0.,  0.,  1., 11.,  0.,  0.,  0.],\n",
       "       [ 0.,  0.,  0.,  7.,  8.,  0.,  0.,  0.],\n",
       "       [ 0.,  0.,  1., 13.,  6.,  2.,  2.,  0.],\n",
       "       [ 0.,  0.,  7., 15.,  0.,  9.,  8.,  0.],\n",
       "       [ 0.,  5., 16., 10.,  0., 16.,  6.,  0.],\n",
       "       [ 0.,  4., 15., 16., 13., 16.,  1.,  0.],\n",
       "       [ 0.,  0.,  0.,  3., 15., 10.,  0.,  0.],\n",
       "       [ 0.,  0.,  0.,  2., 16.,  4.,  0.,  0.]])"
      ]
     },
     "execution_count": 21,
     "metadata": {},
     "output_type": "execute_result"
    }
   ],
   "source": [
    "d.images[4]"
   ]
  },
  {
   "cell_type": "code",
   "execution_count": 24,
   "id": "ffd78438",
   "metadata": {},
   "outputs": [
    {
     "data": {
      "text/plain": [
       "<matplotlib.image.AxesImage at 0x251c87f0b50>"
      ]
     },
     "execution_count": 24,
     "metadata": {},
     "output_type": "execute_result"
    },
    {
     "data": {
      "image/png": "[encoded data removed]",
      "text/plain": [
       "<Figure size 432x288 with 1 Axes>"
      ]
     },
     "metadata": {
      "needs_background": "light"
     },
     "output_type": "display_data"
    }
   ],
   "source": [
    "plt.imshow(d.images[3])"
   ]
  },
  {
   "cell_type": "code",
   "execution_count": 26,
   "id": "20dd1271",
   "metadata": {},
   "outputs": [
    {
     "name": "stdout",
     "output_type": "stream",
     "text": [
      "['pixel_0_0', 'pixel_0_1', 'pixel_0_2', 'pixel_0_3', 'pixel_0_4', 'pixel_0_5', 'pixel_0_6', 'pixel_0_7', 'pixel_1_0', 'pixel_1_1', 'pixel_1_2', 'pixel_1_3', 'pixel_1_4', 'pixel_1_5', 'pixel_1_6', 'pixel_1_7', 'pixel_2_0', 'pixel_2_1', 'pixel_2_2', 'pixel_2_3', 'pixel_2_4', 'pixel_2_5', 'pixel_2_6', 'pixel_2_7', 'pixel_3_0', 'pixel_3_1', 'pixel_3_2', 'pixel_3_3', 'pixel_3_4', 'pixel_3_5', 'pixel_3_6', 'pixel_3_7', 'pixel_4_0', 'pixel_4_1', 'pixel_4_2', 'pixel_4_3', 'pixel_4_4', 'pixel_4_5', 'pixel_4_6', 'pixel_4_7', 'pixel_5_0', 'pixel_5_1', 'pixel_5_2', 'pixel_5_3', 'pixel_5_4', 'pixel_5_5', 'pixel_5_6', 'pixel_5_7', 'pixel_6_0', 'pixel_6_1', 'pixel_6_2', 'pixel_6_3', 'pixel_6_4', 'pixel_6_5', 'pixel_6_6', 'pixel_6_7', 'pixel_7_0', 'pixel_7_1', 'pixel_7_2', 'pixel_7_3', 'pixel_7_4', 'pixel_7_5', 'pixel_7_6', 'pixel_7_7']\n"
     ]
    }
   ],
   "source": [
    "print(d.feature_names)"
   ]
  },
  {
   "cell_type": "code",
   "execution_count": 29,
   "id": "7bce51c6",
   "metadata": {},
   "outputs": [
    {
     "data": {
      "image/png": "[encoded data removed]",
      "text/plain": [
       "<Figure size 432x288 with 1 Axes>"
      ]
     },
     "metadata": {
      "needs_background": "light"
     },
     "output_type": "display_data"
    },
    {
     "data": {
      "image/png": "[encoded data removed]",
      "text/plain": [
       "<Figure size 432x288 with 1 Axes>"
      ]
     },
     "metadata": {
      "needs_background": "light"
     },
     "output_type": "display_data"
    },
    {
     "data": {
      "image/png": "[encoded data removed]",
      "text/plain": [
       "<Figure size 432x288 with 1 Axes>"
      ]
     },
     "metadata": {
      "needs_background": "light"
     },
     "output_type": "display_data"
    },
    {
     "data": {
      "image/png": "[encoded data removed]",
      "text/plain": [
       "<Figure size 432x288 with 1 Axes>"
      ]
     },
     "metadata": {
      "needs_background": "light"
     },
     "output_type": "display_data"
    },
    {
     "data": {
      "image/png": "[encoded data removed]",
      "text/plain": [
       "<Figure size 432x288 with 1 Axes>"
      ]
     },
     "metadata": {
      "needs_background": "light"
     },
     "output_type": "display_data"
    }
   ],
   "source": [
    "for i in range(5):\n",
    "    plt.imshow(d.images[i])\n",
    "    plt.gray()\n",
    "    plt.show()"
   ]
  },
  {
   "cell_type": "markdown",
   "id": "1c405c9f",
   "metadata": {},
   "source": [
    "# Lets create dataset"
   ]
  },
  {
   "cell_type": "code",
   "execution_count": 33,
   "id": "d205a99d",
   "metadata": {},
   "outputs": [],
   "source": [
    "import pandas as pd\n",
    "X = pd.DataFrame(d.data,columns=d.feature_names)"
   ]
  },
  {
   "cell_type": "code",
   "execution_count": 34,
   "id": "8b6338ee",
   "metadata": {},
   "outputs": [
    {
     "data": {
      "text/html": [
       "<div>\n",
       "<style scoped>\n",
       "    .dataframe tbody tr th:only-of-type {\n",
       "        vertical-align: middle;\n",
       "    }\n",
       "\n",
       "    .dataframe tbody tr th {\n",
       "        vertical-align: top;\n",
       "    }\n",
       "\n",
       "    .dataframe thead th {\n",
       "        text-align: right;\n",
       "    }\n",
       "</style>\n",
       "<table border=\"1\" class=\"dataframe\">\n",
       "  <thead>\n",
       "    <tr style=\"text-align: right;\">\n",
       "      <th></th>\n",
       "      <th>pixel_0_0</th>\n",
       "      <th>pixel_0_1</th>\n",
       "      <th>pixel_0_2</th>\n",
       "      <th>pixel_0_3</th>\n",
       "      <th>pixel_0_4</th>\n",
       "      <th>pixel_0_5</th>\n",
       "      <th>pixel_0_6</th>\n",
       "      <th>pixel_0_7</th>\n",
       "      <th>pixel_1_0</th>\n",
       "      <th>pixel_1_1</th>\n",
       "      <th>...</th>\n",
       "      <th>pixel_6_6</th>\n",
       "      <th>pixel_6_7</th>\n",
       "      <th>pixel_7_0</th>\n",
       "      <th>pixel_7_1</th>\n",
       "      <th>pixel_7_2</th>\n",
       "      <th>pixel_7_3</th>\n",
       "      <th>pixel_7_4</th>\n",
       "      <th>pixel_7_5</th>\n",
       "      <th>pixel_7_6</th>\n",
       "      <th>pixel_7_7</th>\n",
       "    </tr>\n",
       "  </thead>\n",
       "  <tbody>\n",
       "    <tr>\n",
       "      <th>0</th>\n",
       "      <td>0.0</td>\n",
       "      <td>0.0</td>\n",
       "      <td>5.0</td>\n",
       "      <td>13.0</td>\n",
       "      <td>9.0</td>\n",
       "      <td>1.0</td>\n",
       "      <td>0.0</td>\n",
       "      <td>0.0</td>\n",
       "      <td>0.0</td>\n",
       "      <td>0.0</td>\n",
       "      <td>...</td>\n",
       "      <td>0.0</td>\n",
       "      <td>0.0</td>\n",
       "      <td>0.0</td>\n",
       "      <td>0.0</td>\n",
       "      <td>6.0</td>\n",
       "      <td>13.0</td>\n",
       "      <td>10.0</td>\n",
       "      <td>0.0</td>\n",
       "      <td>0.0</td>\n",
       "      <td>0.0</td>\n",
       "    </tr>\n",
       "    <tr>\n",
       "      <th>1</th>\n",
       "      <td>0.0</td>\n",
       "      <td>0.0</td>\n",
       "      <td>0.0</td>\n",
       "      <td>12.0</td>\n",
       "      <td>13.0</td>\n",
       "      <td>5.0</td>\n",
       "      <td>0.0</td>\n",
       "      <td>0.0</td>\n",
       "      <td>0.0</td>\n",
       "      <td>0.0</td>\n",
       "      <td>...</td>\n",
       "      <td>0.0</td>\n",
       "      <td>0.0</td>\n",
       "      <td>0.0</td>\n",
       "      <td>0.0</td>\n",
       "      <td>0.0</td>\n",
       "      <td>11.0</td>\n",
       "      <td>16.0</td>\n",
       "      <td>10.0</td>\n",
       "      <td>0.0</td>\n",
       "      <td>0.0</td>\n",
       "    </tr>\n",
       "    <tr>\n",
       "      <th>2</th>\n",
       "      <td>0.0</td>\n",
       "      <td>0.0</td>\n",
       "      <td>0.0</td>\n",
       "      <td>4.0</td>\n",
       "      <td>15.0</td>\n",
       "      <td>12.0</td>\n",
       "      <td>0.0</td>\n",
       "      <td>0.0</td>\n",
       "      <td>0.0</td>\n",
       "      <td>0.0</td>\n",
       "      <td>...</td>\n",
       "      <td>5.0</td>\n",
       "      <td>0.0</td>\n",
       "      <td>0.0</td>\n",
       "      <td>0.0</td>\n",
       "      <td>0.0</td>\n",
       "      <td>3.0</td>\n",
       "      <td>11.0</td>\n",
       "      <td>16.0</td>\n",
       "      <td>9.0</td>\n",
       "      <td>0.0</td>\n",
       "    </tr>\n",
       "  </tbody>\n",
       "</table>\n",
       "<p>3 rows × 64 columns</p>\n",
       "</div>"
      ],
      "text/plain": [
       "   pixel_0_0  pixel_0_1  pixel_0_2  pixel_0_3  pixel_0_4  pixel_0_5  \\\n",
       "0        0.0        0.0        5.0       13.0        9.0        1.0   \n",
       "1        0.0        0.0        0.0       12.0       13.0        5.0   \n",
       "2        0.0        0.0        0.0        4.0       15.0       12.0   \n",
       "\n",
       "   pixel_0_6  pixel_0_7  pixel_1_0  pixel_1_1  ...  pixel_6_6  pixel_6_7  \\\n",
       "0        0.0        0.0        0.0        0.0  ...        0.0        0.0   \n",
       "1        0.0        0.0        0.0        0.0  ...        0.0        0.0   \n",
       "2        0.0        0.0        0.0        0.0  ...        5.0        0.0   \n",
       "\n",
       "   pixel_7_0  pixel_7_1  pixel_7_2  pixel_7_3  pixel_7_4  pixel_7_5  \\\n",
       "0        0.0        0.0        6.0       13.0       10.0        0.0   \n",
       "1        0.0        0.0        0.0       11.0       16.0       10.0   \n",
       "2        0.0        0.0        0.0        3.0       11.0       16.0   \n",
       "\n",
       "   pixel_7_6  pixel_7_7  \n",
       "0        0.0        0.0  \n",
       "1        0.0        0.0  \n",
       "2        9.0        0.0  \n",
       "\n",
       "[3 rows x 64 columns]"
      ]
     },
     "execution_count": 34,
     "metadata": {},
     "output_type": "execute_result"
    }
   ],
   "source": [
    "X[:3]"
   ]
  },
  {
   "cell_type": "code",
   "execution_count": 36,
   "id": "160f7e40",
   "metadata": {},
   "outputs": [
    {
     "data": {
      "text/plain": [
       "0    0\n",
       "1    1\n",
       "2    2\n",
       "dtype: int32"
      ]
     },
     "execution_count": 36,
     "metadata": {},
     "output_type": "execute_result"
    }
   ],
   "source": [
    "#output\n",
    "y = pd.Series(d.target)\n",
    "y[:3]"
   ]
  },
  {
   "cell_type": "code",
   "execution_count": 37,
   "id": "b398d570",
   "metadata": {},
   "outputs": [],
   "source": [
    "# Split the dataset\n",
    "from sklearn.model_selection import train_test_split"
   ]
  },
  {
   "cell_type": "code",
   "execution_count": 38,
   "id": "bc1a629d",
   "metadata": {},
   "outputs": [],
   "source": [
    "X_train,X_test,y_train,y_test = train_test_split(X,y,test_size=.2)"
   ]
  },
  {
   "cell_type": "code",
   "execution_count": 39,
   "id": "8390aefb",
   "metadata": {},
   "outputs": [],
   "source": [
    "# porblem is Classification with target 0-9\n",
    "#Call the model of DT\n",
    "from sklearn.tree import DecisionTreeClassifier"
   ]
  },
  {
   "cell_type": "code",
   "execution_count": 40,
   "id": "89db395a",
   "metadata": {},
   "outputs": [
    {
     "data": {
      "text/plain": [
       "DecisionTreeClassifier()"
      ]
     },
     "execution_count": 40,
     "metadata": {},
     "output_type": "execute_result"
    }
   ],
   "source": [
    "model = DecisionTreeClassifier()\n",
    "#lets train the model\n",
    "model.fit(X_train,y_train)"
   ]
  },
  {
   "cell_type": "code",
   "execution_count": 41,
   "id": "d0fa6996",
   "metadata": {},
   "outputs": [
    {
     "data": {
      "text/plain": [
       "100.0"
      ]
     },
     "execution_count": 41,
     "metadata": {},
     "output_type": "execute_result"
    }
   ],
   "source": [
    "#check scorr of training\n",
    "model.score(X_train,y_train)*100"
   ]
  },
  {
   "cell_type": "code",
   "execution_count": 42,
   "id": "b7a92751",
   "metadata": {},
   "outputs": [
    {
     "data": {
      "text/html": [
       "<div>\n",
       "<style scoped>\n",
       "    .dataframe tbody tr th:only-of-type {\n",
       "        vertical-align: middle;\n",
       "    }\n",
       "\n",
       "    .dataframe tbody tr th {\n",
       "        vertical-align: top;\n",
       "    }\n",
       "\n",
       "    .dataframe thead th {\n",
       "        text-align: right;\n",
       "    }\n",
       "</style>\n",
       "<table border=\"1\" class=\"dataframe\">\n",
       "  <thead>\n",
       "    <tr style=\"text-align: right;\">\n",
       "      <th></th>\n",
       "      <th>pixel_0_0</th>\n",
       "      <th>pixel_0_1</th>\n",
       "      <th>pixel_0_2</th>\n",
       "      <th>pixel_0_3</th>\n",
       "      <th>pixel_0_4</th>\n",
       "      <th>pixel_0_5</th>\n",
       "      <th>pixel_0_6</th>\n",
       "      <th>pixel_0_7</th>\n",
       "      <th>pixel_1_0</th>\n",
       "      <th>pixel_1_1</th>\n",
       "      <th>...</th>\n",
       "      <th>pixel_6_6</th>\n",
       "      <th>pixel_6_7</th>\n",
       "      <th>pixel_7_0</th>\n",
       "      <th>pixel_7_1</th>\n",
       "      <th>pixel_7_2</th>\n",
       "      <th>pixel_7_3</th>\n",
       "      <th>pixel_7_4</th>\n",
       "      <th>pixel_7_5</th>\n",
       "      <th>pixel_7_6</th>\n",
       "      <th>pixel_7_7</th>\n",
       "    </tr>\n",
       "  </thead>\n",
       "  <tbody>\n",
       "    <tr>\n",
       "      <th>1416</th>\n",
       "      <td>0.0</td>\n",
       "      <td>0.0</td>\n",
       "      <td>0.0</td>\n",
       "      <td>3.0</td>\n",
       "      <td>15.0</td>\n",
       "      <td>16.0</td>\n",
       "      <td>1.0</td>\n",
       "      <td>0.0</td>\n",
       "      <td>0.0</td>\n",
       "      <td>0.0</td>\n",
       "      <td>...</td>\n",
       "      <td>2.0</td>\n",
       "      <td>0.0</td>\n",
       "      <td>0.0</td>\n",
       "      <td>0.0</td>\n",
       "      <td>0.0</td>\n",
       "      <td>3.0</td>\n",
       "      <td>15.0</td>\n",
       "      <td>13.0</td>\n",
       "      <td>1.0</td>\n",
       "      <td>0.0</td>\n",
       "    </tr>\n",
       "    <tr>\n",
       "      <th>123</th>\n",
       "      <td>0.0</td>\n",
       "      <td>0.0</td>\n",
       "      <td>5.0</td>\n",
       "      <td>14.0</td>\n",
       "      <td>15.0</td>\n",
       "      <td>4.0</td>\n",
       "      <td>0.0</td>\n",
       "      <td>0.0</td>\n",
       "      <td>0.0</td>\n",
       "      <td>0.0</td>\n",
       "      <td>...</td>\n",
       "      <td>1.0</td>\n",
       "      <td>0.0</td>\n",
       "      <td>0.0</td>\n",
       "      <td>0.0</td>\n",
       "      <td>5.0</td>\n",
       "      <td>16.0</td>\n",
       "      <td>16.0</td>\n",
       "      <td>16.0</td>\n",
       "      <td>2.0</td>\n",
       "      <td>0.0</td>\n",
       "    </tr>\n",
       "    <tr>\n",
       "      <th>1429</th>\n",
       "      <td>0.0</td>\n",
       "      <td>0.0</td>\n",
       "      <td>0.0</td>\n",
       "      <td>10.0</td>\n",
       "      <td>12.0</td>\n",
       "      <td>0.0</td>\n",
       "      <td>0.0</td>\n",
       "      <td>0.0</td>\n",
       "      <td>0.0</td>\n",
       "      <td>0.0</td>\n",
       "      <td>...</td>\n",
       "      <td>0.0</td>\n",
       "      <td>0.0</td>\n",
       "      <td>0.0</td>\n",
       "      <td>0.0</td>\n",
       "      <td>0.0</td>\n",
       "      <td>13.0</td>\n",
       "      <td>11.0</td>\n",
       "      <td>0.0</td>\n",
       "      <td>0.0</td>\n",
       "      <td>0.0</td>\n",
       "    </tr>\n",
       "  </tbody>\n",
       "</table>\n",
       "<p>3 rows × 64 columns</p>\n",
       "</div>"
      ],
      "text/plain": [
       "      pixel_0_0  pixel_0_1  pixel_0_2  pixel_0_3  pixel_0_4  pixel_0_5  \\\n",
       "1416        0.0        0.0        0.0        3.0       15.0       16.0   \n",
       "123         0.0        0.0        5.0       14.0       15.0        4.0   \n",
       "1429        0.0        0.0        0.0       10.0       12.0        0.0   \n",
       "\n",
       "      pixel_0_6  pixel_0_7  pixel_1_0  pixel_1_1  ...  pixel_6_6  pixel_6_7  \\\n",
       "1416        1.0        0.0        0.0        0.0  ...        2.0        0.0   \n",
       "123         0.0        0.0        0.0        0.0  ...        1.0        0.0   \n",
       "1429        0.0        0.0        0.0        0.0  ...        0.0        0.0   \n",
       "\n",
       "      pixel_7_0  pixel_7_1  pixel_7_2  pixel_7_3  pixel_7_4  pixel_7_5  \\\n",
       "1416        0.0        0.0        0.0        3.0       15.0       13.0   \n",
       "123         0.0        0.0        5.0       16.0       16.0       16.0   \n",
       "1429        0.0        0.0        0.0       13.0       11.0        0.0   \n",
       "\n",
       "      pixel_7_6  pixel_7_7  \n",
       "1416        1.0        0.0  \n",
       "123         2.0        0.0  \n",
       "1429        0.0        0.0  \n",
       "\n",
       "[3 rows x 64 columns]"
      ]
     },
     "execution_count": 42,
     "metadata": {},
     "output_type": "execute_result"
    }
   ],
   "source": [
    "#go for testing phase\n",
    "X_test[:3]"
   ]
  },
  {
   "cell_type": "code",
   "execution_count": 44,
   "id": "3ee45e91",
   "metadata": {},
   "outputs": [
    {
     "data": {
      "text/plain": [
       "array([9, 1, 4, 0, 1, 7, 9, 4, 4, 9, 3, 7, 7, 8, 3, 5, 5, 2, 1, 2, 0, 1,\n",
       "       8, 3, 8, 4, 0, 3, 3, 5, 2, 3, 4, 2, 7, 1, 6, 3, 7, 4, 1, 3, 4, 5,\n",
       "       9, 9, 6, 9, 4, 8, 5, 1, 8, 6, 5, 6, 1, 1, 8, 8, 5, 6, 5, 3, 4, 6,\n",
       "       1, 2, 4, 6, 9, 4, 7, 5, 0, 6, 8, 7, 7, 0, 2, 8, 2, 3, 1, 4, 8, 3,\n",
       "       7, 6, 6, 5, 7, 8, 8, 8, 4, 1, 8, 7, 2, 8, 8, 3, 3, 6, 6, 1, 8, 5,\n",
       "       7, 3, 7, 5, 8, 4, 4, 2, 0, 6, 8, 5, 3, 3, 4, 5, 3, 9, 4, 0, 7, 9,\n",
       "       0, 2, 9, 1, 8, 8, 9, 5, 8, 7, 4, 1, 2, 2, 4, 5, 5, 0, 0, 1, 3, 4,\n",
       "       0, 1, 1, 5, 0, 6, 6, 6, 5, 6, 2, 0, 5, 9, 3, 8, 7, 5, 2, 3, 7, 3,\n",
       "       7, 2, 9, 0, 0, 4, 2, 1, 0, 2, 6, 2, 4, 3, 3, 0, 9, 2, 3, 8, 8, 8,\n",
       "       1, 9, 2, 4, 7, 5, 1, 5, 1, 3, 2, 5, 8, 5, 3, 8, 0, 6, 5, 3, 7, 8,\n",
       "       2, 4, 8, 3, 2, 4, 4, 7, 9, 0, 3, 4, 3, 0, 7, 1, 5, 5, 9, 6, 4, 5,\n",
       "       3, 9, 4, 9, 1, 8, 9, 6, 8, 2, 6, 7, 5, 7, 4, 1, 5, 0, 9, 9, 9, 3,\n",
       "       2, 4, 4, 6, 1, 2, 6, 2, 6, 6, 7, 6, 7, 5, 0, 1, 4, 5, 0, 4, 8, 0,\n",
       "       2, 0, 8, 7, 9, 6, 6, 7, 9, 0, 5, 0, 4, 3, 0, 2, 3, 7, 4, 2, 3, 1,\n",
       "       0, 9, 7, 5, 1, 1, 9, 9, 9, 0, 9, 3, 7, 8, 9, 6, 3, 9, 9, 6, 7, 9,\n",
       "       3, 9, 2, 0, 5, 7, 7, 1, 1, 8, 4, 8, 6, 7, 7, 8, 6, 3, 3, 8, 5, 7,\n",
       "       2, 9, 2, 0, 9, 7, 9, 1])"
      ]
     },
     "execution_count": 44,
     "metadata": {},
     "output_type": "execute_result"
    }
   ],
   "source": [
    "y_pred = model.predict(X_test)\n",
    "y_pred"
   ]
  },
  {
   "cell_type": "code",
   "execution_count": 45,
   "id": "dd856036",
   "metadata": {},
   "outputs": [
    {
     "data": {
      "text/plain": [
       "1416    1\n",
       "123     8\n",
       "1429    4\n",
       "406     0\n",
       "407     1\n",
       "       ..\n",
       "178     0\n",
       "683     9\n",
       "447     7\n",
       "1772    9\n",
       "387     1\n",
       "Length: 360, dtype: int32"
      ]
     },
     "execution_count": 45,
     "metadata": {},
     "output_type": "execute_result"
    }
   ],
   "source": [
    "y_test"
   ]
  },
  {
   "cell_type": "markdown",
   "id": "6fb5b36f",
   "metadata": {},
   "source": [
    "# Check Accuracy measures/Cost functions/Performance metrics"
   ]
  },
  {
   "cell_type": "code",
   "execution_count": 46,
   "id": "a28f0cdd",
   "metadata": {},
   "outputs": [],
   "source": [
    "from sklearn.metrics import confusion_matrix,accuracy_score,precision_score,recall_score"
   ]
  },
  {
   "cell_type": "markdown",
   "id": "59133b64",
   "metadata": {},
   "source": [
    "# Confusion matrix`"
   ]
  },
  {
   "cell_type": "code",
   "execution_count": 47,
   "id": "7c083fa3",
   "metadata": {},
   "outputs": [
    {
     "data": {
      "text/plain": [
       "array([[27,  0,  0,  0,  1,  1,  0,  0,  0,  0],\n",
       "       [ 0, 23,  1,  0,  1,  0,  0,  0,  1,  1],\n",
       "       [ 0,  1, 25,  1,  0,  0,  1,  0,  7,  3],\n",
       "       [ 0,  1,  1, 30,  1,  0,  0,  0,  0,  3],\n",
       "       [ 1,  2,  1,  1, 33,  1,  0,  1,  0,  0],\n",
       "       [ 0,  0,  1,  2,  0, 34,  0,  0,  1,  3],\n",
       "       [ 0,  0,  0,  0,  0,  0, 32,  0,  0,  0],\n",
       "       [ 1,  0,  0,  3,  0,  1,  0, 36,  0,  0],\n",
       "       [ 3,  3,  2,  1,  1,  0,  0,  1, 29,  1],\n",
       "       [ 0,  3,  2,  2,  0,  0,  0,  0,  1, 27]], dtype=int64)"
      ]
     },
     "execution_count": 47,
     "metadata": {},
     "output_type": "execute_result"
    }
   ],
   "source": [
    "confusion_matrix(y_test,y_pred)"
   ]
  },
  {
   "cell_type": "code",
   "execution_count": 50,
   "id": "edbcbcdd",
   "metadata": {},
   "outputs": [
    {
     "data": {
      "text/html": [
       "<style type=\"text/css\">\n",
       "#T_c3065_row0_col0, #T_c3065_row1_col1, #T_c3065_row2_col2, #T_c3065_row3_col3, #T_c3065_row4_col4, #T_c3065_row5_col5, #T_c3065_row6_col6, #T_c3065_row7_col7, #T_c3065_row8_col8, #T_c3065_row9_col9 {\n",
       "  background-color: #fc7f00;\n",
       "  color: #f1f1f1;\n",
       "}\n",
       "#T_c3065_row0_col1, #T_c3065_row0_col2, #T_c3065_row0_col3, #T_c3065_row0_col6, #T_c3065_row0_col7, #T_c3065_row0_col8, #T_c3065_row0_col9, #T_c3065_row1_col0, #T_c3065_row1_col3, #T_c3065_row1_col5, #T_c3065_row1_col6, #T_c3065_row1_col7, #T_c3065_row2_col0, #T_c3065_row2_col4, #T_c3065_row2_col5, #T_c3065_row2_col7, #T_c3065_row3_col0, #T_c3065_row3_col5, #T_c3065_row3_col6, #T_c3065_row3_col7, #T_c3065_row3_col8, #T_c3065_row4_col6, #T_c3065_row4_col8, #T_c3065_row4_col9, #T_c3065_row5_col0, #T_c3065_row5_col1, #T_c3065_row5_col4, #T_c3065_row5_col6, #T_c3065_row5_col7, #T_c3065_row6_col0, #T_c3065_row6_col1, #T_c3065_row6_col2, #T_c3065_row6_col3, #T_c3065_row6_col4, #T_c3065_row6_col5, #T_c3065_row6_col7, #T_c3065_row6_col8, #T_c3065_row6_col9, #T_c3065_row7_col1, #T_c3065_row7_col2, #T_c3065_row7_col4, #T_c3065_row7_col6, #T_c3065_row7_col8, #T_c3065_row7_col9, #T_c3065_row8_col5, #T_c3065_row8_col6, #T_c3065_row9_col0, #T_c3065_row9_col4, #T_c3065_row9_col5, #T_c3065_row9_col6, #T_c3065_row9_col7 {\n",
       "  background-color: #e4ff7a;\n",
       "  color: #000000;\n",
       "}\n",
       "#T_c3065_row0_col4, #T_c3065_row0_col5, #T_c3065_row1_col4, #T_c3065_row3_col4, #T_c3065_row4_col5, #T_c3065_row4_col7, #T_c3065_row7_col5, #T_c3065_row8_col4, #T_c3065_row8_col7 {\n",
       "  background-color: #e7fc6f;\n",
       "  color: #000000;\n",
       "}\n",
       "#T_c3065_row1_col2, #T_c3065_row3_col2, #T_c3065_row4_col2, #T_c3065_row5_col2 {\n",
       "  background-color: #e8fb6b;\n",
       "  color: #000000;\n",
       "}\n",
       "#T_c3065_row1_col8, #T_c3065_row2_col3, #T_c3065_row2_col6, #T_c3065_row4_col3, #T_c3065_row5_col8, #T_c3065_row8_col3, #T_c3065_row9_col8 {\n",
       "  background-color: #e7fc6e;\n",
       "  color: #000000;\n",
       "}\n",
       "#T_c3065_row1_col9, #T_c3065_row4_col0, #T_c3065_row7_col0, #T_c3065_row8_col9 {\n",
       "  background-color: #e8fc6c;\n",
       "  color: #000000;\n",
       "}\n",
       "#T_c3065_row2_col1, #T_c3065_row3_col1 {\n",
       "  background-color: #e9fb69;\n",
       "  color: #000000;\n",
       "}\n",
       "#T_c3065_row2_col8 {\n",
       "  background-color: #fee91e;\n",
       "  color: #000000;\n",
       "}\n",
       "#T_c3065_row2_col9, #T_c3065_row3_col9, #T_c3065_row5_col9, #T_c3065_row8_col0 {\n",
       "  background-color: #f0f550;\n",
       "  color: #000000;\n",
       "}\n",
       "#T_c3065_row4_col1 {\n",
       "  background-color: #edf759;\n",
       "  color: #000000;\n",
       "}\n",
       "#T_c3065_row5_col3, #T_c3065_row9_col3 {\n",
       "  background-color: #ebf960;\n",
       "  color: #000000;\n",
       "}\n",
       "#T_c3065_row7_col3 {\n",
       "  background-color: #eff654;\n",
       "  color: #000000;\n",
       "}\n",
       "#T_c3065_row8_col1, #T_c3065_row9_col1 {\n",
       "  background-color: #f2f348;\n",
       "  color: #000000;\n",
       "}\n",
       "#T_c3065_row8_col2, #T_c3065_row9_col2 {\n",
       "  background-color: #ecf85c;\n",
       "  color: #000000;\n",
       "}\n",
       "</style>\n",
       "<table id=\"T_c3065_\">\n",
       "  <thead>\n",
       "    <tr>\n",
       "      <th class=\"blank level0\" >&nbsp;</th>\n",
       "      <th class=\"col_heading level0 col0\" >0</th>\n",
       "      <th class=\"col_heading level0 col1\" >1</th>\n",
       "      <th class=\"col_heading level0 col2\" >2</th>\n",
       "      <th class=\"col_heading level0 col3\" >3</th>\n",
       "      <th class=\"col_heading level0 col4\" >4</th>\n",
       "      <th class=\"col_heading level0 col5\" >5</th>\n",
       "      <th class=\"col_heading level0 col6\" >6</th>\n",
       "      <th class=\"col_heading level0 col7\" >7</th>\n",
       "      <th class=\"col_heading level0 col8\" >8</th>\n",
       "      <th class=\"col_heading level0 col9\" >9</th>\n",
       "    </tr>\n",
       "  </thead>\n",
       "  <tbody>\n",
       "    <tr>\n",
       "      <th id=\"T_c3065_level0_row0\" class=\"row_heading level0 row0\" >0</th>\n",
       "      <td id=\"T_c3065_row0_col0\" class=\"data row0 col0\" >27</td>\n",
       "      <td id=\"T_c3065_row0_col1\" class=\"data row0 col1\" >0</td>\n",
       "      <td id=\"T_c3065_row0_col2\" class=\"data row0 col2\" >0</td>\n",
       "      <td id=\"T_c3065_row0_col3\" class=\"data row0 col3\" >0</td>\n",
       "      <td id=\"T_c3065_row0_col4\" class=\"data row0 col4\" >1</td>\n",
       "      <td id=\"T_c3065_row0_col5\" class=\"data row0 col5\" >1</td>\n",
       "      <td id=\"T_c3065_row0_col6\" class=\"data row0 col6\" >0</td>\n",
       "      <td id=\"T_c3065_row0_col7\" class=\"data row0 col7\" >0</td>\n",
       "      <td id=\"T_c3065_row0_col8\" class=\"data row0 col8\" >0</td>\n",
       "      <td id=\"T_c3065_row0_col9\" class=\"data row0 col9\" >0</td>\n",
       "    </tr>\n",
       "    <tr>\n",
       "      <th id=\"T_c3065_level0_row1\" class=\"row_heading level0 row1\" >1</th>\n",
       "      <td id=\"T_c3065_row1_col0\" class=\"data row1 col0\" >0</td>\n",
       "      <td id=\"T_c3065_row1_col1\" class=\"data row1 col1\" >23</td>\n",
       "      <td id=\"T_c3065_row1_col2\" class=\"data row1 col2\" >1</td>\n",
       "      <td id=\"T_c3065_row1_col3\" class=\"data row1 col3\" >0</td>\n",
       "      <td id=\"T_c3065_row1_col4\" class=\"data row1 col4\" >1</td>\n",
       "      <td id=\"T_c3065_row1_col5\" class=\"data row1 col5\" >0</td>\n",
       "      <td id=\"T_c3065_row1_col6\" class=\"data row1 col6\" >0</td>\n",
       "      <td id=\"T_c3065_row1_col7\" class=\"data row1 col7\" >0</td>\n",
       "      <td id=\"T_c3065_row1_col8\" class=\"data row1 col8\" >1</td>\n",
       "      <td id=\"T_c3065_row1_col9\" class=\"data row1 col9\" >1</td>\n",
       "    </tr>\n",
       "    <tr>\n",
       "      <th id=\"T_c3065_level0_row2\" class=\"row_heading level0 row2\" >2</th>\n",
       "      <td id=\"T_c3065_row2_col0\" class=\"data row2 col0\" >0</td>\n",
       "      <td id=\"T_c3065_row2_col1\" class=\"data row2 col1\" >1</td>\n",
       "      <td id=\"T_c3065_row2_col2\" class=\"data row2 col2\" >25</td>\n",
       "      <td id=\"T_c3065_row2_col3\" class=\"data row2 col3\" >1</td>\n",
       "      <td id=\"T_c3065_row2_col4\" class=\"data row2 col4\" >0</td>\n",
       "      <td id=\"T_c3065_row2_col5\" class=\"data row2 col5\" >0</td>\n",
       "      <td id=\"T_c3065_row2_col6\" class=\"data row2 col6\" >1</td>\n",
       "      <td id=\"T_c3065_row2_col7\" class=\"data row2 col7\" >0</td>\n",
       "      <td id=\"T_c3065_row2_col8\" class=\"data row2 col8\" >7</td>\n",
       "      <td id=\"T_c3065_row2_col9\" class=\"data row2 col9\" >3</td>\n",
       "    </tr>\n",
       "    <tr>\n",
       "      <th id=\"T_c3065_level0_row3\" class=\"row_heading level0 row3\" >3</th>\n",
       "      <td id=\"T_c3065_row3_col0\" class=\"data row3 col0\" >0</td>\n",
       "      <td id=\"T_c3065_row3_col1\" class=\"data row3 col1\" >1</td>\n",
       "      <td id=\"T_c3065_row3_col2\" class=\"data row3 col2\" >1</td>\n",
       "      <td id=\"T_c3065_row3_col3\" class=\"data row3 col3\" >30</td>\n",
       "      <td id=\"T_c3065_row3_col4\" class=\"data row3 col4\" >1</td>\n",
       "      <td id=\"T_c3065_row3_col5\" class=\"data row3 col5\" >0</td>\n",
       "      <td id=\"T_c3065_row3_col6\" class=\"data row3 col6\" >0</td>\n",
       "      <td id=\"T_c3065_row3_col7\" class=\"data row3 col7\" >0</td>\n",
       "      <td id=\"T_c3065_row3_col8\" class=\"data row3 col8\" >0</td>\n",
       "      <td id=\"T_c3065_row3_col9\" class=\"data row3 col9\" >3</td>\n",
       "    </tr>\n",
       "    <tr>\n",
       "      <th id=\"T_c3065_level0_row4\" class=\"row_heading level0 row4\" >4</th>\n",
       "      <td id=\"T_c3065_row4_col0\" class=\"data row4 col0\" >1</td>\n",
       "      <td id=\"T_c3065_row4_col1\" class=\"data row4 col1\" >2</td>\n",
       "      <td id=\"T_c3065_row4_col2\" class=\"data row4 col2\" >1</td>\n",
       "      <td id=\"T_c3065_row4_col3\" class=\"data row4 col3\" >1</td>\n",
       "      <td id=\"T_c3065_row4_col4\" class=\"data row4 col4\" >33</td>\n",
       "      <td id=\"T_c3065_row4_col5\" class=\"data row4 col5\" >1</td>\n",
       "      <td id=\"T_c3065_row4_col6\" class=\"data row4 col6\" >0</td>\n",
       "      <td id=\"T_c3065_row4_col7\" class=\"data row4 col7\" >1</td>\n",
       "      <td id=\"T_c3065_row4_col8\" class=\"data row4 col8\" >0</td>\n",
       "      <td id=\"T_c3065_row4_col9\" class=\"data row4 col9\" >0</td>\n",
       "    </tr>\n",
       "    <tr>\n",
       "      <th id=\"T_c3065_level0_row5\" class=\"row_heading level0 row5\" >5</th>\n",
       "      <td id=\"T_c3065_row5_col0\" class=\"data row5 col0\" >0</td>\n",
       "      <td id=\"T_c3065_row5_col1\" class=\"data row5 col1\" >0</td>\n",
       "      <td id=\"T_c3065_row5_col2\" class=\"data row5 col2\" >1</td>\n",
       "      <td id=\"T_c3065_row5_col3\" class=\"data row5 col3\" >2</td>\n",
       "      <td id=\"T_c3065_row5_col4\" class=\"data row5 col4\" >0</td>\n",
       "      <td id=\"T_c3065_row5_col5\" class=\"data row5 col5\" >34</td>\n",
       "      <td id=\"T_c3065_row5_col6\" class=\"data row5 col6\" >0</td>\n",
       "      <td id=\"T_c3065_row5_col7\" class=\"data row5 col7\" >0</td>\n",
       "      <td id=\"T_c3065_row5_col8\" class=\"data row5 col8\" >1</td>\n",
       "      <td id=\"T_c3065_row5_col9\" class=\"data row5 col9\" >3</td>\n",
       "    </tr>\n",
       "    <tr>\n",
       "      <th id=\"T_c3065_level0_row6\" class=\"row_heading level0 row6\" >6</th>\n",
       "      <td id=\"T_c3065_row6_col0\" class=\"data row6 col0\" >0</td>\n",
       "      <td id=\"T_c3065_row6_col1\" class=\"data row6 col1\" >0</td>\n",
       "      <td id=\"T_c3065_row6_col2\" class=\"data row6 col2\" >0</td>\n",
       "      <td id=\"T_c3065_row6_col3\" class=\"data row6 col3\" >0</td>\n",
       "      <td id=\"T_c3065_row6_col4\" class=\"data row6 col4\" >0</td>\n",
       "      <td id=\"T_c3065_row6_col5\" class=\"data row6 col5\" >0</td>\n",
       "      <td id=\"T_c3065_row6_col6\" class=\"data row6 col6\" >32</td>\n",
       "      <td id=\"T_c3065_row6_col7\" class=\"data row6 col7\" >0</td>\n",
       "      <td id=\"T_c3065_row6_col8\" class=\"data row6 col8\" >0</td>\n",
       "      <td id=\"T_c3065_row6_col9\" class=\"data row6 col9\" >0</td>\n",
       "    </tr>\n",
       "    <tr>\n",
       "      <th id=\"T_c3065_level0_row7\" class=\"row_heading level0 row7\" >7</th>\n",
       "      <td id=\"T_c3065_row7_col0\" class=\"data row7 col0\" >1</td>\n",
       "      <td id=\"T_c3065_row7_col1\" class=\"data row7 col1\" >0</td>\n",
       "      <td id=\"T_c3065_row7_col2\" class=\"data row7 col2\" >0</td>\n",
       "      <td id=\"T_c3065_row7_col3\" class=\"data row7 col3\" >3</td>\n",
       "      <td id=\"T_c3065_row7_col4\" class=\"data row7 col4\" >0</td>\n",
       "      <td id=\"T_c3065_row7_col5\" class=\"data row7 col5\" >1</td>\n",
       "      <td id=\"T_c3065_row7_col6\" class=\"data row7 col6\" >0</td>\n",
       "      <td id=\"T_c3065_row7_col7\" class=\"data row7 col7\" >36</td>\n",
       "      <td id=\"T_c3065_row7_col8\" class=\"data row7 col8\" >0</td>\n",
       "      <td id=\"T_c3065_row7_col9\" class=\"data row7 col9\" >0</td>\n",
       "    </tr>\n",
       "    <tr>\n",
       "      <th id=\"T_c3065_level0_row8\" class=\"row_heading level0 row8\" >8</th>\n",
       "      <td id=\"T_c3065_row8_col0\" class=\"data row8 col0\" >3</td>\n",
       "      <td id=\"T_c3065_row8_col1\" class=\"data row8 col1\" >3</td>\n",
       "      <td id=\"T_c3065_row8_col2\" class=\"data row8 col2\" >2</td>\n",
       "      <td id=\"T_c3065_row8_col3\" class=\"data row8 col3\" >1</td>\n",
       "      <td id=\"T_c3065_row8_col4\" class=\"data row8 col4\" >1</td>\n",
       "      <td id=\"T_c3065_row8_col5\" class=\"data row8 col5\" >0</td>\n",
       "      <td id=\"T_c3065_row8_col6\" class=\"data row8 col6\" >0</td>\n",
       "      <td id=\"T_c3065_row8_col7\" class=\"data row8 col7\" >1</td>\n",
       "      <td id=\"T_c3065_row8_col8\" class=\"data row8 col8\" >29</td>\n",
       "      <td id=\"T_c3065_row8_col9\" class=\"data row8 col9\" >1</td>\n",
       "    </tr>\n",
       "    <tr>\n",
       "      <th id=\"T_c3065_level0_row9\" class=\"row_heading level0 row9\" >9</th>\n",
       "      <td id=\"T_c3065_row9_col0\" class=\"data row9 col0\" >0</td>\n",
       "      <td id=\"T_c3065_row9_col1\" class=\"data row9 col1\" >3</td>\n",
       "      <td id=\"T_c3065_row9_col2\" class=\"data row9 col2\" >2</td>\n",
       "      <td id=\"T_c3065_row9_col3\" class=\"data row9 col3\" >2</td>\n",
       "      <td id=\"T_c3065_row9_col4\" class=\"data row9 col4\" >0</td>\n",
       "      <td id=\"T_c3065_row9_col5\" class=\"data row9 col5\" >0</td>\n",
       "      <td id=\"T_c3065_row9_col6\" class=\"data row9 col6\" >0</td>\n",
       "      <td id=\"T_c3065_row9_col7\" class=\"data row9 col7\" >0</td>\n",
       "      <td id=\"T_c3065_row9_col8\" class=\"data row9 col8\" >1</td>\n",
       "      <td id=\"T_c3065_row9_col9\" class=\"data row9 col9\" >27</td>\n",
       "    </tr>\n",
       "  </tbody>\n",
       "</table>\n"
      ],
      "text/plain": [
       "<pandas.io.formats.style.Styler at 0x251cc4eaf70>"
      ]
     },
     "execution_count": 50,
     "metadata": {},
     "output_type": "execute_result"
    }
   ],
   "source": [
    "pd.DataFrame(confusion_matrix(y_test,y_pred)).style.background_gradient('Wistia')"
   ]
  },
  {
   "cell_type": "code",
   "execution_count": 53,
   "id": "bbba999e",
   "metadata": {
    "scrolled": true
   },
   "outputs": [
    {
     "data": {
      "text/plain": [
       "38"
      ]
     },
     "execution_count": 53,
     "metadata": {},
     "output_type": "execute_result"
    }
   ],
   "source": [
    "(y_test == 2).sum()"
   ]
  },
  {
   "cell_type": "code",
   "execution_count": 54,
   "id": "b788066d",
   "metadata": {},
   "outputs": [],
   "source": [
    "cm = confusion_matrix(y_test,y_pred)"
   ]
  },
  {
   "cell_type": "code",
   "execution_count": 63,
   "id": "97f99ea8",
   "metadata": {},
   "outputs": [
    {
     "data": {
      "text/plain": [
       "<AxesSubplot:>"
      ]
     },
     "execution_count": 63,
     "metadata": {},
     "output_type": "execute_result"
    },
    {
     "data": {
      "image/png": "[encoded data removed]",
      "text/plain": [
       "<Figure size 720x432 with 2 Axes>"
      ]
     },
     "metadata": {
      "needs_background": "light"
     },
     "output_type": "display_data"
    }
   ],
   "source": [
    "import seaborn as sns\n",
    "plt.figure(figsize=(10,6))\n",
    "\n",
    "sns.heatmap(cm,annot=True,cmap='rainbow')"
   ]
  },
  {
   "cell_type": "markdown",
   "id": "57767472",
   "metadata": {},
   "source": [
    "# Accuracy score"
   ]
  },
  {
   "cell_type": "code",
   "execution_count": 66,
   "id": "569741e6",
   "metadata": {},
   "outputs": [
    {
     "name": "stdout",
     "output_type": "stream",
     "text": [
      "Accuracy of Model: 82.22222222222221\n"
     ]
    }
   ],
   "source": [
    "print('Accuracy of Model:',accuracy_score(y_test,y_pred)*100)"
   ]
  },
  {
   "cell_type": "markdown",
   "id": "05ce7fe7",
   "metadata": {},
   "source": [
    "# Precision"
   ]
  },
  {
   "cell_type": "code",
   "execution_count": 71,
   "id": "73e18151",
   "metadata": {},
   "outputs": [
    {
     "data": {
      "text/plain": [
       "82.68171410852332"
      ]
     },
     "execution_count": 71,
     "metadata": {},
     "output_type": "execute_result"
    }
   ],
   "source": [
    "precision_score(y_test,y_pred,average='weighted')*100"
   ]
  },
  {
   "cell_type": "markdown",
   "id": "55f6d44c",
   "metadata": {},
   "source": [
    "# Recall"
   ]
  },
  {
   "cell_type": "code",
   "execution_count": 72,
   "id": "7e1cfb56",
   "metadata": {},
   "outputs": [
    {
     "data": {
      "text/plain": [
       "82.22222222222221"
      ]
     },
     "execution_count": 72,
     "metadata": {},
     "output_type": "execute_result"
    }
   ],
   "source": [
    "recall_score(y_test,y_pred,average='weighted')*100"
   ]
  },
  {
   "cell_type": "markdown",
   "id": "80e03e04",
   "metadata": {},
   "source": [
    "# f1 score"
   ]
  },
  {
   "cell_type": "code",
   "execution_count": 73,
   "id": "dc1be47d",
   "metadata": {},
   "outputs": [],
   "source": [
    "from sklearn.metrics import f1_score"
   ]
  },
  {
   "cell_type": "code",
   "execution_count": 74,
   "id": "79a1c413",
   "metadata": {},
   "outputs": [
    {
     "data": {
      "text/plain": [
       "82.24256751747139"
      ]
     },
     "execution_count": 74,
     "metadata": {},
     "output_type": "execute_result"
    }
   ],
   "source": [
    "f1_score(y_test,y_pred,average='weighted')*100"
   ]
  },
  {
   "cell_type": "markdown",
   "id": "549dca32",
   "metadata": {},
   "source": [
    "# classification report: it combines all accuracy measures"
   ]
  },
  {
   "cell_type": "code",
   "execution_count": 75,
   "id": "20f798a2",
   "metadata": {},
   "outputs": [],
   "source": [
    "from sklearn.metrics import classification_report"
   ]
  },
  {
   "cell_type": "code",
   "execution_count": 78,
   "id": "9beacb08",
   "metadata": {},
   "outputs": [
    {
     "name": "stdout",
     "output_type": "stream",
     "text": [
      "              precision    recall  f1-score   support\n",
      "\n",
      "           0       0.84      0.93      0.89        29\n",
      "           1       0.70      0.85      0.77        27\n",
      "           2       0.76      0.66      0.70        38\n",
      "           3       0.75      0.83      0.79        36\n",
      "           4       0.89      0.82      0.86        40\n",
      "           5       0.92      0.83      0.87        41\n",
      "           6       0.97      1.00      0.98        32\n",
      "           7       0.95      0.88      0.91        41\n",
      "           8       0.74      0.71      0.72        41\n",
      "           9       0.71      0.77      0.74        35\n",
      "\n",
      "    accuracy                           0.82       360\n",
      "   macro avg       0.82      0.83      0.82       360\n",
      "weighted avg       0.83      0.82      0.82       360\n",
      "\n"
     ]
    }
   ],
   "source": [
    "print(classification_report(y_test,y_pred))"
   ]
  },
  {
   "cell_type": "code",
   "execution_count": null,
   "id": "9a8f1b01",
   "metadata": {},
   "outputs": [],
   "source": [
    "# Interview questions:\n",
    "Which one is important precision,recall or f1_score??\n",
    "xplain all with example.\n",
    "Formulas of all\n",
    "What is confusion matrix\n",
    "How to read Confusion matrix\n",
    "What is accuracy,precision,recall of your model(project)\n",
    "In ur project what is important precision or recall??\n",
    "How to increase precision or recall?\n",
    "if precision is less and recall in high then what is conclusion?? and vice versa??\n",
    "On which basis we can say our model is good???\n",
    "How you decided the performance measures???"
   ]
  }
 ],
 "metadata": {
  "kernelspec": {
   "display_name": "Python 3 (ipykernel)",
   "language": "python",
   "name": "python3"
  },
  "language_info": {
   "codemirror_mode": {
    "name": "ipython",
    "version": 3
   },
   "file_extension": ".py",
   "mimetype": "text/x-python",
   "name": "python",
   "nbconvert_exporter": "python",
   "pygments_lexer": "ipython3",
   "version": "3.9.7"
  }
 },
 "nbformat": 4,
 "nbformat_minor": 5
}
