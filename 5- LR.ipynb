{
 "cells": [
  {
   "cell_type": "raw",
   "id": "6afe85b7",
   "metadata": {},
   "source": [
    "  x       y       x-x\"      y-y\"       (x-x\")*2         (x-x\")(y-y\")\n",
    "  1       3       -2       -0.6           4                 1.2\n",
    "  2       4       -1        0.4           1                -0.4\n",
    "  3       2        0       -1.6           0                  0\n",
    "  4       4        1        0.4           1                 0.4\n",
    "  5       5        2        1.4           4                 2.8\n",
    " \n",
    " x\"=3   y\"=3.6                          sum=10             sum=4                      \n",
    " mean   mean\n",
    " \n",
    " m(slope) = sum((x-x\")(y-y\")) / sum((x-x\")*2)\n",
    "          = 4/10 = 0.4\n",
    " \n",
    " equation of line -:   y = mx + c\n",
    "                     3.6 = 0.4*3 + c\n",
    "                     c = 2.4\n",
    "                     "
   ]
  },
  {
   "cell_type": "markdown",
   "id": "53ee68cc",
   "metadata": {},
   "source": [
    "# y = mx  + c"
   ]
  },
  {
   "cell_type": "code",
   "execution_count": 1,
   "id": "9e443db8",
   "metadata": {},
   "outputs": [],
   "source": [
    "m = 0.4"
   ]
  },
  {
   "cell_type": "code",
   "execution_count": 2,
   "id": "b55eed95",
   "metadata": {},
   "outputs": [
    {
     "data": {
      "text/plain": [
       "0.4"
      ]
     },
     "execution_count": 2,
     "metadata": {},
     "output_type": "execute_result"
    }
   ],
   "source": [
    "m"
   ]
  },
  {
   "cell_type": "code",
   "execution_count": 3,
   "id": "7b4b2ddb",
   "metadata": {},
   "outputs": [],
   "source": [
    "x = 3 #mean of X\n",
    "y = 3.6 #mean of y"
   ]
  },
  {
   "cell_type": "code",
   "execution_count": 4,
   "id": "a58f5f2f",
   "metadata": {},
   "outputs": [
    {
     "data": {
      "text/plain": [
       "2.4"
      ]
     },
     "execution_count": 4,
     "metadata": {},
     "output_type": "execute_result"
    }
   ],
   "source": [
    "# y = mx + c\n",
    "# c = y - mx\n",
    "y - (m*x)"
   ]
  },
  {
   "cell_type": "markdown",
   "id": "ca8ed195",
   "metadata": {},
   "source": [
    "## Now u have 2 values: m & c"
   ]
  },
  {
   "cell_type": "code",
   "execution_count": 5,
   "id": "17248be0",
   "metadata": {},
   "outputs": [
    {
     "data": {
      "text/plain": [
       "0.4"
      ]
     },
     "execution_count": 5,
     "metadata": {},
     "output_type": "execute_result"
    }
   ],
   "source": [
    "m"
   ]
  },
  {
   "cell_type": "code",
   "execution_count": 7,
   "id": "09d6d791",
   "metadata": {},
   "outputs": [
    {
     "data": {
      "text/plain": [
       "2.4"
      ]
     },
     "execution_count": 7,
     "metadata": {},
     "output_type": "execute_result"
    }
   ],
   "source": [
    "c = y - (m*x)\n",
    "c"
   ]
  },
  {
   "cell_type": "code",
   "execution_count": null,
   "id": "ebf223f4",
   "metadata": {},
   "outputs": [],
   "source": [
    "y_pred = .4 *x_new + 2.4"
   ]
  },
  {
   "cell_type": "code",
   "execution_count": 8,
   "id": "1699520e",
   "metadata": {},
   "outputs": [
    {
     "data": {
      "text/plain": [
       "4.800000000000001"
      ]
     },
     "execution_count": 8,
     "metadata": {},
     "output_type": "execute_result"
    }
   ],
   "source": [
    "# now do the prediction for x = 6\n",
    "m * 6 + c"
   ]
  },
  {
   "cell_type": "code",
   "execution_count": 9,
   "id": "eec51baa",
   "metadata": {},
   "outputs": [
    {
     "data": {
      "text/plain": [
       "4.0"
      ]
     },
     "execution_count": 9,
     "metadata": {},
     "output_type": "execute_result"
    }
   ],
   "source": [
    "#check for x = 4\n",
    "m * 4 + c\n",
    "# actual is 4 and predicted is also 4"
   ]
  },
  {
   "cell_type": "code",
   "execution_count": 10,
   "id": "1611821d",
   "metadata": {},
   "outputs": [
    {
     "data": {
      "text/plain": [
       "3.6"
      ]
     },
     "execution_count": 10,
     "metadata": {},
     "output_type": "execute_result"
    }
   ],
   "source": [
    "#check for x = 3\n",
    "m * 3 + c\n",
    "# actual is 2 and predicted is also 3.6"
   ]
  },
  {
   "cell_type": "code",
   "execution_count": 11,
   "id": "d05b8657",
   "metadata": {},
   "outputs": [
    {
     "data": {
      "text/plain": [
       "-1.6"
      ]
     },
     "execution_count": 11,
     "metadata": {},
     "output_type": "execute_result"
    }
   ],
   "source": [
    "2 - 3.6 #error  =  actual  - predicted"
   ]
  },
  {
   "cell_type": "markdown",
   "id": "559768dd",
   "metadata": {},
   "source": [
    "# Lets start with Linear regression implementation"
   ]
  },
  {
   "cell_type": "code",
   "execution_count": null,
   "id": "b8234a62",
   "metadata": {},
   "outputs": [],
   "source": [
    "# When we have proper data, in order to use ML follow the below steps:\n",
    "- Call Algorithm from sklearn library\n",
    "Example: from sklearn.linear_model import LinearRegression\n",
    "    \n",
    "- Create an object of LinearRegression class\n",
    "Example: model = LinearRegression()\n",
    "    \n",
    "- Training Phase: using input and output train the algorithm\n",
    "    Example:\n",
    "        model.fit(input,ouput)\n",
    "        \n",
    "        Once we do the training, it gives m(slope) and c(intercept) values\n",
    "- Testing Phase: we give the new input to get predicted value from testing \n",
    "    Exmplel:\n",
    "        model.predict(test_X)\n",
    "        \n",
    "- Accuracy check: of input data\n",
    "    Example:\n",
    "        model.score(input,output)\n",
    "- If we have good accuracy then no issue but if we have bad accuracy then \n",
    "  we have to try for hyperparameter tunning"
   ]
  },
  {
   "cell_type": "code",
   "execution_count": 12,
   "id": "ceaa6da2",
   "metadata": {},
   "outputs": [
    {
     "data": {
      "text/plain": [
       "[[1], [2], [3], [4], [5]]"
      ]
     },
     "execution_count": 12,
     "metadata": {},
     "output_type": "execute_result"
    }
   ],
   "source": [
    "# Your input data must be in 2D form \n",
    "X = [[1],[2],[3],[4],[5]] #input/independant variable\n",
    "X"
   ]
  },
  {
   "cell_type": "code",
   "execution_count": 13,
   "id": "b831b042",
   "metadata": {},
   "outputs": [
    {
     "data": {
      "text/plain": [
       "[3, 4, 2, 4, 5]"
      ]
     },
     "execution_count": 13,
     "metadata": {},
     "output_type": "execute_result"
    }
   ],
   "source": [
    "y = [3,4,2,4,5] #output/dependant variable\n",
    "y"
   ]
  },
  {
   "cell_type": "markdown",
   "id": "de03740f",
   "metadata": {},
   "source": [
    "# import algorithm"
   ]
  },
  {
   "cell_type": "code",
   "execution_count": 14,
   "id": "48f858e0",
   "metadata": {},
   "outputs": [],
   "source": [
    "from sklearn.linear_model import LinearRegression"
   ]
  },
  {
   "cell_type": "markdown",
   "id": "929c696c",
   "metadata": {},
   "source": [
    "# Create an object "
   ]
  },
  {
   "cell_type": "code",
   "execution_count": 15,
   "id": "f6b1dc3d",
   "metadata": {},
   "outputs": [],
   "source": [
    "model = LinearRegression()"
   ]
  },
  {
   "cell_type": "markdown",
   "id": "0fda633b",
   "metadata": {},
   "source": [
    "# Training phase"
   ]
  },
  {
   "cell_type": "code",
   "execution_count": 17,
   "id": "2fd69f07",
   "metadata": {},
   "outputs": [
    {
     "ename": "AttributeError",
     "evalue": "'LinearRegression' object has no attribute 'intercept_'",
     "output_type": "error",
     "traceback": [
      "\u001b[1;31m---------------------------------------------------------------------------\u001b[0m",
      "\u001b[1;31mAttributeError\u001b[0m                            Traceback (most recent call last)",
      "\u001b[1;32m~\\AppData\\Local\\Temp/ipykernel_8944/1428701946.py\u001b[0m in \u001b[0;36m<module>\u001b[1;34m\u001b[0m\n\u001b[1;32m----> 1\u001b[1;33m \u001b[0mmodel\u001b[0m\u001b[1;33m.\u001b[0m\u001b[0mintercept_\u001b[0m \u001b[1;31m#it wont give bcz we hv nt trained algorithm,after training this will be available\u001b[0m\u001b[1;33m\u001b[0m\u001b[1;33m\u001b[0m\u001b[0m\n\u001b[0m",
      "\u001b[1;31mAttributeError\u001b[0m: 'LinearRegression' object has no attribute 'intercept_'"
     ]
    }
   ],
   "source": [
    "model.intercept_ #it wont give bcz we hv nt trained algorithm,after training this will be available"
   ]
  },
  {
   "cell_type": "code",
   "execution_count": 18,
   "id": "e8081f1a",
   "metadata": {},
   "outputs": [
    {
     "data": {
      "text/plain": [
       "LinearRegression()"
      ]
     },
     "execution_count": 18,
     "metadata": {},
     "output_type": "execute_result"
    }
   ],
   "source": [
    "model.fit(X,y)"
   ]
  },
  {
   "cell_type": "code",
   "execution_count": 19,
   "id": "f411b761",
   "metadata": {},
   "outputs": [
    {
     "data": {
      "text/plain": [
       "2.4"
      ]
     },
     "execution_count": 19,
     "metadata": {},
     "output_type": "execute_result"
    }
   ],
   "source": [
    "# now check inetrcept\n",
    "model.intercept_"
   ]
  },
  {
   "cell_type": "code",
   "execution_count": 20,
   "id": "cbe15971",
   "metadata": {},
   "outputs": [
    {
     "data": {
      "text/plain": [
       "array([0.4])"
      ]
     },
     "execution_count": 20,
     "metadata": {},
     "output_type": "execute_result"
    }
   ],
   "source": [
    "# check slope m\n",
    "model.coef_"
   ]
  },
  {
   "cell_type": "markdown",
   "id": "a7a24385",
   "metadata": {},
   "source": [
    "# Testing"
   ]
  },
  {
   "cell_type": "code",
   "execution_count": 22,
   "id": "04c30222",
   "metadata": {},
   "outputs": [
    {
     "data": {
      "text/plain": [
       "array([4.8])"
      ]
     },
     "execution_count": 22,
     "metadata": {},
     "output_type": "execute_result"
    }
   ],
   "source": [
    "# for input x =  6 check y\n",
    "model.predict([[6]])"
   ]
  },
  {
   "cell_type": "code",
   "execution_count": 23,
   "id": "d695a051",
   "metadata": {},
   "outputs": [
    {
     "data": {
      "text/plain": [
       "array([3.6])"
      ]
     },
     "execution_count": 23,
     "metadata": {},
     "output_type": "execute_result"
    }
   ],
   "source": [
    "# for input x =  3 check y\n",
    "model.predict([[3]])"
   ]
  },
  {
   "cell_type": "code",
   "execution_count": 24,
   "id": "b39074e2",
   "metadata": {},
   "outputs": [
    {
     "data": {
      "text/plain": [
       "array([2.8, 3.2, 3.6, 4. , 4.4])"
      ]
     },
     "execution_count": 24,
     "metadata": {},
     "output_type": "execute_result"
    }
   ],
   "source": [
    "#lets supply total input X\n",
    "model.predict(X)"
   ]
  },
  {
   "cell_type": "code",
   "execution_count": 26,
   "id": "74622298",
   "metadata": {},
   "outputs": [
    {
     "data": {
      "text/plain": [
       "[3, 4, 2, 4, 5]"
      ]
     },
     "execution_count": 26,
     "metadata": {},
     "output_type": "execute_result"
    }
   ],
   "source": [
    "y #actual output"
   ]
  },
  {
   "cell_type": "code",
   "execution_count": 27,
   "id": "86d854c2",
   "metadata": {},
   "outputs": [
    {
     "data": {
      "text/plain": [
       "[[1], [2], [3], [4], [5]]"
      ]
     },
     "execution_count": 27,
     "metadata": {},
     "output_type": "execute_result"
    }
   ],
   "source": [
    "X"
   ]
  },
  {
   "cell_type": "code",
   "execution_count": 28,
   "id": "a5164b96",
   "metadata": {},
   "outputs": [],
   "source": [
    "import pandas as pd"
   ]
  },
  {
   "cell_type": "code",
   "execution_count": 31,
   "id": "c5719320",
   "metadata": {},
   "outputs": [
    {
     "data": {
      "text/html": [
       "<div>\n",
       "<style scoped>\n",
       "    .dataframe tbody tr th:only-of-type {\n",
       "        vertical-align: middle;\n",
       "    }\n",
       "\n",
       "    .dataframe tbody tr th {\n",
       "        vertical-align: top;\n",
       "    }\n",
       "\n",
       "    .dataframe thead th {\n",
       "        text-align: right;\n",
       "    }\n",
       "</style>\n",
       "<table border=\"1\" class=\"dataframe\">\n",
       "  <thead>\n",
       "    <tr style=\"text-align: right;\">\n",
       "      <th></th>\n",
       "      <th>Input[X]</th>\n",
       "    </tr>\n",
       "  </thead>\n",
       "  <tbody>\n",
       "    <tr>\n",
       "      <th>0</th>\n",
       "      <td>1</td>\n",
       "    </tr>\n",
       "    <tr>\n",
       "      <th>1</th>\n",
       "      <td>2</td>\n",
       "    </tr>\n",
       "    <tr>\n",
       "      <th>2</th>\n",
       "      <td>3</td>\n",
       "    </tr>\n",
       "    <tr>\n",
       "      <th>3</th>\n",
       "      <td>4</td>\n",
       "    </tr>\n",
       "    <tr>\n",
       "      <th>4</th>\n",
       "      <td>5</td>\n",
       "    </tr>\n",
       "  </tbody>\n",
       "</table>\n",
       "</div>"
      ],
      "text/plain": [
       "   Input[X]\n",
       "0         1\n",
       "1         2\n",
       "2         3\n",
       "3         4\n",
       "4         5"
      ]
     },
     "execution_count": 31,
     "metadata": {},
     "output_type": "execute_result"
    }
   ],
   "source": [
    "# create datafrme of Input[x],actual_output[y],predicted_output[y_pred]\n",
    "df = pd.DataFrame(X,columns=['Input[X]'])\n",
    "df"
   ]
  },
  {
   "cell_type": "code",
   "execution_count": 32,
   "id": "992a8c74",
   "metadata": {},
   "outputs": [],
   "source": [
    "df['Actual_output[y]'] = y"
   ]
  },
  {
   "cell_type": "code",
   "execution_count": 33,
   "id": "b302ff13",
   "metadata": {},
   "outputs": [
    {
     "data": {
      "text/html": [
       "<div>\n",
       "<style scoped>\n",
       "    .dataframe tbody tr th:only-of-type {\n",
       "        vertical-align: middle;\n",
       "    }\n",
       "\n",
       "    .dataframe tbody tr th {\n",
       "        vertical-align: top;\n",
       "    }\n",
       "\n",
       "    .dataframe thead th {\n",
       "        text-align: right;\n",
       "    }\n",
       "</style>\n",
       "<table border=\"1\" class=\"dataframe\">\n",
       "  <thead>\n",
       "    <tr style=\"text-align: right;\">\n",
       "      <th></th>\n",
       "      <th>Input[X]</th>\n",
       "      <th>Actual_output[y]</th>\n",
       "    </tr>\n",
       "  </thead>\n",
       "  <tbody>\n",
       "    <tr>\n",
       "      <th>0</th>\n",
       "      <td>1</td>\n",
       "      <td>3</td>\n",
       "    </tr>\n",
       "    <tr>\n",
       "      <th>1</th>\n",
       "      <td>2</td>\n",
       "      <td>4</td>\n",
       "    </tr>\n",
       "    <tr>\n",
       "      <th>2</th>\n",
       "      <td>3</td>\n",
       "      <td>2</td>\n",
       "    </tr>\n",
       "    <tr>\n",
       "      <th>3</th>\n",
       "      <td>4</td>\n",
       "      <td>4</td>\n",
       "    </tr>\n",
       "    <tr>\n",
       "      <th>4</th>\n",
       "      <td>5</td>\n",
       "      <td>5</td>\n",
       "    </tr>\n",
       "  </tbody>\n",
       "</table>\n",
       "</div>"
      ],
      "text/plain": [
       "   Input[X]  Actual_output[y]\n",
       "0         1                 3\n",
       "1         2                 4\n",
       "2         3                 2\n",
       "3         4                 4\n",
       "4         5                 5"
      ]
     },
     "execution_count": 33,
     "metadata": {},
     "output_type": "execute_result"
    }
   ],
   "source": [
    "df"
   ]
  },
  {
   "cell_type": "code",
   "execution_count": null,
   "id": "2fcc4ea7",
   "metadata": {},
   "outputs": [],
   "source": [
    "# add predicted_output[y_pred]"
   ]
  },
  {
   "cell_type": "code",
   "execution_count": 34,
   "id": "c90c2de1",
   "metadata": {},
   "outputs": [],
   "source": [
    "y_pred = model.predict(X)"
   ]
  },
  {
   "cell_type": "code",
   "execution_count": 35,
   "id": "debaa353",
   "metadata": {},
   "outputs": [
    {
     "data": {
      "text/plain": [
       "array([2.8, 3.2, 3.6, 4. , 4.4])"
      ]
     },
     "execution_count": 35,
     "metadata": {},
     "output_type": "execute_result"
    }
   ],
   "source": [
    "y_pred"
   ]
  },
  {
   "cell_type": "code",
   "execution_count": 36,
   "id": "076dd4bc",
   "metadata": {},
   "outputs": [],
   "source": [
    "df['predicted_output[y_pred]'] = y_pred"
   ]
  },
  {
   "cell_type": "code",
   "execution_count": 37,
   "id": "b8336647",
   "metadata": {},
   "outputs": [
    {
     "data": {
      "text/html": [
       "<div>\n",
       "<style scoped>\n",
       "    .dataframe tbody tr th:only-of-type {\n",
       "        vertical-align: middle;\n",
       "    }\n",
       "\n",
       "    .dataframe tbody tr th {\n",
       "        vertical-align: top;\n",
       "    }\n",
       "\n",
       "    .dataframe thead th {\n",
       "        text-align: right;\n",
       "    }\n",
       "</style>\n",
       "<table border=\"1\" class=\"dataframe\">\n",
       "  <thead>\n",
       "    <tr style=\"text-align: right;\">\n",
       "      <th></th>\n",
       "      <th>Input[X]</th>\n",
       "      <th>Actual_output[y]</th>\n",
       "      <th>predicted_output[y_pred]</th>\n",
       "    </tr>\n",
       "  </thead>\n",
       "  <tbody>\n",
       "    <tr>\n",
       "      <th>0</th>\n",
       "      <td>1</td>\n",
       "      <td>3</td>\n",
       "      <td>2.8</td>\n",
       "    </tr>\n",
       "    <tr>\n",
       "      <th>1</th>\n",
       "      <td>2</td>\n",
       "      <td>4</td>\n",
       "      <td>3.2</td>\n",
       "    </tr>\n",
       "    <tr>\n",
       "      <th>2</th>\n",
       "      <td>3</td>\n",
       "      <td>2</td>\n",
       "      <td>3.6</td>\n",
       "    </tr>\n",
       "    <tr>\n",
       "      <th>3</th>\n",
       "      <td>4</td>\n",
       "      <td>4</td>\n",
       "      <td>4.0</td>\n",
       "    </tr>\n",
       "    <tr>\n",
       "      <th>4</th>\n",
       "      <td>5</td>\n",
       "      <td>5</td>\n",
       "      <td>4.4</td>\n",
       "    </tr>\n",
       "  </tbody>\n",
       "</table>\n",
       "</div>"
      ],
      "text/plain": [
       "   Input[X]  Actual_output[y]  predicted_output[y_pred]\n",
       "0         1                 3                       2.8\n",
       "1         2                 4                       3.2\n",
       "2         3                 2                       3.6\n",
       "3         4                 4                       4.0\n",
       "4         5                 5                       4.4"
      ]
     },
     "execution_count": 37,
     "metadata": {},
     "output_type": "execute_result"
    }
   ],
   "source": [
    "df"
   ]
  },
  {
   "cell_type": "code",
   "execution_count": 38,
   "id": "a02a3f88",
   "metadata": {},
   "outputs": [],
   "source": [
    "# Create 4th column for error = Actual - predicted\n",
    "df['Error'] = df['Actual_output[y]'] - df['predicted_output[y_pred]']"
   ]
  },
  {
   "cell_type": "code",
   "execution_count": 39,
   "id": "f910ab13",
   "metadata": {},
   "outputs": [
    {
     "data": {
      "text/html": [
       "<div>\n",
       "<style scoped>\n",
       "    .dataframe tbody tr th:only-of-type {\n",
       "        vertical-align: middle;\n",
       "    }\n",
       "\n",
       "    .dataframe tbody tr th {\n",
       "        vertical-align: top;\n",
       "    }\n",
       "\n",
       "    .dataframe thead th {\n",
       "        text-align: right;\n",
       "    }\n",
       "</style>\n",
       "<table border=\"1\" class=\"dataframe\">\n",
       "  <thead>\n",
       "    <tr style=\"text-align: right;\">\n",
       "      <th></th>\n",
       "      <th>Input[X]</th>\n",
       "      <th>Actual_output[y]</th>\n",
       "      <th>predicted_output[y_pred]</th>\n",
       "      <th>Error</th>\n",
       "    </tr>\n",
       "  </thead>\n",
       "  <tbody>\n",
       "    <tr>\n",
       "      <th>0</th>\n",
       "      <td>1</td>\n",
       "      <td>3</td>\n",
       "      <td>2.8</td>\n",
       "      <td>0.2</td>\n",
       "    </tr>\n",
       "    <tr>\n",
       "      <th>1</th>\n",
       "      <td>2</td>\n",
       "      <td>4</td>\n",
       "      <td>3.2</td>\n",
       "      <td>0.8</td>\n",
       "    </tr>\n",
       "    <tr>\n",
       "      <th>2</th>\n",
       "      <td>3</td>\n",
       "      <td>2</td>\n",
       "      <td>3.6</td>\n",
       "      <td>-1.6</td>\n",
       "    </tr>\n",
       "    <tr>\n",
       "      <th>3</th>\n",
       "      <td>4</td>\n",
       "      <td>4</td>\n",
       "      <td>4.0</td>\n",
       "      <td>0.0</td>\n",
       "    </tr>\n",
       "    <tr>\n",
       "      <th>4</th>\n",
       "      <td>5</td>\n",
       "      <td>5</td>\n",
       "      <td>4.4</td>\n",
       "      <td>0.6</td>\n",
       "    </tr>\n",
       "  </tbody>\n",
       "</table>\n",
       "</div>"
      ],
      "text/plain": [
       "   Input[X]  Actual_output[y]  predicted_output[y_pred]  Error\n",
       "0         1                 3                       2.8    0.2\n",
       "1         2                 4                       3.2    0.8\n",
       "2         3                 2                       3.6   -1.6\n",
       "3         4                 4                       4.0    0.0\n",
       "4         5                 5                       4.4    0.6"
      ]
     },
     "execution_count": 39,
     "metadata": {},
     "output_type": "execute_result"
    }
   ],
   "source": [
    "df"
   ]
  },
  {
   "cell_type": "markdown",
   "id": "71217331",
   "metadata": {},
   "source": [
    "# Check accuracy"
   ]
  },
  {
   "cell_type": "code",
   "execution_count": 40,
   "id": "7eb26145",
   "metadata": {},
   "outputs": [
    {
     "data": {
      "text/plain": [
       "30.76923076923078"
      ]
     },
     "execution_count": 40,
     "metadata": {},
     "output_type": "execute_result"
    }
   ],
   "source": [
    "# From above df we can say, we have error at each row except one\n",
    "# so lets check accuracy of training data\n",
    "model.score(X,y)*100"
   ]
  },
  {
   "cell_type": "code",
   "execution_count": 42,
   "id": "48fd683a",
   "metadata": {},
   "outputs": [
    {
     "data": {
      "text/plain": [
       "[<matplotlib.lines.Line2D at 0x16a7d2b5fa0>]"
      ]
     },
     "execution_count": 42,
     "metadata": {},
     "output_type": "execute_result"
    },
    {
     "data": {
      "image/png": "[encoded data removed]",
      "text/plain": [
       "<Figure size 432x288 with 1 Axes>"
      ]
     },
     "metadata": {
      "needs_background": "light"
     },
     "output_type": "display_data"
    }
   ],
   "source": [
    "import matplotlib.pyplot as plt\n",
    "plt.scatter(X,y)\n",
    "plt.plot(X,y_pred,color= 'r')"
   ]
  },
  {
   "cell_type": "code",
   "execution_count": 44,
   "id": "c8e0f105",
   "metadata": {},
   "outputs": [
    {
     "data": {
      "text/plain": [
       "<AxesSubplot:>"
      ]
     },
     "execution_count": 44,
     "metadata": {},
     "output_type": "execute_result"
    },
    {
     "data": {
      "image/png": "[encoded data removed]",
      "text/plain": [
       "<Figure size 432x288 with 1 Axes>"
      ]
     },
     "metadata": {
      "needs_background": "light"
     },
     "output_type": "display_data"
    }
   ],
   "source": [
    "df['Input[X]'].plot(kind='box')"
   ]
  },
  {
   "cell_type": "code",
   "execution_count": 45,
   "id": "10bb9bd3",
   "metadata": {},
   "outputs": [
    {
     "data": {
      "text/plain": [
       "[[1], [2], [3], [4], [5]]"
      ]
     },
     "execution_count": 45,
     "metadata": {},
     "output_type": "execute_result"
    }
   ],
   "source": [
    "X"
   ]
  },
  {
   "cell_type": "code",
   "execution_count": 46,
   "id": "3ea7482a",
   "metadata": {},
   "outputs": [
    {
     "data": {
      "text/plain": [
       "[3, 4, 2, 4, 5]"
      ]
     },
     "execution_count": 46,
     "metadata": {},
     "output_type": "execute_result"
    }
   ],
   "source": [
    "y"
   ]
  },
  {
   "cell_type": "code",
   "execution_count": 47,
   "id": "4b7c3e9d",
   "metadata": {},
   "outputs": [
    {
     "data": {
      "text/plain": [
       "80.0"
      ]
     },
     "execution_count": 47,
     "metadata": {},
     "output_type": "execute_result"
    }
   ],
   "source": [
    "# now lets skip entry of 3,2\n",
    "X = [[1], [2], [4], [5]]\n",
    "y = [3, 4, 4, 5]\n",
    "model.fit(X,y)\n",
    "model.score(X,y)*100"
   ]
  },
  {
   "cell_type": "code",
   "execution_count": null,
   "id": "36f67b34",
   "metadata": {},
   "outputs": [],
   "source": []
  }
 ],
 "metadata": {
  "kernelspec": {
   "display_name": "Python 3 (ipykernel)",
   "language": "python",
   "name": "python3"
  },
  "language_info": {
   "codemirror_mode": {
    "name": "ipython",
    "version": 3
   },
   "file_extension": ".py",
   "mimetype": "text/x-python",
   "name": "python",
   "nbconvert_exporter": "python",
   "pygments_lexer": "ipython3",
   "version": "3.9.7"
  }
 },
 "nbformat": 4,
 "nbformat_minor": 5
}
